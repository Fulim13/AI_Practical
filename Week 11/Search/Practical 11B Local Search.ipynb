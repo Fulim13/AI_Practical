{
 "cells": [
  {
   "cell_type": "markdown",
   "metadata": {},
   "source": [
    "# Practical 11-2: Informed Search\n",
    "\n",
    "## 1.1 The 8-Puzzle Problem\n",
    "\n",
    "▪ **8-puzzle** is a sliding puzzle that consists of a frame of 8 square tiles in random order with one tile missing. \n",
    "\n",
    "<img src=\"child_nodes.png\" width=\"600\">\n",
    "\n",
    "▪ It is a classical problem for modelling algorithms involving **heuristics** (or additional information about the estimate distance from the current state to the goal)."
   ]
  },
  {
   "cell_type": "markdown",
   "metadata": {},
   "source": [
    "### 1.1.1 Solving an 8-Puzzle Problem\n",
    "\n",
    "▪ Provided an initial state, which could be a random configuration of the positions of the tiles, the **empty space** has to be moved one step at a time to arrive to state equals to the goal state."
   ]
  },
  {
   "cell_type": "markdown",
   "metadata": {},
   "source": [
    "![](8puzzle.png)"
   ]
  },
  {
   "cell_type": "markdown",
   "metadata": {},
   "source": [
    "### 1.1.2 Problem Solving Steps\n",
    "\n",
    "▪ **Step 1**: Get the current state.\n",
    "\n",
    "▪ **Step 2**: Find the available moves and their cost.\n",
    "\n",
    "▪ **Step 3**: Choose the move with the least cost and set it as the current state.\n",
    "\n",
    "▪ **Step 4**: Check if it matches the goal state. If yes, then terminate, else, move to step 1."
   ]
  },
  {
   "cell_type": "markdown",
   "metadata": {},
   "source": [
    "### 1.1.3 Solution: State Representation\n",
    "\n",
    "▪ To setup the eight-puzzle, we need to formulate its' state space in terms of: 1) **StartNode**, 2) **GoalNode**, 3) **PreviousNode**, 4) **Fringe**, and 5) **Parent**.\n",
    "\n",
    "▪ All of these can be represented using the attributes of an object (e.g., an object of class Puzzle).\n",
    "\n",
    "▪ A single dimension (1D) list can be used to represent the states instead of using a two dimensional (2D) list where '0' indicates empty space. \n",
    "\n",
    "▪ **StartNode** represents the actual puzzle as shown below:\n",
    "\n",
    "                                The default StartNode = ['1','2','3','4','5','6','0','7','8']\n",
    "\n",
    "<img src=\"1d.jpg\" width=\"150\">"
   ]
  },
  {
   "cell_type": "code",
   "execution_count": null,
   "metadata": {},
   "outputs": [],
   "source": [
    "class Puzzle:\n",
    "    def __init__(self):\n",
    "        self.start_node = ['1', '2', '3', '4', '5', '6', '0', '7', '8'] # Default, h(n) = 8\n",
    "        self.goal_node = ['1', '2', '3', '4', '5', '6', '7', '8', '0']  # default, h(n) = 0\n",
    "        self.previous_node = []  # To store the expanded nodes\n",
    "        self.fringe = []         # To store the leaf nodes (or to be expanded nodes)\n",
    "        self.parent = []"
   ]
  },
  {
   "cell_type": "markdown",
   "metadata": {},
   "source": [
    "### 1.1.4 Solution: The Successor Function\n",
    "\n",
    "▪ The states (or next move) are generated with the use of the **successor** function.\n",
    "\n",
    "<img src=\"successors.jpg\" width=\"600\">\n",
    "\n",
    "▪ Four if-blocks are used to generated all possible successors depending on the location of the tile '0'.\n",
    "\n",
    "▪ For instance, if '0' is at top-most and left-most location, then there will be 2 successors, where as if '0' is at the bottom-most and middle location, then there will be 3 successors."
   ]
  },
  {
   "cell_type": "code",
   "execution_count": null,
   "metadata": {},
   "outputs": [],
   "source": [
    "    # Successor function where self refers to the object that calls this function\n",
    "    def successor(self, node = [], search = 'sahc'):\n",
    "\n",
    "        sub_node = [] # It is a list to store a child node at a later stage temporarily \n",
    "        p = [] \n",
    "        c = [] \n",
    "        \n",
    "        # To get the location of the empty tile '0' which begins from 1 and end at 9\n",
    "        get_zero_location = node.index('0') + 1 \n",
    "        \n",
    "        # To join node to the end of sub_node with node \n",
    "        sub_node.extend(node[0:-1]) \n",
    "        \n",
    "        # To determine the left/right boundaries of the empty tile '0'\n",
    "        boundary = self.boundaries(get_zero_location)\n",
    "        \n",
    "        # To join node list to the end of p with the entire node\n",
    "        p.extend(node)\n",
    "        \n",
    "        if search == 'sahc':\n",
    "            # Without this line turns the search to best first search because SAHC only looks at the surrounding nodes\n",
    "            self.fringe = [] \n",
    "        else:\n",
    "            pass\n",
    "        \n",
    "        # If the empty tile is at the top 2 rows, then move the empty tile DOWN\n",
    "        if get_zero_location + 3 <= 9:\n",
    "            c = [] \n",
    "            \n",
    "            # Swap the location of 2 tiles\n",
    "            temp = sub_node[node.index('0')] \n",
    "            sub_node[node.index('0')] = sub_node[node.index('0') + 3] \n",
    "            sub_node[node.index('0') + 3] = temp \n",
    "            \n",
    "            # To join node to the end of c with node (excluding its last item)\n",
    "            c.extend(self.heuristic(sub_node))\n",
    "            \n",
    "            # Add the child node c to the fringe (which is also the frontier) to be expanded later \n",
    "            self.fringe.append(c)\n",
    "            \n",
    "            # Reprocess sub_node before it is processed in the following if-block\n",
    "            sub_node = [] \n",
    "            sub_node.extend(node[0:-1])\n",
    "            \n",
    "            # Create a tuple with a pair of child and parent\n",
    "            cp = (c, p)           \n",
    "            if (cp not in self.parent):\n",
    "                self.parent.append(cp)\n",
    "        \n",
    "        # If the empty tile is at the bottom 2 rows, then move the empty tile UP\n",
    "        if get_zero_location - 3 >= 1: \n",
    "            c = []\n",
    "            \n",
    "            temp = sub_node[node.index('0')]\n",
    "            sub_node[node.index('0')] = sub_node[node.index('0') - 3]\n",
    "            sub_node[node.index('0') - 3] = temp\n",
    "            \n",
    "            c.extend(self.heuristic(sub_node))            \n",
    "            self.fringe.append(c)\n",
    "            \n",
    "            sub_node = []\n",
    "            sub_node.extend(node[0:-1])\n",
    "            \n",
    "            cp = (c, p)            \n",
    "            if (cp not in self.parent):\n",
    "                self.parent.append(cp)\n",
    "        \n",
    "        # If the empty tile is on the last 2 columns, then move the empty tile LEFT\n",
    "        if get_zero_location - 1 >= boundary[0]: \n",
    "            c = []\n",
    "            \n",
    "            temp = sub_node[node.index('0')]\n",
    "            sub_node[node.index('0')] = sub_node[node.index('0') - 1]\n",
    "            sub_node[node.index('0') - 1] = temp\n",
    "            \n",
    "            c.extend(self.heuristic(sub_node))\n",
    "            self.fringe.append(c)\n",
    "            \n",
    "            sub_node = []\n",
    "            sub_node.extend(node[0:-1])\n",
    "            \n",
    "            cp = (c,p)\n",
    "            if(cp not in self.parent):\n",
    "                self.parent.append(cp)\n",
    "        \n",
    "        # If the empty tile is on the first 2 columns, then move the empty tile RIGHT\n",
    "        if get_zero_location + 1 <= boundary[1]: \n",
    "            c = []\n",
    "            \n",
    "            temp = sub_node[node.index('0')]\n",
    "            sub_node[node.index('0')] = sub_node[node.index('0') + 1]\n",
    "            sub_node[node.index('0') + 1] = temp\n",
    "            \n",
    "            c.extend(self.heuristic(sub_node))\n",
    "            self.fringe.append(c)\n",
    "            \n",
    "            sub_node = []\n",
    "            sub_node.extend(node[0:-1])\n",
    "            \n",
    "            cp = (c,p)\n",
    "            if(cp not in self.parent):\n",
    "                self.parent.append(cp)"
   ]
  },
  {
   "cell_type": "markdown",
   "metadata": {},
   "source": [
    "### 1.1.5 Solution: The Boundaries Function\n",
    "\n",
    "▪ The **boundaries** function can be used to find the left and right boundary of '0' which helps in identifying relevant moves (e.g., left or right).\n",
    "\n",
    "▪ For instance, if '0' is at middle or right column, then **left** is one possible move (or successor). "
   ]
  },
  {
   "cell_type": "code",
   "execution_count": null,
   "metadata": {},
   "outputs": [],
   "source": [
    "    # location holds the location of the empty tile '0'\n",
    "    def boundaries(self, location): \n",
    "        \n",
    "        # location of each tile in the puzzle (assumption: the first location = 1 but not 0)\n",
    "        rows = [[1, 2, 3], [4, 5, 6], [7, 8, 9]] \n",
    "        \n",
    "        low = 0\n",
    "        high = 0\n",
    "        \n",
    "        # To determine the left/right boundaries of the empty tile '0' \n",
    "        for i in rows:  \n",
    "            if location in i: \n",
    "                low = i[0] \n",
    "                high = i[2] \n",
    "                break\n",
    "        \n",
    "        return [low, high]"
   ]
  },
  {
   "cell_type": "markdown",
   "metadata": {},
   "source": [
    "### 1.1.6 Solution: The Heuristic Function\n",
    "\n",
    "▪ In this example, a simple heuristic is used to calculate the cost of a possible move.\n",
    "\n",
    "▪ The heuristic function is implemented by counting the number of misplaced tiles.\n",
    "\n",
    "▪ Therefore, a goal state should have heuristic cost equals to 0, and a state with a lower heuristic cost is a better option than a state with higher heuristics cost."
   ]
  },
  {
   "cell_type": "code",
   "execution_count": null,
   "metadata": {},
   "outputs": [],
   "source": [
    "    # The heuristic function is used to calculate the number of misplaced_tile as the cost\n",
    "    def heuristic(self, node):\n",
    "        misplaced_tile = 0\n",
    "        \n",
    "        for i in range(9):\n",
    "            # Compare the tile between the current node and the goal_node location by location\n",
    "            if node[i] != self.goal_node[i]:\n",
    "                # If the tile is misplaced, increase the value one\n",
    "                misplaced_tile += 1 \n",
    "        \n",
    "        # Append the heuristic cost to the last place of node\n",
    "        node.append(misplaced_tile) \n",
    "        \n",
    "        return node"
   ]
  },
  {
   "cell_type": "markdown",
   "metadata": {},
   "source": [
    "### 1.1.7 Solution: The PrintSolution Function\n",
    "\n",
    "▪ The **print_solution()** function prints the solution path from the start node to the goal node."
   ]
  },
  {
   "cell_type": "code",
   "execution_count": null,
   "metadata": {},
   "outputs": [],
   "source": [
    "    # Functions to display output by showing how to yield the solution by observing the expanded nodes\n",
    "    def print_solution_steps(self):\n",
    "        count = 1\n",
    "        for i in self.previous_node:\n",
    "            print(\"step \", count, i[0:-1], \"(\", i[-1], \")\")\n",
    "            count += 1\n",
    "        \n",
    "    # To show the final path\n",
    "    def print_solution(self):\n",
    "        goal = self.goal_node\n",
    "        path_list = [goal] \n",
    "        \n",
    "        self.parent.reverse()      \n",
    "        \n",
    "        # This loop will append parent of a node to path_list beginning from goal until root\n",
    "        for i in self.parent:  \n",
    "            child, parent = i  \n",
    "            \n",
    "            # If the first node is the goal node\n",
    "            if(child == goal): \n",
    "                goal = parent \n",
    "                path_list.append(goal) \n",
    "            # Stop when reach the start_node (the end of the list)    \n",
    "            if parent == self.start_node:\n",
    "                break\n",
    "        \n",
    "        # Reverse the path list so that it begins with the start_node\n",
    "        path_list.reverse() \n",
    "        \n",
    "        count = 0\n",
    "        for node in path_list:\n",
    "            print(\"LEVEL\", count, \":\", node[0:-1], \"(\", node[-1], \")\")\n",
    "            count += 1"
   ]
  },
  {
   "cell_type": "markdown",
   "metadata": {},
   "source": [
    "### 1.1.8 Solution: Putting All Together\n",
    "\n",
    "▪ The successor function generates all possible next moves. \n",
    "\n",
    "▪ The boundaries function determines what possible moves can be generated.\n",
    "\n",
    "▪ The heuristic function determines the quality of a possible move.\n",
    "\n",
    "▪ The print_solution() function generates the solution path.\n",
    "\n",
    "▪ Search algorithms are needed to look for an optimal solution for the 8-puzzle problem:\n",
    "\n",
    "\\>>> **Steepest ascent hill climbing search** or **Hill Climbing**\n",
    "\n",
    "\\>>> **Greedy-best first search**"
   ]
  },
  {
   "cell_type": "markdown",
   "metadata": {},
   "source": [
    "## 1.2 Steepest Ascent Hill Climbing (SAHC)\n",
    "\n",
    "▪ **Steepest ascent hill climbing** is a local search strategy.\n",
    "\n",
    "▪ It tries to improve the current state by looking for the best immediate neighbors as the next move.\n",
    "\n",
    "<img src=\"ashc.png\" width=\"700\">\n",
    "\n",
    "▪ Thus, unlike greedy best first search, it does not have to maintain a search tree or the complete set frontiers."
   ]
  },
  {
   "cell_type": "markdown",
   "metadata": {},
   "source": [
    "### 1.2.1 The Steepest Ascent Hill Climbing Algorithm\n",
    "\n",
    "▪ The **steepest_ascent_hill_climbing function** controls the loop of the generation of successors until a goal node is found.\n",
    "\n",
    "▪ The **SAHC function** compares the heuristic cost of the current node with the heuristic cost of all successors to identify the best one as the next move. \n",
    "\n",
    "▪ If the heuristic cost equals 0, then a goal node has been found.\n",
    "\n",
    "![](hillclimbing.png)"
   ]
  },
  {
   "cell_type": "markdown",
   "metadata": {},
   "source": [
    "### 1.2.2 Implementation: steepest_ascent_hill_climbing()"
   ]
  },
  {
   "cell_type": "code",
   "execution_count": null,
   "metadata": {},
   "outputs": [],
   "source": [
    "    def steepest_ascent_hill_climbing(self):\n",
    "        print(\"STEEPEST ASCENT HILL CLIMBING\\n\" + \"_\"*60 + \"\\n\")\n",
    "        level = 0\n",
    "        \n",
    "        # The following two lines will add the heuristic cost to the end of the list\n",
    "        current_node = self.heuristic(self.start_node) \n",
    "        goal_node = self.heuristic(self.goal_node)\n",
    "        \n",
    "        # Check if the goal state is achieved or not, if not, generate child nodes from the current node\n",
    "        if current_node != goal_node:\n",
    "            print(\"---------\", \"\\nLEVEL\", level, \"\\n---------\")\n",
    "            self.successor(current_node) \n",
    "            level += 1 \n",
    "  \n",
    "        print(\"CURRENT NODE:\")\n",
    "        print(current_node)\n",
    "        print(\"\\nOPEN LIST:\")\n",
    "        for i in self.fringe:\n",
    "            print(i) \n",
    "        \n",
    "        # Pass the current heuristic cost as the argument by accessing the last element of the node\n",
    "        nx_node = self.SAHC(current_node[-1])\n",
    "        \n",
    "        # This loop begins from the child node of the ultimate first node, until either a goal node is found or no solution is found         \n",
    "        while nx_node != [] and current_node != goalNode and current_node != nx_node:\n",
    "            current_node = nx_node\n",
    "            \n",
    "            print(\"\\n---------\", \"\\nLEVEL\", level, \"\\n---------\")\n",
    "            self.successor(current_node)\n",
    "            level += 1\n",
    "            \n",
    "            print(\"CURRENT NODE:\")\n",
    "            print(current_node)\n",
    "            print(\"\\nOPEN LIST:\")\n",
    "            for i in self.fringe:\n",
    "                print(i)\n",
    "            \n",
    "            nx_node = self.SAHC(current_node[-1])\n",
    "            \n",
    "            # Goal node is found, break out of the loop to stop generating child node\n",
    "            if nx_node[-1] == 0:\n",
    "                break        \n",
    "\n",
    "        if nx_node != []:\n",
    "            print()\n",
    "            print(\"-\" * 63)\n",
    "            print(\"Goal Path (The best path)\")\n",
    "            print(\"-\" * 63)\n",
    "            self.print_solution()\n",
    "        else:\n",
    "            print(\"LOCAL MAXIMUM: There is no solution\")"
   ]
  },
  {
   "cell_type": "markdown",
   "metadata": {},
   "source": [
    "### 1.2.3 Implementation: SAHC()"
   ]
  },
  {
   "cell_type": "code",
   "execution_count": null,
   "metadata": {},
   "outputs": [],
   "source": [
    "    # This function will return the best move as the next move (from all choices in the frontier)\n",
    "    def SAHC(self, hr_cost):\n",
    "        nx_node = [] \n",
    "        is_better = False\n",
    "        \n",
    "        # Loop through frontier to search for the best successor based on hr_cost (the lower the better)\n",
    "        while True:   \n",
    "            for i in self.fringe: \n",
    "                if (i[-1] < hr_cost): \n",
    "                    hr_cost = i[-1]  \n",
    "                    nx_node = i   \n",
    "                    is_better = True \n",
    "            \n",
    "            # if the best successor is chosen but it has already been chosen in the past...\n",
    "            if nx_node in self.previous_node and nx_node in self.fringe:\n",
    "                self.fringe.remove(nx_node) \n",
    "            # if the best successor is available and it is not in the previous_node list\n",
    "            elif nx_node != []:\n",
    "                if nx_node[-1] == 0:\n",
    "                    print(\"\\nSolution:\", nx_node)\n",
    "                else:\n",
    "                    print(\"\\nSelected:\", nx_node)\n",
    "                \n",
    "                self.previous_node.append(nx_node)\n",
    "                \n",
    "                return nx_node \n",
    "            # if the best successor is not available            \n",
    "            else:\n",
    "                if is_better == False:\n",
    "                    print(\"\\nThere is no better move\")\n",
    "                return nx_node"
   ]
  },
  {
   "cell_type": "markdown",
   "metadata": {},
   "source": [
    "### 1.2.5 Execution of Search Strategy\n",
    "\n",
    "▪ Now let’s try to run the code as in the EightPuzzle.py. \n",
    "\n",
    "▪ Before it can be executed, we need to first import the module.\n",
    "\n",
    "▪ The code has a default configuration for the StartNode, **random.shuffle()** can be used to reshuffle the order of the tiles."
   ]
  },
  {
   "cell_type": "markdown",
   "metadata": {},
   "source": [
    "### 1.2.6 Test Run \\#1\n",
    "\n",
    "▪ StartNode = ['1', '2', '3', '4', '5', '6', '0', '7', '8'] # Default, h(n) = 3\n",
    "\n",
    "▪ GoalNode = ['1', '2', '3', '4', '5', '6', '7', '8', '0']  # default, h(n) = 0\n",
    "\n",
    "▪ Import a specific class (e.g., Puzzle) from one file using the import command\n",
    "\n",
    "https://www.entechin.com/how-to-import-a-class-from-another-file-in-python/"
   ]
  },
  {
   "cell_type": "code",
   "execution_count": null,
   "metadata": {},
   "outputs": [],
   "source": [
    "import random\n",
    "from EightPuzzle import Puzzle\n",
    "\n",
    "puzzle8 = Puzzle()\n",
    "puzzle8.steepestAscentHillClimbing()"
   ]
  },
  {
   "cell_type": "markdown",
   "metadata": {},
   "source": [
    "### 1.2.7 Test Run \\#1: Explanation\n",
    "\n",
    "▪ Import multiple classes from one file using the import command (e.g., assuming that there are two classes in EightPuzzle.py)\n",
    "\n",
    "https://www.entechin.com/how-to-import-a-class-from-another-file-in-python/"
   ]
  },
  {
   "cell_type": "code",
   "execution_count": null,
   "metadata": {},
   "outputs": [],
   "source": [
    "import random\n",
    "import EightPuzzle\n",
    "\n",
    "p8 = EightPuzzle.Puzzle()\n",
    "p8.steepestAscentHillClimbing()"
   ]
  },
  {
   "cell_type": "markdown",
   "metadata": {},
   "source": [
    "### 1.2.8 Test Run \\#2\n",
    "\n",
    "▪ StartNode = any randomly generated configuration\n",
    "\n",
    "▪ GoalNode = ['1', '2', '3', '4', '5', '6', '7', '8', '0']  # default, h(n) = 0\n",
    "\n",
    "▪ Expected outcome of the test run:\n",
    "\n",
    "\\>>> SAHC does not guarantee completeness as shown above\n",
    "\n",
    "\\>>> For most of the time, after expanded the current node in level 1 or 2, there will be no better move in the open list (or frontier), and hence no node is selected. \n",
    "\n",
    "▪ Obviously a local maximum problem exists..."
   ]
  },
  {
   "cell_type": "code",
   "execution_count": null,
   "metadata": {},
   "outputs": [],
   "source": [
    "import random\n",
    "from EightPuzzle import Puzzle\n",
    "\n",
    "p8 = Puzzle()\n",
    "random.shuffle(p8.StartNode)\n",
    "p8.steepestAscentHillClimbing()"
   ]
  },
  {
   "cell_type": "markdown",
   "metadata": {},
   "source": [
    "### 1.2.9 Pop Quiz: Which type of local maximum problem exists in the hill climbing search above?\n",
    "\n",
    "![](localmaxima.png)\n",
    "\n",
    "▪ **Shoulder** ==> Plateaux (A flat area of the state-space landscape)\n",
    "\n",
    "▪ **Local maximum**\n",
    "\n",
    "▪ **Flat local maximum** ==> Plateaux (A flat area of the state-space landscape)\n",
    "\n",
    "▪ **Ridges** \n",
    "\n",
    "\\>>> A ridge is a special kind of local maxima with sequences of local maxima not directly connected to each other.\n",
    "\n",
    "\\>>> In other words, at the peak, every neighbor appears to be downhill, but in fact the search space has an uphill moves (which is after the downhill move)"
   ]
  },
  {
   "cell_type": "markdown",
   "metadata": {},
   "source": [
    "## 1.3 Best First Search\n",
    "\n",
    "### 1.3.1 An Introduction to Best First Search\n",
    "\n",
    "▪ Unlike SAHC, **best first search** would backtrack when the current path does not seem promising anymore. \n",
    "\n",
    "▪ In order to be able to do so, it has to keep track of all successors in the frontier, both immediate and non-immediate ones.\n",
    "\n",
    "<img src=\"bfs.png\" width=\"500\">"
   ]
  },
  {
   "cell_type": "markdown",
   "metadata": {},
   "source": [
    "### 1.3.2 Best First Search Algorithm\n",
    "\n",
    "▪ Here is the general algorithm of a greedy-best first search:\n",
    "\n",
    "\\>>> Select node for expansion with minimal evaluation function f(n) where f(n) is some function that includes the estimate heuristic h(n) of the remaining distance to goal, i.e. f(n) = h(n)\n",
    "\n",
    "\\>>> Implement using priority queue, i.e. expand the best node in the open list (regardless the parent’s heuristic cost)"
   ]
  },
  {
   "cell_type": "markdown",
   "metadata": {},
   "source": [
    "### 1.3.3 Implementation: best_first_search()"
   ]
  },
  {
   "cell_type": "code",
   "execution_count": null,
   "metadata": {},
   "outputs": [],
   "source": [
    "    def best_first_solve(self):\n",
    "        \n",
    "        print(\"GREEDY BEST FIRST SEARCH\\n\" + \"_\"*60 +\"\\n\")\n",
    "        count = 0\n",
    "        \n",
    "        # The following two lines will add the heuristic cost to the end of the list\n",
    "        current_node = self.heuristic(self.start_node)\n",
    "        goal_node = self.heuristic(self.goal_node) # Check this!\n",
    "        \n",
    "        # To generate all successors, the 2nd argument will replace the default value of sahc\n",
    "        self.successor(current_node,'bfs') \n",
    "        \n",
    "        print(\"\\n---------\", \"\\nSTEP:\", count, \"\\n---------\")\n",
    "        print(\"Current Node:\", current_node)\n",
    "        print(\"\\nOpen List:\", self.fringe) \n",
    "        \n",
    "        nx_node = self.best_first_search()\n",
    "        count += 1\n",
    "        \n",
    "        while nx_node != [] and nx_node != goal_node and nx_node != current_node:\n",
    "            current_node = nx_node\n",
    "            print(\"\\n---------\", \"\\nSTEP:\", count, \"\\n---------\")\n",
    "            print(\"Current Node:\", current_node)\n",
    "            print(\"\\nOpen List:\", self.fringe) # to display open nodes\n",
    "            self.successor(nx_node,'bfs')      # to generate next successor states\n",
    "            nx_node = self.best_first_search() # search next best node\n",
    "            count += 1                         # go to next step\n",
    "       \n",
    "        print(\"Final Goal:\", nx_node, \"\\n\")    # print the final goal\n",
    "        print(\"-\"*60, \"\\nHow the nodes are expanded\\n\", \"-\"*60)\n",
    "        self.print_solution_steps()\n",
    "       \n",
    "        print(\"\\n\", \"-\"*60)\n",
    "        \n",
    "        print(\"Initial State:\", self.start_node)\n",
    "        print(\"Goal State:\", self.goal_node)\n",
    "        print(\"\\nGoal Path (the best path)\")\n",
    "        print(\"-\"*60)\n",
    "        self.print_solution()\n",
    "\n",
    "    # Best first seach will select child node with the lowest heuristic cost from the fringe nodes\n",
    "    def best_first_search(self):\n",
    "        nx_node = [] \n",
    "        while True:\n",
    "            # The default value set for heuristic cost, the highest cost is still lower than this value\n",
    "            hr_cost = 100000\n",
    "            \n",
    "            for i in self.fringe:     # For each open node in the fringe list\n",
    "                if (i[-1] < hr_cost): # The heuristic cost is the last member\n",
    "                    hr_cost = i[-1]   # Update heuristic cost\n",
    "                    nx_node = i       # Set the best node to temporary node\n",
    "            \n",
    "            # If the temporary node is already in the previous_node list\n",
    "            if nx_node in self.previous_node and nx_node in self.fringe:\n",
    "                self.fringe.remove(nx_node) # Remove the temporary node from the open list\n",
    "            # If it is not in the previous_node list  \n",
    "            else:\n",
    "                self.previous_node.append(nx_node) # Add the temporary node to previous_node list\n",
    "                return nx_node  # Return the next node"
   ]
  },
  {
   "cell_type": "markdown",
   "metadata": {},
   "source": [
    "### 1.3.4 Test Run \\#1\n",
    "\n",
    "▪ StartNode = ['1', '2', '3', '4', '5', '6', '0', '7', '8'] # Default, h(n) = 3\n",
    "\n",
    "▪ GoalNode = ['1', '2', '3', '4', '5', '6', '7', '8', '0']  # default, h(n) = 0"
   ]
  },
  {
   "cell_type": "code",
   "execution_count": null,
   "metadata": {},
   "outputs": [],
   "source": [
    "import random\n",
    "from EightPuzzle import Puzzle\n",
    "\n",
    "p8 = Puzzle()\n",
    "p8.bestFirstSolve()"
   ]
  },
  {
   "cell_type": "markdown",
   "metadata": {},
   "source": [
    "### 1.3.5 Test Run \\#2\n",
    "\n",
    "▪ StartNode = any randomly generated configuration\n",
    "\n",
    "▪ GoalNode = ['1', '2', '3', '4', '5', '6', '7', '8', '0']  # default, h(n) = 0"
   ]
  },
  {
   "cell_type": "code",
   "execution_count": null,
   "metadata": {},
   "outputs": [],
   "source": [
    "import random\n",
    "from EightPuzzle import Puzzle\n",
    "\n",
    "p8 = Puzzle()\n",
    "random.shuffle(p8.StartNode)\n",
    "p8.bestFirstSolve()"
   ]
  },
  {
   "cell_type": "markdown",
   "metadata": {},
   "source": [
    "## 1.4 Exercise\n",
    "\n",
    "### 1.4.1 Question \\#1\n",
    "\n",
    "▪ Add a **simpleHillClimbing** function to the code in **EightPuzzle.py** to get a path that reaches the goal state from the start state. \n",
    "\n",
    "▪ Then call and run the **simpleHillClimbing** function in **heuristic_search.py**. \n",
    "\n",
    "▪ Check whether the algorithm could guarantee completeness and optimality."
   ]
  },
  {
   "cell_type": "markdown",
   "metadata": {},
   "source": [
    "### 1.4.2 Question \\#2\n",
    "\n",
    "▪ Modify the code in **EightPuzzle.py** by adding the **aStar (A*)** function to the code in **EightPuzzle.py** to get the optimal solution from start node to the goal (Remark: Back up the **EightPuzzle.py** before doing any modification). \n",
    "\n",
    "▪ Add another function called **functionHeuristic** (i.e. f(n)) so that f(n) = h(n) + g(n), where g(n) = the cost (so far) to reach the node from the start node. \n",
    "\n",
    "▪ Similar to the **greedy-best first search**, however you shall append the f(n) to the node instead of h(n) as shown in the heuristic function. \n",
    "\n",
    "▪ Then call and run the **aStar** function in **heuristic_search.py** and observe the space complexity and time complexity of the algorithm."
   ]
  }
 ],
 "metadata": {
  "kernelspec": {
   "display_name": "Python 3 (ipykernel)",
   "language": "python",
   "name": "python3"
  },
  "language_info": {
   "codemirror_mode": {
    "name": "ipython",
    "version": 3
   },
   "file_extension": ".py",
   "mimetype": "text/x-python",
   "name": "python",
   "nbconvert_exporter": "python",
   "pygments_lexer": "ipython3",
   "version": "3.10.9"
  }
 },
 "nbformat": 4,
 "nbformat_minor": 2
}
