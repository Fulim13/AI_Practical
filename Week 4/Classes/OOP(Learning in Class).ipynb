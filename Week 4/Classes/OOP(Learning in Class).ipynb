{
 "cells": [
  {
   "cell_type": "code",
   "execution_count": 120,
   "id": "9c6b9ff6",
   "metadata": {},
   "outputs": [],
   "source": [
    "class Fish:\n",
    "    pass"
   ]
  },
  {
   "cell_type": "code",
   "execution_count": 121,
   "id": "a50a3277",
   "metadata": {},
   "outputs": [],
   "source": [
    "class Fish(object):\n",
    "    pass"
   ]
  },
  {
   "cell_type": "code",
   "execution_count": 122,
   "id": "0383dfcb",
   "metadata": {},
   "outputs": [],
   "source": [
    "fish_1 = Fish()"
   ]
  },
  {
   "cell_type": "code",
   "execution_count": 123,
   "id": "92de16a4",
   "metadata": {},
   "outputs": [],
   "source": [
    "fish_2 = Fish()"
   ]
  },
  {
   "cell_type": "code",
   "execution_count": 124,
   "id": "04297cc5",
   "metadata": {},
   "outputs": [],
   "source": [
    "fish_1.name  = \"John\"\n",
    "fish_2.name = \"Sam\""
   ]
  },
  {
   "cell_type": "code",
   "execution_count": 125,
   "id": "79e481d6",
   "metadata": {},
   "outputs": [
    {
     "name": "stdout",
     "output_type": "stream",
     "text": [
      "John\n",
      "Sam\n"
     ]
    }
   ],
   "source": [
    "print(fish_1.name)\n",
    "print(fish_2.name)"
   ]
  },
  {
   "cell_type": "code",
   "execution_count": 126,
   "id": "a40873f0",
   "metadata": {},
   "outputs": [
    {
     "name": "stdout",
     "output_type": "stream",
     "text": [
      "{'name': 'John'}\n",
      "{'name': 'Sam'}\n"
     ]
    }
   ],
   "source": [
    "print(fish_1.__dict__)\n",
    "print(fish_2.__dict__)"
   ]
  },
  {
   "cell_type": "code",
   "execution_count": 127,
   "id": "215023a6",
   "metadata": {},
   "outputs": [
    {
     "name": "stdout",
     "output_type": "stream",
     "text": [
      "{}\n"
     ]
    }
   ],
   "source": [
    "fish_3 = Fish()\n",
    "print(fish_3.__dict__)"
   ]
  },
  {
   "cell_type": "code",
   "execution_count": 128,
   "id": "0d189319",
   "metadata": {},
   "outputs": [],
   "source": [
    "class Fish:\n",
    "    def __init__(self, first_name = \"\", last_name = \"Fish\", skeleton= True, eyelids = False):\n",
    "        self.first_name = first_name\n",
    "        self.last_name = last_name\n",
    "        self.skeleton = skeleton\n",
    "        self.eyelids = eyelids\n",
    "        \n",
    "    def __repr__(self):\n",
    "        return \"This is a fish\""
   ]
  },
  {
   "cell_type": "code",
   "execution_count": 129,
   "id": "d12a335c",
   "metadata": {},
   "outputs": [],
   "source": [
    "fish_4 = Fish(\"Fu Lim\", \"Fish\")\n",
    "fish_5 = Fish(\"Lebron\", \"Fish\")\n",
    "fish_6 = Fish()"
   ]
  },
  {
   "cell_type": "code",
   "execution_count": 130,
   "id": "2bd4b9d0",
   "metadata": {},
   "outputs": [
    {
     "name": "stdout",
     "output_type": "stream",
     "text": [
      "Fu Lim\n",
      "Fish\n",
      "{'first_name': '', 'last_name': 'Fish', 'skeleton': True, 'eyelids': False}\n"
     ]
    }
   ],
   "source": [
    "print(fish_4.first_name)\n",
    "print(fish_5.last_name)\n",
    "print(fish_6.__dict__)"
   ]
  },
  {
   "cell_type": "code",
   "execution_count": 131,
   "id": "9d9857be",
   "metadata": {},
   "outputs": [
    {
     "name": "stdout",
     "output_type": "stream",
     "text": [
      "This is a fish\n"
     ]
    }
   ],
   "source": [
    "print(fish_4) # for repr"
   ]
  },
  {
   "cell_type": "code",
   "execution_count": 132,
   "id": "c9efd822",
   "metadata": {},
   "outputs": [],
   "source": [
    "class Shark(Fish):\n",
    "    # Change skeleton to Falsee, change eyelids = True\n",
    "    def __init__(self, first_name = \"\", last_name = \"Fish\", skeleton= False, eyelids = True):\n",
    "        self.first_name = first_name\n",
    "        self.last_name = last_name\n",
    "        self.skeleton = skeleton\n",
    "        self.eyelids = eyelids"
   ]
  },
  {
   "cell_type": "code",
   "execution_count": 133,
   "id": "90587663",
   "metadata": {},
   "outputs": [],
   "source": [
    "class Shark(Fish):\n",
    "    # Change skeleton to False, change eyelids = True\n",
    "    def __init__(self, first_name = \"\", last_name = \"Fish\", skeleton= False, eyelids = True):\n",
    "        super().__init__(first_name, last_name, skeleton, eyelids)"
   ]
  },
  {
   "cell_type": "code",
   "execution_count": 134,
   "id": "c5780e38",
   "metadata": {},
   "outputs": [
    {
     "name": "stdout",
     "output_type": "stream",
     "text": [
      "Sammy\n",
      "Fish\n",
      "False\n",
      "True\n",
      "{'first_name': 'Sammy', 'last_name': 'Fish', 'skeleton': False, 'eyelids': True}\n"
     ]
    }
   ],
   "source": [
    "sammy = Shark(\"Sammy\")\n",
    "print(sammy.first_name)\n",
    "print(sammy.last_name)\n",
    "print(sammy.skeleton)\n",
    "print(sammy.eyelids)\n",
    "print(sammy.__dict__)"
   ]
  },
  {
   "cell_type": "code",
   "execution_count": 135,
   "id": "916d0c36",
   "metadata": {},
   "outputs": [
    {
     "name": "stdout",
     "output_type": "stream",
     "text": [
      "True\n",
      "False\n"
     ]
    }
   ],
   "source": [
    "# isinstance(x,y)\n",
    "print(isinstance(sammy, Shark))\n",
    "print(isinstance(fish_1, Shark)) #fish_1 is instance of Fish"
   ]
  },
  {
   "cell_type": "code",
   "execution_count": 136,
   "id": "f8128b06",
   "metadata": {},
   "outputs": [
    {
     "name": "stdout",
     "output_type": "stream",
     "text": [
      "True\n",
      "False\n"
     ]
    }
   ],
   "source": [
    "# issubclass(x,y)\n",
    "print(issubclass(Shark, Fish))\n",
    "print(issubclass(Fish, Shark))"
   ]
  },
  {
   "cell_type": "code",
   "execution_count": 137,
   "id": "94998faa",
   "metadata": {},
   "outputs": [],
   "source": [
    "class Human:\n",
    "    def __init__(self, name):\n",
    "        self.name = name\n",
    "        print(f\"{self.name} is a human\")\n",
    "\n",
    "class Superhero:\n",
    "    def __init__(self, name):\n",
    "        self.name = name\n",
    "        print(f\"{self.name} is a superhero\")      \n",
    "\n",
    "class Avenger(Superhero, Human):\n",
    "    def __init__(self, name):\n",
    "        self.name = name\n",
    "        print(f\"{self.name} is a avenger\")\n",
    "        Human.__init__(self, self.name) \n",
    "        Superhero.__init__(self,self.name)\n",
    "               "
   ]
  },
  {
   "cell_type": "code",
   "execution_count": 138,
   "id": "699cf8b2",
   "metadata": {},
   "outputs": [
    {
     "name": "stdout",
     "output_type": "stream",
     "text": [
      "Spiderman is a avenger\n",
      "Spiderman is a human\n",
      "Spiderman is a superhero\n"
     ]
    }
   ],
   "source": [
    "spiderman = Avenger(\"Spiderman\")"
   ]
  },
  {
   "cell_type": "code",
   "execution_count": 139,
   "id": "a095a769",
   "metadata": {},
   "outputs": [
    {
     "name": "stdout",
     "output_type": "stream",
     "text": [
      "(<class '__main__.Avenger'>, <class '__main__.Superhero'>, <class '__main__.Human'>, <class 'object'>)\n"
     ]
    }
   ],
   "source": [
    "print(Avenger.__mro__) #if Avenger cls dont have look at Superhero and Human"
   ]
  },
  {
   "cell_type": "code",
   "execution_count": 140,
   "id": "cef397d8",
   "metadata": {},
   "outputs": [
    {
     "name": "stdout",
     "output_type": "stream",
     "text": [
      "True\n",
      "True\n",
      "True\n",
      "True\n",
      "True\n"
     ]
    }
   ],
   "source": [
    "print(issubclass(Avenger, Superhero))\n",
    "print(issubclass(Avenger, Human))\n",
    "\n",
    "print(isinstance(spiderman, Avenger))\n",
    "print(isinstance(spiderman, Human))\n",
    "print(isinstance(spiderman, Superhero))"
   ]
  },
  {
   "cell_type": "code",
   "execution_count": null,
   "id": "5c92954e",
   "metadata": {},
   "outputs": [],
   "source": []
  },
  {
   "cell_type": "code",
   "execution_count": null,
   "id": "ffa7624b",
   "metadata": {},
   "outputs": [],
   "source": []
  },
  {
   "cell_type": "code",
   "execution_count": null,
   "id": "bdd91190",
   "metadata": {},
   "outputs": [],
   "source": []
  }
 ],
 "metadata": {
  "kernelspec": {
   "display_name": "Python 3 (ipykernel)",
   "language": "python",
   "name": "python3"
  },
  "language_info": {
   "codemirror_mode": {
    "name": "ipython",
    "version": 3
   },
   "file_extension": ".py",
   "mimetype": "text/x-python",
   "name": "python",
   "nbconvert_exporter": "python",
   "pygments_lexer": "ipython3",
   "version": "3.11.5"
  }
 },
 "nbformat": 4,
 "nbformat_minor": 5
}
