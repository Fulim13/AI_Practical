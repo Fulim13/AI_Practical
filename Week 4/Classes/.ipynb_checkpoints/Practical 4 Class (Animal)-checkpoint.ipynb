{
 "cells": [
  {
   "cell_type": "markdown",
   "metadata": {},
   "source": [
    "# 1.0 Introduction\n",
    "\n",
    "▪ Object-oriented programming (OOP) creates reusable patterns of code to curtail (or reduce) redundancy in development projects. \n",
    "\n",
    "▪ One way that OOP achieves recyclable code is through **inheritance, when one subclass can leverage code from another base class**.\n",
    "\n",
    "![](inheritance3.png)\n",
    "\n",
    "▪ This tutorial will go through some of the major aspects of inheritance in Python language, including \n",
    "\n",
    "\\>>> How parent classes and child classes work?\n",
    "\n",
    "\\>>> How to override methods and attributes? \n",
    "\n",
    "\\>>> How to use the super() function?\n",
    "\n",
    "https://www.tutorialkart.com/java/inheritance-in-java/"
   ]
  },
  {
   "cell_type": "markdown",
   "metadata": {},
   "source": [
    "# 2.0 Inheritance\n",
    "\n",
    "▪ If we think of inheritance in terms of biology, we can think of a child inheriting certain traits from their parent. \n",
    "\n",
    "▪ That is, a child can inherit a parent’s height or eye color. \n",
    "\n",
    "▪ A child may also share the same last name with his/her/its parents.\n",
    "\n",
    "https://www.sitesbay.com/cpp/cpp-inheritance\n",
    "\n",
    "![](inheritance2.png)\n",
    "\n",
    "▪ In the context of OOP, **inheritance** happens when a class uses code developed within another class. \n",
    "\n",
    "![](inheritance.png)\n",
    "\n",
    "▪ **Child classes or subclasses will inherit methods and variables from the parent classes or the base classes.**\n",
    "\n",
    "▪ We can think of a parent class called **_Parent_** that has class variables for last_name, height, and eye_color that the child class called **_Child_** will inherit from the Parent.\n",
    "\n",
    "▪ Because the **_Child_** subclass is inheriting from the **_Parent_** base class, the **_Child_** class can reuse the code of **_Parent_**, allowing the programmer to use fewer lines of code and decrease redundancy.\n",
    "\n",
    "## 2.0.1 Multiple Inheritance in Python\n",
    "\n",
    "▪ A class can be derived from more than one base class in Python, similar to C++. \n",
    "\n",
    "▪ This is called multiple inheritance. In multiple inheritance, the features of all the base classes are inherited into the derived class.\n",
    "\n",
    "<img src=\"inheritance4.jpg\" width=\"800\">\n",
    "\n",
    "https://www.edureka.co/blog/object-oriented-programming-python/"
   ]
  },
  {
   "cell_type": "markdown",
   "metadata": {},
   "source": [
    "## 2.1 Parent Classes\n",
    "\n",
    "▪ **Parent or base classes** create a pattern out of which **child or subclasses** can be based on. \n",
    "\n",
    "▪ Through inheritance, child classes can be created **without having to write the same code over again each time** present in Parent classes. \n",
    "\n",
    "▪ Any class can be made into a parent class, so they are each fully functional classes in their own right, rather than just templates.\n",
    "\n",
    "▪ An **_Animal_** class may have **_eating()_** and **_sleeping()_** methods, a **_Snake_** subclass can inherit state (or attributes) and behavior (or properties) in the form of variables and methods from the **_Animal_** class (its superclass); and a **_Snake_** subclass may also include its own specific **_hissing()_** and **_slithering()_** methods."
   ]
  },
  {
   "cell_type": "markdown",
   "metadata": {},
   "source": [
    "### 2.1.1 The Fish Class: Example\n",
    "\n",
    "▪ Let’s create a **_Fish_** parent class which will be used to construct different types of fish as its subclasses later. \n",
    "\n",
    "▪ Each of these fish will have its own first names and last names.\n",
    "\n",
    "▪ We’ll create a new file called **fish.py** and start with the **__init__()** constructor method, which we’ll populate with first_name and last_name class variables for each **_Fish_** object or subclass."
   ]
  },
  {
   "cell_type": "markdown",
   "metadata": {},
   "source": [
    "### 2.1.2 Explanation #1\n",
    "\n",
    "▪ In Python, every class inherits from a built-in basic class called 'object'\n",
    "\n",
    "▪ Therefore, the common parent class of all classes in Python is the object class\n",
    "\n",
    "▪ **(object)** is applicable to superclass, it can be removed"
   ]
  },
  {
   "cell_type": "code",
   "execution_count": 1,
   "metadata": {},
   "outputs": [],
   "source": [
    "# Use the pass keyword to create an empty class (not sure what to be implemeted)\n",
    "class Fish:\n",
    "    pass\n",
    "\n",
    "# \"class Person\" is equivalent to \"class Person(object)\" in Python 3.x \n",
    "# In Python3, all classes implicitly inherit from the built-in object base class\n",
    "class Fish(object):\n",
    "    pass"
   ]
  },
  {
   "cell_type": "code",
   "execution_count": 2,
   "metadata": {},
   "outputs": [],
   "source": [
    "fish_1 = Fish()\n",
    "fish_2 = Fish()"
   ]
  },
  {
   "cell_type": "markdown",
   "metadata": {},
   "source": [
    "### 2.1.3 Explanation #2\n",
    "\n",
    "▪ The code below works but we don't enjoy the benefits of using classes\n",
    "\n",
    "▪ Do fish_1 and fish_2 have names? Yes \n",
    "\n",
    "▪ How about fish_3, a new Fish object? No"
   ]
  },
  {
   "cell_type": "code",
   "execution_count": 5,
   "metadata": {},
   "outputs": [
    {
     "name": "stdout",
     "output_type": "stream",
     "text": [
      "Sam\n",
      "John\n"
     ]
    }
   ],
   "source": [
    "fish_1.name = 'Sam'\n",
    "fish_2.name = 'John'\n",
    "\n",
    "print(fish_1.name)\n",
    "print(fish_2.name)"
   ]
  },
  {
   "cell_type": "code",
   "execution_count": 6,
   "metadata": {},
   "outputs": [
    {
     "ename": "AttributeError",
     "evalue": "'Fish' object has no attribute 'name'",
     "output_type": "error",
     "traceback": [
      "\u001b[1;31m---------------------------------------------------------------------------\u001b[0m",
      "\u001b[1;31mAttributeError\u001b[0m                            Traceback (most recent call last)",
      "Input \u001b[1;32mIn [6]\u001b[0m, in \u001b[0;36m<cell line: 2>\u001b[1;34m()\u001b[0m\n\u001b[0;32m      1\u001b[0m fish_3 \u001b[38;5;241m=\u001b[39m Fish()\n\u001b[1;32m----> 2\u001b[0m \u001b[38;5;28mprint\u001b[39m(\u001b[43mfish_3\u001b[49m\u001b[38;5;241;43m.\u001b[39;49m\u001b[43mname\u001b[49m)\n",
      "\u001b[1;31mAttributeError\u001b[0m: 'Fish' object has no attribute 'name'"
     ]
    }
   ],
   "source": [
    "fish_3 = Fish()\n",
    "print(fish_3.name)"
   ]
  },
  {
   "cell_type": "markdown",
   "metadata": {},
   "source": [
    "### \\_\\_dict\\_\\_\n",
    "\n",
    "▪ \\_\\_dict\\_\\_ is a dictionary or other mapping object used to store an object's (writable) attributes. \n",
    "\n",
    "▪ Or speaking in simple words every object in python has an attribute which is denoted by \\_\\_dict\\_\\_. \n",
    "\n",
    "▪ And this object contains all attributes defined for the object."
   ]
  },
  {
   "cell_type": "code",
   "execution_count": 7,
   "metadata": {},
   "outputs": [
    {
     "name": "stdout",
     "output_type": "stream",
     "text": [
      "{'name': 'Sam'}\n",
      "{'name': 'John'}\n",
      "{}\n"
     ]
    }
   ],
   "source": [
    "print(fish_1.__dict__)\n",
    "print(fish_2.__dict__)\n",
    "print(fish_3.__dict__) "
   ]
  },
  {
   "cell_type": "markdown",
   "metadata": {},
   "source": [
    "### 2.1.4 Explanation #3: Class attributes vs. Instance attributes\n",
    "\n",
    "▪ An **instance**/**object attribute** is a variable that belongs to one (and only one) object. \n",
    "\n",
    "▪ A **class attribute**, on the other hand, is a variable that belongs to a certain class, and not a particular object. Every instance of this class shares the same variable. \n",
    "\n",
    "▪ **\\_\\_init\\_\\_** is a special method, similar to the constructor in java\n",
    "\n",
    "▪ Thus, **self** represents an instance of the class (other name can be used but it is better to use self), other argument follows after self.\n",
    "\n",
    "▪ The keyword **self** can be used to access attributes and methods of the class in python. \n",
    "\n",
    "https://stackoverflow.com/questions/2709821/what-is-the-purpose-of-the-word-self-in-python"
   ]
  },
  {
   "cell_type": "code",
   "execution_count": 10,
   "metadata": {},
   "outputs": [],
   "source": [
    "class Fish(object):  \n",
    "      \n",
    "    def __init__(self, first_name, last_name = \"Fish\"):  \n",
    "        self.first_name = first_name   \n",
    "        self.last_name = last_name"
   ]
  },
  {
   "cell_type": "markdown",
   "metadata": {},
   "source": [
    "### 2.1.5 Explanation #4\n",
    "\n",
    "▪ **When any method is created within a class**, it receives the instance of the class as the first argument automatically.\n",
    "\n",
    "▪ When the following code is executed, **\\_\\_init\\_\\_** method will be run automatically, the **fish_1** object will be passed in as **self**.\n",
    "\n",
    "▪ We have **initialized** our last_name variable with the string \"Fish\" because we know that most fish will have this as their last name.e.g Jelly Fish, Cat Fish etc."
   ]
  },
  {
   "cell_type": "code",
   "execution_count": 11,
   "metadata": {},
   "outputs": [
    {
     "name": "stdout",
     "output_type": "stream",
     "text": [
      "Sam Fish\n",
      "John Fish\n"
     ]
    }
   ],
   "source": [
    "fish_4 = Fish('Sam', 'Fish')\n",
    "print(fish_4.first_name, fish_4.last_name)\n",
    "\n",
    "fish_5 = Fish('John')\n",
    "print(fish_5.first_name, fish_5.last_name)"
   ]
  },
  {
   "cell_type": "code",
   "execution_count": 15,
   "metadata": {},
   "outputs": [
    {
     "name": "stdout",
     "output_type": "stream",
     "text": [
      "{'first_name': 'Sam', 'last_name': 'Fish'}\n",
      "{'first_name': 'John', 'last_name': 'Fish'}\n"
     ]
    }
   ],
   "source": [
    "print(fish_4.__dict__)\n",
    "print(fish_5.__dict__)"
   ]
  },
  {
   "cell_type": "code",
   "execution_count": 12,
   "metadata": {},
   "outputs": [
    {
     "ename": "TypeError",
     "evalue": "__init__() missing 1 required positional argument: 'first_name'",
     "output_type": "error",
     "traceback": [
      "\u001b[1;31m---------------------------------------------------------------------------\u001b[0m",
      "\u001b[1;31mTypeError\u001b[0m                                 Traceback (most recent call last)",
      "Input \u001b[1;32mIn [12]\u001b[0m, in \u001b[0;36m<cell line: 1>\u001b[1;34m()\u001b[0m\n\u001b[1;32m----> 1\u001b[0m fish_6 \u001b[38;5;241m=\u001b[39m \u001b[43mFish\u001b[49m\u001b[43m(\u001b[49m\u001b[43m)\u001b[49m\n",
      "\u001b[1;31mTypeError\u001b[0m: __init__() missing 1 required positional argument: 'first_name'"
     ]
    }
   ],
   "source": [
    "fish_6 = Fish()"
   ]
  },
  {
   "cell_type": "markdown",
   "metadata": {},
   "source": [
    "### Multiple constructors\n",
    "\n",
    "▪ Unlike Java, you cannot define multiple constructors. \n",
    "\n",
    "▪ However, you can define a default value if one is not passed.\n",
    "\n",
    "https://stackoverflow.com/questions/2164258/is-it-not-possible-to-define-multiple-constructors-in-python\n",
    "\n",
    "### Arguments\n",
    "\n",
    "▪ There are two types of arguments: positional arguments and keyword arguments.\n",
    "\n",
    "▪ **Positional arguments** are values that are passed into a function based on the order in which the parameters were listed during the function definition. When the positions of the arguments are changed, the output produces different results.\n",
    "\n",
    "▪ **Keyword arguments** (or named arguments) are values that, when passed into a function, are identifiable by specific parameter names. A keyword argument is preceded by a parameter and the assignment operator, = .\n",
    "\n",
    "https://www.educative.io/answers/what-are-keyword-arguments-in-python"
   ]
  },
  {
   "cell_type": "code",
   "execution_count": 3,
   "metadata": {},
   "outputs": [
    {
     "name": "stdout",
     "output_type": "stream",
     "text": [
      "FemCode is working on an Edpresso\n",
      "FemCode is working on an Edpresso\n"
     ]
    }
   ],
   "source": [
    "def team_1(name, project):\n",
    "    print(name, \"is working on an\", project)\n",
    "\n",
    "def team_2(name, project):\n",
    "    print(name, \"is working on an\", project)\n",
    "\n",
    "team_1(\"FemCode\", \"Edpresso\")\n",
    "team_2(project = \"Edpresso\", name = 'FemCode')"
   ]
  },
  {
   "cell_type": "code",
   "execution_count": 1,
   "metadata": {},
   "outputs": [],
   "source": [
    "class Fish(object):  \n",
    "      \n",
    "    def __init__(self, first_name = \"\", last_name = \"Fish\"):  \n",
    "        self.first_name = first_name   \n",
    "        self.last_name = last_name"
   ]
  },
  {
   "cell_type": "code",
   "execution_count": 2,
   "metadata": {},
   "outputs": [
    {
     "name": "stdout",
     "output_type": "stream",
     "text": [
      " Fish\n"
     ]
    }
   ],
   "source": [
    "fish_6 = Fish()\n",
    "print(fish_6.first_name, fish_6.last_name)"
   ]
  },
  {
   "cell_type": "code",
   "execution_count": 3,
   "metadata": {},
   "outputs": [
    {
     "name": "stdout",
     "output_type": "stream",
     "text": [
      "<__main__.Fish object at 0x000001A3C694CE80>\n"
     ]
    }
   ],
   "source": [
    "print(fish_6)"
   ]
  },
  {
   "cell_type": "markdown",
   "metadata": {},
   "source": [
    "### \\_\\_repr\\_\\_()\n",
    "\n",
    "▪ When an object is printed, by default, it returns the name of the object’s class and the address of the object.\n",
    "\n",
    "▪ The information displayed is totally useless to human. \n",
    "\n",
    "▪ The \\_\\_repr\\_\\_() method can be used to return the object’s printable representation in the form of a string.\n",
    "\n",
    "▪ Now, let’s define the __repr__() method of the class, and then use the print() function. \n",
    "\n",
    "https://www.delftstack.com/howto/python/print-object-python/"
   ]
  },
  {
   "cell_type": "code",
   "execution_count": 7,
   "metadata": {},
   "outputs": [
    {
     "name": "stdout",
     "output_type": "stream",
     "text": [
      "This is an instance of class Fish.\n",
      "This is an instance of class Fish.\n",
      "This is an instance of class Fish.\n"
     ]
    }
   ],
   "source": [
    "class Fish:\n",
    "\n",
    "    def __init__(self, first_name = \"\", last_name = \"Fish\"):  \n",
    "        self.first_name = first_name   \n",
    "        self.last_name = last_name\n",
    "        \n",
    "    def __repr__(self):\n",
    "        return \"This is an instance of class Fish.\"\n",
    "\n",
    "fish_4 = Fish('Sam', 'Fish')\n",
    "fish_5 = Fish('John')\n",
    "fish_6 = Fish()\n",
    "    \n",
    "print(fish_4)\n",
    "print(fish_5)\n",
    "print(fish_6)"
   ]
  },
  {
   "cell_type": "markdown",
   "metadata": {},
   "source": [
    "### 2.1.6 Explanation #5\n",
    "\n",
    "▪ Add some **methods** to Fish class: **_swim()_** and **_swim_backwards()_** \n",
    "\n",
    "▪ Later, every subclass of the Fish class will also be able to make use of these methods.\n",
    "\n",
    "▪ Obmitting the keyword **self** as an argument in the brackets will result in error."
   ]
  },
  {
   "cell_type": "code",
   "execution_count": 12,
   "metadata": {},
   "outputs": [
    {
     "name": "stdout",
     "output_type": "stream",
     "text": [
      "Sam Fish is an instance of the class Fish.\n",
      "John Fish is an instance of the class Fish.\n",
      "Fish is an instance of the class Fish.\n"
     ]
    }
   ],
   "source": [
    "class Fish:\n",
    "    \n",
    "    def __init__(self, first_name = \"\", last_name = \"Fish\"):\n",
    "        self.first_name = first_name\n",
    "        self.last_name = last_name\n",
    "        \n",
    "    def __repr__(self):\n",
    "        return \"{} is an instance of the class Fish.\".format(self.name())\n",
    "        \n",
    "    def name(self):\n",
    "        if len(self.first_name) == 0:\n",
    "            return \"{}\".format(self.last_name)\n",
    "        else:\n",
    "            return \"{} {}\".format(self.first_name, self.last_name)\n",
    "        \n",
    "fish_4 = Fish('Sam', 'Fish')\n",
    "fish_5 = Fish('John')\n",
    "fish_6 = Fish()\n",
    "    \n",
    "print(fish_4)\n",
    "print(fish_5)\n",
    "print(fish_6)"
   ]
  },
  {
   "cell_type": "code",
   "execution_count": 14,
   "metadata": {},
   "outputs": [
    {
     "name": "stdout",
     "output_type": "stream",
     "text": [
      "Sam Fish is swimming.\n",
      "John Fish is swimming backwards.\n"
     ]
    }
   ],
   "source": [
    "class Fish:\n",
    "    \n",
    "    def __init__(self, first_name = \"\", last_name = \"Fish\"):\n",
    "        self.first_name = first_name\n",
    "        self.last_name = last_name\n",
    "\n",
    "    def __repr__(self):\n",
    "        return \"{} is an instance of the class Fish.\".format(self.name())\n",
    "    \n",
    "    def name(self):\n",
    "        if len(self.first_name) == 0:\n",
    "            return \"{}\".format(self.last_name)\n",
    "        else:\n",
    "            return \"{} {}\".format(self.first_name, self.last_name)\n",
    "    \n",
    "    def swim(self):\n",
    "        return \"{} {}\".format(self.name(), \"can swim.\")\n",
    "\n",
    "    def swim_backwards(self):\n",
    "        return \"{} {}\".format(self.name(), \"can swim backwards.\")\n",
    "        \n",
    "fish_4 = Fish('Sam')\n",
    "fish_5 = Fish('John', 'Fish')\n",
    "\n",
    "print(fish_4.swim())\n",
    "print(fish_5.swim_backwards())"
   ]
  },
  {
   "cell_type": "markdown",
   "metadata": {},
   "source": [
    "### 2.1.7 Explanation #6\n",
    "\n",
    "▪ Designing a parent class follows the same methodology as designing any other classes, except that we need to think about what methods their child classes will be able to make use of once they been created.\n",
    "\n",
    "▪ Since most of the fish we’ll be creating are **bony fish** (as in they have a skeleton made out of bone) rather than **cartilaginous fish** (as in they have a skeleton made out of cartilage), we can add a few more attributes to the **\\_\\_init\\_\\_** method."
   ]
  },
  {
   "cell_type": "code",
   "execution_count": 22,
   "metadata": {
    "scrolled": true
   },
   "outputs": [
    {
     "name": "stdout",
     "output_type": "stream",
     "text": [
      "Sam Fish is a bony fish with eyelids.\n",
      "John Fish is a cartilaginous fish without eyelids.\n"
     ]
    }
   ],
   "source": [
    "class Fish:\n",
    "    def __init__(self, first_name = \"\", last_name = \"Fish\", skeleton = True, eyelids = False):\n",
    "        self.first_name = first_name\n",
    "        self.last_name = last_name\n",
    "        self.skeleton = skeleton\n",
    "        self.eyelids = eyelids\n",
    "\n",
    "    def __repr__(self):\n",
    "        return \"{} is an instance of the class Fish.\".format(self.name())\n",
    "    \n",
    "    def name(self):\n",
    "        if len(self.first_name) == 0:\n",
    "            return \"{}\".format(self.last_name)\n",
    "        else:\n",
    "            return \"{} {}\".format(self.first_name, self.last_name)\n",
    "\n",
    "    def swim(self):\n",
    "        return \"{} {}\".format(self.name(), \"can swim.\")\n",
    "\n",
    "    def swim_backwards(self):\n",
    "        return \"{} {}\".format(self.name(), \"can swim backwards.\")\n",
    "    \n",
    "    def intro(self):\n",
    "        return \"{} is a {} {} {}\".format(self.name(), \n",
    "                                         (\"bony fish\") if self.skeleton else (\"cartilaginous fish\"),\n",
    "                                         (\"with\") if self.eyelids else (\"without\"), \n",
    "                                         \"eyelids.\")\n",
    "        \n",
    "fish_4 = Fish('Sam', eyelids = True)\n",
    "fish_5 = Fish('John', skeleton = False)\n",
    "\n",
    "print(fish_4.intro())\n",
    "print(fish_5.intro())"
   ]
  },
  {
   "cell_type": "markdown",
   "metadata": {},
   "source": [
    "### 2.1.8 Explanation #7\n",
    "\n",
    "▪ We can also run the method **using the class name**, to do so, we need to pass instance manually.\n",
    "\n",
    "▪ The code above and the code below do the same thing.\n",
    "\n",
    "▪ The following line is what exactly happens at the back when the above line is executed."
   ]
  },
  {
   "cell_type": "code",
   "execution_count": null,
   "metadata": {},
   "outputs": [],
   "source": [
    "print(Fish.swim(fish_1))\n",
    "print(Fish.intro(fish_2))"
   ]
  },
  {
   "cell_type": "markdown",
   "metadata": {},
   "source": [
    "### help()\n",
    "\n",
    "▪ Python help() function is used to get the documentation of specified module, class, function, variables etc."
   ]
  },
  {
   "cell_type": "code",
   "execution_count": 32,
   "metadata": {},
   "outputs": [
    {
     "name": "stdout",
     "output_type": "stream",
     "text": [
      "Help on class Fish in module __main__:\n",
      "\n",
      "class Fish(builtins.object)\n",
      " |  Fish(first_name='', last_name='Fish', skeleton=True, eyelids=False)\n",
      " |  \n",
      " |  Methods defined here:\n",
      " |  \n",
      " |  __init__(self, first_name='', last_name='Fish', skeleton=True, eyelids=False)\n",
      " |      Initialize self.  See help(type(self)) for accurate signature.\n",
      " |  \n",
      " |  __repr__(self)\n",
      " |      Return repr(self).\n",
      " |  \n",
      " |  intro(self)\n",
      " |  \n",
      " |  name(self)\n",
      " |  \n",
      " |  swim(self)\n",
      " |  \n",
      " |  swim_backwards(self)\n",
      " |  \n",
      " |  ----------------------------------------------------------------------\n",
      " |  Data descriptors defined here:\n",
      " |  \n",
      " |  __dict__\n",
      " |      dictionary for instance variables (if defined)\n",
      " |  \n",
      " |  __weakref__\n",
      " |      list of weak references to the object (if defined)\n",
      "\n",
      "None\n"
     ]
    }
   ],
   "source": [
    "print(help(Fish))"
   ]
  },
  {
   "cell_type": "markdown",
   "metadata": {},
   "source": [
    "## 2.2 Child Classes\n",
    "\n",
    "▪ **_Child_** or **_subclasses_** are classes that will **inherit** from the **_parent_** class. \n",
    "\n",
    "▪ It means that each **_child_** class will be able to make use of the **methods** and **variables** of the  **_parent_** class.\n",
    "\n",
    "▪ For example, a **_Goldfish child class_** which is a subclass of the **_Fish_** class will be able to make use of the **_swim()_** method declared in **_Fish_** without needing to redeclare it again.\n",
    "\n",
    "▪ We can think of each **_child_**  class as being a special class of the **_parent_** class. \n",
    "\n",
    "▪ In other words, if we have a **_child_** class called **Rhombus** and a **_parent_**  class called **Parallelogram**, we can say that a **Rhombus** is a **Parallelogram**, just as a **Goldfish** is a **Fish**.\n",
    "\n",
    "▪ The first line of a **_child_** class looks a little different from the **_non-child_** classes as you must pass the **_parent_** class into the **_child_** class as a parameter"
   ]
  },
  {
   "cell_type": "markdown",
   "metadata": {},
   "source": [
    "### 2.2.1 Trout Class: Example\n",
    "\n",
    "▪ The **_Trout class_** is a child of the **Fish** class. \n",
    "\n",
    "▪ We know this because of the inclusion of the word **Fish** in parentheses.\n",
    "\n",
    "▪ **_Trout class_** inherits all the attributes and methods from the parent class, **Fish**."
   ]
  },
  {
   "cell_type": "code",
   "execution_count": 33,
   "metadata": {},
   "outputs": [],
   "source": [
    "# Create a subclass \"Trout\"\n",
    "class Trout(Fish):\n",
    "    pass"
   ]
  },
  {
   "cell_type": "markdown",
   "metadata": {},
   "source": [
    "### 2.2.2 Explanation #1\n",
    "\n",
    "▪ With **_child_** classes, we can choose to add more **methods**, **override** existing parent methods, or simply **accept** the default parent methods with the pass keyword, which we'll do in the following code cell.\n",
    "\n",
    "▪ The code below is similar to the code above."
   ]
  },
  {
   "cell_type": "code",
   "execution_count": 51,
   "metadata": {},
   "outputs": [],
   "source": [
    "class Trout:\n",
    "    \n",
    "    def __init__(self, first_name = \"\", last_name = \"Fish\", skeleton = True, eyelids = False):\n",
    "        self.first_name = first_name\n",
    "        self.last_name = last_name\n",
    "        self.skeleton = skeleton\n",
    "        self.eyelids = eyelids\n",
    "\n",
    "    def __repr__(self):\n",
    "        return \"{} is an instance of the class Fish.\".format(self.name())\n",
    "    \n",
    "    def name(self):\n",
    "        if len(self.first_name) == 0:\n",
    "            return \"{}\".format(self.last_name)\n",
    "        else:\n",
    "            return \"{} {}\".format(self.first_name, self.last_name)\n",
    "    \n",
    "    def swim(self):\n",
    "        return \"{} {}\".format(self.name(), \"can swim.\")\n",
    "\n",
    "    def swim_backwards(self):\n",
    "        return \"{} {}\".format(self.name(), \"can swim backwards.\")\n",
    "    \n",
    "    def intro(self):\n",
    "        return \"{} is a {} {} {}\".format(self.name(), \n",
    "                                         (\"bony fish\") if self.skeleton else (\"cartilaginous fish\"),\n",
    "                                         (\"with\") if self.eyelids else (\"without\"), \n",
    "                                         \"eyelids.\")"
   ]
  },
  {
   "cell_type": "markdown",
   "metadata": {},
   "source": [
    "### 2.2.3 Explanation #2\n",
    "\n",
    "▪ We can now create a **_Trout object_** without having to define any additional **methods**.\n",
    "\n",
    "▪ A **_Trout instance_** named Terry is created using each of the **methods** of the **_Fish_** class even though we did not define those **methods** in the Trout **_child_** class. \n",
    "\n",
    "▪ We only needed to pass the value of **\"Terry\"** to the first_name variable because **all of the other variables were initialized.**"
   ]
  },
  {
   "cell_type": "code",
   "execution_count": 52,
   "metadata": {},
   "outputs": [
    {
     "name": "stdout",
     "output_type": "stream",
     "text": [
      "Name: Terry Fish\n",
      "Skeleton: Yes\n",
      "Eyelids: No\n",
      "\n",
      "Terry Fish is a bony fish without eyelids.\n"
     ]
    }
   ],
   "source": [
    "class Trout(Fish):\n",
    "    pass\n",
    "\n",
    "terry = Trout(\"Terry\") \n",
    "\n",
    "print(\"Name:\", terry.name())\n",
    "print(\"Skeleton:\", \"Yes\" if terry.skeleton else \"No\")\n",
    "print(\"Eyelids:\", \"Yes\" if terry.eyelids else \"No\")\n",
    "print()\n",
    "\n",
    "print(terry.intro())"
   ]
  },
  {
   "cell_type": "markdown",
   "metadata": {},
   "source": [
    "### 2.2.4 Explanation #3\n",
    "\n",
    "▪ Next, let’s create another **_child_** class that includes its own **method.** \n",
    "\n",
    "▪ We’ll call this class **Clownfish**, and its special **method** will permit it to live with **sea anemone**:"
   ]
  },
  {
   "cell_type": "code",
   "execution_count": 36,
   "metadata": {},
   "outputs": [],
   "source": [
    "class Clownfish(Fish):\n",
    "    \n",
    "    def live_with_anemone(self):\n",
    "        return \"{} {}\".format(self.name(), \"can coexists with sea anemone.\")"
   ]
  },
  {
   "cell_type": "markdown",
   "metadata": {},
   "source": [
    "### 2.2.5 Explanation #4\n",
    "\n",
    "▪ Next, let’s create a **_Clownfish object_**: **<font color=blue>Casey</font>** to see how this works:\n",
    "\n",
    "▪ The output shows that the **_Clownfish object_**: **<font color=blue>Casey</font>** is able to use the **_Fish_** **methods** **__init__()** and **_swim()_** as well as its **_child class_** **method** of **_live_with_anemone()_**."
   ]
  },
  {
   "cell_type": "code",
   "execution_count": 38,
   "metadata": {
    "scrolled": true
   },
   "outputs": [
    {
     "name": "stdout",
     "output_type": "stream",
     "text": [
      "Name: Casey Fish\n",
      "Casey Fish can coexists with sea anemone.\n"
     ]
    }
   ],
   "source": [
    "casey = Clownfish(\"Casey\")\n",
    "\n",
    "print(\"Name:\", casey.name())\n",
    "print(casey.live_with_anemone()) # A special method that defined in the clownfish subclass just now"
   ]
  },
  {
   "cell_type": "markdown",
   "metadata": {},
   "source": [
    "### 2.2.6 Explanation #5\n",
    "\n",
    "▪ However, if we try to use the **_live_with_anemone()_** **method** in a **Trout** **_object_**, we'll receive an error.\n",
    "\n",
    "▪ This is because the **method** **_live_with_anemone()_** belongs only to the  **_Clownfish child class_**, but not the  **_Fish parent_** class.\n",
    "\n",
    "▪ **_Child_** classes inherit **methods** belong to the **_parent_** class to, so each **_child_** class can make use of those **methods** within programs."
   ]
  },
  {
   "cell_type": "code",
   "execution_count": 39,
   "metadata": {},
   "outputs": [
    {
     "ename": "AttributeError",
     "evalue": "'Trout' object has no attribute 'live_with_anemone'",
     "output_type": "error",
     "traceback": [
      "\u001b[1;31m---------------------------------------------------------------------------\u001b[0m",
      "\u001b[1;31mAttributeError\u001b[0m                            Traceback (most recent call last)",
      "Input \u001b[1;32mIn [39]\u001b[0m, in \u001b[0;36m<cell line: 1>\u001b[1;34m()\u001b[0m\n\u001b[1;32m----> 1\u001b[0m \u001b[43mterry\u001b[49m\u001b[38;5;241;43m.\u001b[39;49m\u001b[43mlive_with_anemone\u001b[49m()\n",
      "\u001b[1;31mAttributeError\u001b[0m: 'Trout' object has no attribute 'live_with_anemone'"
     ]
    }
   ],
   "source": [
    "terry.live_with_anemone()"
   ]
  },
  {
   "cell_type": "code",
   "execution_count": 40,
   "metadata": {},
   "outputs": [
    {
     "name": "stdout",
     "output_type": "stream",
     "text": [
      "Help on class Clownfish in module __main__:\n",
      "\n",
      "class Clownfish(Fish)\n",
      " |  Clownfish(first_name='', last_name='Fish', skeleton=True, eyelids=False)\n",
      " |  \n",
      " |  Method resolution order:\n",
      " |      Clownfish\n",
      " |      Fish\n",
      " |      builtins.object\n",
      " |  \n",
      " |  Methods defined here:\n",
      " |  \n",
      " |  live_with_anemone(self)\n",
      " |  \n",
      " |  ----------------------------------------------------------------------\n",
      " |  Methods inherited from Fish:\n",
      " |  \n",
      " |  __init__(self, first_name='', last_name='Fish', skeleton=True, eyelids=False)\n",
      " |      Initialize self.  See help(type(self)) for accurate signature.\n",
      " |  \n",
      " |  __repr__(self)\n",
      " |      Return repr(self).\n",
      " |  \n",
      " |  intro(self)\n",
      " |  \n",
      " |  name(self)\n",
      " |  \n",
      " |  swim(self)\n",
      " |  \n",
      " |  swim_backwards(self)\n",
      " |  \n",
      " |  ----------------------------------------------------------------------\n",
      " |  Data descriptors inherited from Fish:\n",
      " |  \n",
      " |  __dict__\n",
      " |      dictionary for instance variables (if defined)\n",
      " |  \n",
      " |  __weakref__\n",
      " |      list of weak references to the object (if defined)\n",
      "\n",
      "None\n"
     ]
    }
   ],
   "source": [
    "print(help(Clownfish))"
   ]
  },
  {
   "cell_type": "code",
   "execution_count": 41,
   "metadata": {},
   "outputs": [
    {
     "name": "stdout",
     "output_type": "stream",
     "text": [
      "Help on class Trout in module __main__:\n",
      "\n",
      "class Trout(Fish)\n",
      " |  Trout(first_name='', last_name='Fish', skeleton=True, eyelids=False)\n",
      " |  \n",
      " |  Method resolution order:\n",
      " |      Trout\n",
      " |      Fish\n",
      " |      builtins.object\n",
      " |  \n",
      " |  Methods inherited from Fish:\n",
      " |  \n",
      " |  __init__(self, first_name='', last_name='Fish', skeleton=True, eyelids=False)\n",
      " |      Initialize self.  See help(type(self)) for accurate signature.\n",
      " |  \n",
      " |  __repr__(self)\n",
      " |      Return repr(self).\n",
      " |  \n",
      " |  intro(self)\n",
      " |  \n",
      " |  name(self)\n",
      " |  \n",
      " |  swim(self)\n",
      " |  \n",
      " |  swim_backwards(self)\n",
      " |  \n",
      " |  ----------------------------------------------------------------------\n",
      " |  Data descriptors inherited from Fish:\n",
      " |  \n",
      " |  __dict__\n",
      " |      dictionary for instance variables (if defined)\n",
      " |  \n",
      " |  __weakref__\n",
      " |      list of weak references to the object (if defined)\n",
      "\n",
      "None\n"
     ]
    }
   ],
   "source": [
    "print(help(Trout))"
   ]
  },
  {
   "cell_type": "markdown",
   "metadata": {},
   "source": [
    "## 2.3 Overriding Parent Properties and Methods\n",
    "\n",
    "### 2.3.1 Introduction\n",
    "\n",
    "▪ So far, we have looked at the **_child_** class **Trout** that made use of the **<font color=blue>pass</font>** keyword to inherit all of the **_parent_** class **_Fish_** behaviors, and another **_child_** class **Clownfish** that inherited all of the **_parent_** class behaviors and also created its own unique **method** that is specific to the **_child_** class. \n",
    "\n",
    "▪ Sometimes, however, we will want to make use of some of the **_parent_** class behaviors only but not all of them. \n",
    "\n",
    "▪ When we change **_parent_** class **methods** we **override** them.\n",
    "\n",
    "### 2.3.2 Overriding Methods\n",
    "\n",
    "▪ When constructing  **_parent_** and **_child_** classes, it is important to keep program design in mind so that **overriding** does not produce unnecessary or redundant code.\n",
    "\n",
    "▪ We’ll create a **_Shark class_** which is the subclass of the **_Fish class_**. \n",
    "\n",
    "▪ Because we created the **_Fish_** class with the idea that we would be creating primarily **bony fish**, we’ll have to make adjustments for the **_Shark class_**, that is instead a **cartilaginous fish**. \n",
    "\n",
    "▪ In terms of program design, if we had more than one **non-bony fish**, we would most likely want to make separate classes for each of these two types of fish.\n",
    "\n",
    "### 2.3.3 The Shark class\n",
    "\n",
    "▪ Unlike bony fish, **sharks have skeletons made of cartilage** instead of bone; they also **have eyelids** but they are **unable to swim backwards**. \n",
    "    \n",
    "▪ Sharks can, however, maneuver themselves backwards by sinking</font>.\n",
    "\n",
    "▪ In light of this, we’ll be **<font color=red>overriding</font>** the **__init__() constructor method** and the **swim_backwards() method**. \n",
    "\n",
    "▪ **Overriding** is done so that a child class can give its own implementation to a method which is already provided by the parent class.\n",
    "\n",
    "▪ A subclass can either **completely override the implementation for an inherited method** or the subclass can **enhance the method by adding functionality to it**.\n",
    "\n",
    "▪ We don’t need to modify the **_swim()_** method since sharks are fish that can swim. \n",
    "\n",
    "▪ Let’s take a look at this **_child_** class:"
   ]
  },
  {
   "cell_type": "code",
   "execution_count": 42,
   "metadata": {},
   "outputs": [],
   "source": [
    "class Shark(Fish):\n",
    "    \n",
    "    # Overriding Fish's __init__()\n",
    "    def __init__(self, first_name, last_name = \"Shark\", skeleton = False, eyelids = True):\n",
    "        self.first_name = first_name\n",
    "        self.last_name = last_name\n",
    "        self.skeleton = skeleton\n",
    "        self.eyelids = eyelids\n",
    "    \n",
    "    # Overriding Fish's swim_backwards()\n",
    "    def swim_backwards(self):\n",
    "        return \"{} {}\".format(self.name(), \"cannot swim backwards, but it can sink backwards.\")"
   ]
  },
  {
   "cell_type": "markdown",
   "metadata": {},
   "source": [
    "### 2.3.4 Explanation #1\n",
    "\n",
    "▪ We have **overridden initialized parameters** in the **__init__() method**, so that **last_name** is set equal to **\"Shark\"**, **skeleton** is set equal to **False**, and **eyelids** is set equal to **True**. \n",
    "\n",
    "▪ Each instance of the class can also **override** these parameters.\n",
    "\n",
    "▪ The **_method swim_backwards()_** now prints a different string than the one in the **_Fish parent class_** because sharks are not able to swim backwards in the way that bony fish can.\n",
    "\n",
    "▪ We can now create an **instance**/**object** of the **_Shark child class_**, which will still make use of the **_swim() method_** of the **_Fish parent class_**:"
   ]
  },
  {
   "cell_type": "code",
   "execution_count": 44,
   "metadata": {},
   "outputs": [
    {
     "name": "stdout",
     "output_type": "stream",
     "text": [
      "Name: Sammy Shark\n",
      "Skeleton: No\n",
      "Eyelids: Yes\n",
      "Sammy Shark is a cartilaginous fish with eyelids.\n",
      "Sammy Shark cannot swim backwards, but it can sink backwards.\n"
     ]
    }
   ],
   "source": [
    "sammy = Shark(\"Sammy\")\n",
    "\n",
    "# Inherite parent's properties\n",
    "print(\"Name:\", sammy.name())\n",
    "print(\"Skeleton:\", \"Yes\" if sammy.skeleton else \"No\")\n",
    "print(\"Eyelids:\", \"Yes\" if sammy.eyelids else \"No\")\n",
    "\n",
    "# Inherite parent's method\n",
    "print(sammy.intro())\n",
    "\n",
    "# Child's method\n",
    "print(sammy.swim_backwards())"
   ]
  },
  {
   "cell_type": "markdown",
   "metadata": {},
   "source": [
    "### 2.3.5 Explanation #2\n",
    "\n",
    "▪ The **_Shark child class_** successfully <font color=red>overrode</font> the __init__() and **_swim_backwards() methods_** of the **_Fish parent class_**, while also inheriting the **_swim() method_** of the **_parent class_**.\n",
    "\n",
    "▪ When there will be a limited number of **_child_** classes that are more unique than others, <font color=red>overriding</font> **_parent class methods_** can prove to be useful."
   ]
  },
  {
   "cell_type": "markdown",
   "metadata": {},
   "source": [
    "## 2.4 The super() Function\n",
    "\n",
    "▪ The Python super() method lets you access methods in a parent class. \n",
    "\n",
    "<img src=\"super.png\" width=\"500\">\n",
    "\n",
    "▪ With the **super()** function, you can gain access to **_inherited methods_** that have been overwritten in a **_class object_**.\n",
    "\n",
    "▪ When we use the **super()** function, we are calling a **_parent method_** into a **_child method_** to make use of it. \n",
    "\n",
    "▪ For example, we may want to override one aspect of the **_parent method_** with certain functionality, but then call the rest of the original **_parent method_** to finish the **method**.\n",
    "\n",
    "▪ The **super()** function is most commonly used within the __init__() method because that is where you will most likely need to add some **uniqueness** to the **_child class_** and then complete **initialization** from the **_parent_**.\n",
    "\n",
    "▪ To see how this works, let’s modify our **_Trout child class_**. \n",
    "\n",
    "▪ Since **trout** are typically **freshwater fish**, let’s add a **water variable** to the **__init__() method** and set it equal to the string **\"freshwater\"**, but then maintain the rest of the **_parent_** class’s variables and parameters:\n",
    "\n",
    "https://www.educative.io/answers/what-is-super-in-python (very informative website)"
   ]
  },
  {
   "cell_type": "code",
   "execution_count": 63,
   "metadata": {
    "scrolled": false
   },
   "outputs": [
    {
     "name": "stdout",
     "output_type": "stream",
     "text": [
      "Name: Terry Fish\n",
      "Skeleton: Yes\n",
      "Eyelids: No\n",
      "\n",
      "Terry Fish is a bony fish without eyelids.\n"
     ]
    }
   ],
   "source": [
    "class Trout(Fish):\n",
    "    \n",
    "    # Defining __init__() in this way is the same as not defining it but inherit it directly from the parent class\n",
    "    def __init__(self, first_name = \"\", last_name = \"Fish\", skeleton = True, eyelids = False):\n",
    "        super().__init__(first_name, last_name, skeleton, eyelids)\n",
    "\n",
    "terry = Trout(\"Terry\") \n",
    "\n",
    "print(\"Name:\", terry.name())\n",
    "print(\"Skeleton:\", \"Yes\" if terry.skeleton else \"No\")\n",
    "print(\"Eyelids:\", \"Yes\" if terry.eyelids else \"No\")\n",
    "print()\n",
    "\n",
    "print(terry.intro())"
   ]
  },
  {
   "cell_type": "code",
   "execution_count": 69,
   "metadata": {},
   "outputs": [
    {
     "name": "stdout",
     "output_type": "stream",
     "text": [
      "Name: Terry Fish\n",
      "Skeleton: Yes\n",
      "Eyelids: No\n",
      "\n",
      "Terry Fish is a freshwater bony fish without eyelids.\n"
     ]
    }
   ],
   "source": [
    "class Trout(Fish):\n",
    "    \n",
    "    def __init__(self, first_name = \"\", last_name = \"Fish\", skeleton = True, eyelids = False, fresh_water = True):\n",
    "        self.fresh_water = fresh_water\n",
    "        super().__init__(first_name, last_name, skeleton, eyelids) # Inherit the properties/attribute from parent's class\n",
    "\n",
    "    def intro(self):\n",
    "        return \"{} is a {} {} {} {}\".format(self.name(), \n",
    "                                            (\"freshwater\") if self.fresh_water else (\"saltwater\"),\n",
    "                                            (\"bony fish\") if self.skeleton else (\"cartilaginous fish\"),\n",
    "                                            (\"with\") if self.eyelids else (\"without\"), \n",
    "                                            \"eyelids.\")\n",
    "\n",
    "terry = Trout(\"Terry\") \n",
    "\n",
    "print(\"Name:\", terry.name())\n",
    "print(\"Skeleton:\", \"Yes\" if terry.skeleton else \"No\")\n",
    "print(\"Eyelids:\", \"Yes\" if terry.eyelids else \"No\")\n",
    "print()\n",
    "\n",
    "print(terry.intro())"
   ]
  },
  {
   "cell_type": "markdown",
   "metadata": {},
   "source": [
    "### 2.4.1 Explanation #1\n",
    "\n",
    "▪ We have overrode the **__init__() method** in the **_Trout child class_**, by providing a different implementation of the __init__() that is already defined by its **_parent class Fish_**. \n",
    "\n",
    "▪ Within the **__init__() method** of our **_Trout class_** we have explicitly invoked the **__init__() method** of the **_Fish class_**.\n",
    "\n",
    "▪ Because we have overwritten the **method**, we no longer need to pass first_name in as a parameter to **Trout**, and if we did pass in a parameter, we would reset **freshwater** instead. \n",
    "\n",
    "▪ We will therefore **initialize** the **first_name** by calling the variable in our **object instance**.\n",
    "\n",
    "▪ Now we can invoke the **_initialized variables_** of the **_parent class_** and also make use of the unique **_child variable_**. Let’s use this in an **_instance of Trout_**:"
   ]
  },
  {
   "cell_type": "code",
   "execution_count": null,
   "metadata": {},
   "outputs": [],
   "source": [
    "terry = Trout()\n",
    "\n",
    "# Initialize first name\n",
    "terry.first_name = \"Terry\"\n",
    "\n",
    "# Use parent __init__() through super()\n",
    "print(terry.name())\n",
    "print(terry.eyelids)\n",
    "\n",
    "# Use child __init__() override\n",
    "print(terry.intro())\n",
    "\n",
    "# Use parent swim() method\n",
    "print(terry.swim())\n",
    "\n",
    "#excute this code segment and see the output"
   ]
  },
  {
   "cell_type": "markdown",
   "metadata": {},
   "source": [
    "\n",
    "▪ Two built-in functions **isinstance()** and **issubclass()** are used to check inheritances.\n",
    "\n",
    "▪ The function **isinstance()** returns True if the object is an instance of the class or other classes derived from it. \n",
    "\n",
    "▪ Each and every class in Python inherits from the base class object.\n",
    "\n",
    "▪ Similarly, **issubclass()** is used to check for class inheritance.\n",
    "\n",
    "https://www.programiz.com/python-programming/inheritance"
   ]
  },
  {
   "cell_type": "code",
   "execution_count": 71,
   "metadata": {},
   "outputs": [
    {
     "name": "stdout",
     "output_type": "stream",
     "text": [
      "True\n",
      "True\n",
      "False\n",
      "\n",
      "True\n",
      "False\n",
      "False\n"
     ]
    }
   ],
   "source": [
    "print(isinstance(terry, Trout)) # print True\n",
    "print(isinstance(terry, Fish)) # print True\n",
    "print(isinstance(terry, Clownfish)) # print False\n",
    "print()\n",
    "\n",
    "print(issubclass(Trout, Fish)) # print True\n",
    "print(issubclass(Fish, Clownfish)) # print True\n",
    "print(issubclass(Shark, Clownfish)) # print False"
   ]
  },
  {
   "cell_type": "markdown",
   "metadata": {},
   "source": [
    "### 2.4.2 Explanation #2\n",
    "\n",
    "▪ The **output** shows that the **_object terry_** of the **_Trout child class_** is able to make use of both the **child-specific __init__() variable water** while also being able to call the **_Fish parent_** __init__() variables of **first_name, last_name, and eyelids**.\n",
    "\n",
    "▪ The built-in Python function **super()** allows us to utilize **_parent class methods_** even when overriding certain aspects of those methods in our **_child classes_**."
   ]
  },
  {
   "cell_type": "markdown",
   "metadata": {},
   "source": [
    "## 2.5 Multiple Inheritance\n",
    "\n",
    "<img src=\"multiple_inheritance.jpg\" width=\"800\">\n",
    "\n",
    "▪ As its name is indicative, multiple inheritance in python is when a class inherits from multiple classes. \n",
    "\n",
    "▪ One example of this would be that a child inherits personality traits from both parents.\n",
    "\n",
    "### __mro__\n",
    "\n",
    "▪ mro() stands for Method Resolution Order. \n",
    "\n",
    "▪ It returns a list of types the class is derived from, in the order they are searched for methods.\n",
    "\n",
    "https://www.journaldev.com/14623/python-multiple-inheritance"
   ]
  },
  {
   "cell_type": "code",
   "execution_count": 1,
   "metadata": {},
   "outputs": [
    {
     "name": "stdout",
     "output_type": "stream",
     "text": [
      "True\n",
      "True\n"
     ]
    }
   ],
   "source": [
    "class Human:\n",
    "    pass\n",
    "\n",
    "class Superhero:\n",
    "    pass\n",
    "\n",
    "class Avenger(Human, Superhero):\n",
    "    pass\n",
    "\n",
    "print(issubclass(Avenger, Human)) \n",
    "print(issubclass(Avenger, Superhero))"
   ]
  },
  {
   "cell_type": "code",
   "execution_count": 2,
   "metadata": {},
   "outputs": [
    {
     "name": "stdout",
     "output_type": "stream",
     "text": [
      "Spiderman is a human\n"
     ]
    }
   ],
   "source": [
    "class Human:\n",
    "    def __init__(self, name):\n",
    "        self.human_name = name\n",
    "        print(\"{} is a human\".format(self.human_name))\n",
    "\n",
    "class Superhero:\n",
    "    def __init__(self, name):\n",
    "        self.superhero_name = name\n",
    "        print(\"{} is a superhero\".format(self.superhero_name))\n",
    "\n",
    "class Avenger(Human, Superhero):\n",
    "    def __init__(self, name):\n",
    "        super().__init__(name)\n",
    "\n",
    "spiderman = Avenger(\"Spiderman\")"
   ]
  },
  {
   "cell_type": "code",
   "execution_count": 4,
   "metadata": {},
   "outputs": [
    {
     "name": "stdout",
     "output_type": "stream",
     "text": [
      "Spiderman is a human\n",
      "(<class '__main__.Avenger'>, <class '__main__.Human'>, <class '__main__.Superhero'>, <class 'object'>)\n"
     ]
    }
   ],
   "source": [
    "spiderman = Avenger(\"Spiderman\")\n",
    "print(Avenger.__mro__)"
   ]
  },
  {
   "cell_type": "code",
   "execution_count": 1,
   "metadata": {},
   "outputs": [
    {
     "name": "stdout",
     "output_type": "stream",
     "text": [
      "Spiderman is a human\n",
      "Spiderman is a superhero\n"
     ]
    }
   ],
   "source": [
    "class Human:\n",
    "    def __init__(self, name):\n",
    "        self.human_name = name\n",
    "        print(\"{} is a human\".format(self.human_name))\n",
    "\n",
    "class Superhero:\n",
    "    def __init__(self, name):\n",
    "        self.superhero_name = name\n",
    "        print(\"{} is a superhero\".format(self.superhero_name))\n",
    "\n",
    "class Avenger(Human, Superhero):\n",
    "    def __init__(self, name):\n",
    "        # super().__init__(name)\n",
    "        Human.__init__(self, name)\n",
    "        Superhero.__init__(self, name)\n",
    "\n",
    "spiderman = Avenger(\"Spiderman\")"
   ]
  },
  {
   "cell_type": "markdown",
   "metadata": {},
   "source": [
    "## 2.6 Composition\n",
    "\n",
    "▪ Composition is a concept that models a has a relationship.\n",
    "\n",
    "▪ This relationship involves two types of classes: Composite class and Component class.\n",
    "\n",
    "▪ A Composite class contains an object of a Component class. \n",
    "\n",
    "▪ For instance, a house has a room(s) and a kitchen. In other words, both the room and the kitchen are part-of the house."
   ]
  },
  {
   "cell_type": "code",
   "execution_count": 3,
   "metadata": {},
   "outputs": [
    {
     "name": "stdout",
     "output_type": "stream",
     "text": [
      "A house object is created\n",
      "A house has a room and a kitchen\n",
      "A room object is created\n",
      "A kitchen object is created\n"
     ]
    }
   ],
   "source": [
    "class House:\n",
    "    def __init__(self):\n",
    "        print(\"A house object is created\")\n",
    "        print(\"A house has a room and a kitchen\")\n",
    "        room = Room()\n",
    "        kitchen = Kitchen()\n",
    "        \n",
    "class Room:\n",
    "    def __init__(self):\n",
    "        print(\"A room object is created\")\n",
    "\n",
    "class Kitchen:\n",
    "    def __init__(self):\n",
    "        print(\"A kitchen object is created\")\n",
    "\n",
    "house_1 = House()"
   ]
  },
  {
   "cell_type": "markdown",
   "metadata": {},
   "source": [
    "# 3.0 Exercises"
   ]
  },
  {
   "cell_type": "markdown",
   "metadata": {},
   "source": [
    "## Question 1:\n",
    "\n",
    "Translate the following statements into frames. Then code the frames (class and instance) using Python. \n",
    "\n",
    "A. Animal is-a class.<br>\n",
    "B. Pet is-a animal.<br>\n",
    "C. Pet has-a name.<br>\n",
    "D. Dog is-a pet.<br>\n",
    "E. Cat is-a pet.<br>\n",
    "F. Garfield is-a cat.<br>\n",
    "G. Pluto is-a dog.<br>\n",
    "H. Person is-a animal.<br>\n",
    "I. Person has-a name.<br>\n",
    "J. Student is-a Person.<br>\n",
    "K. Student has-a student id.<br>\n",
    "L. John is-a student.<br>\n",
    "M. His id is “TARUC1”."
   ]
  },
  {
   "cell_type": "code",
   "execution_count": 13,
   "metadata": {},
   "outputs": [
    {
     "name": "stdout",
     "output_type": "stream",
     "text": [
      "Grafield\n",
      "Pluto\n",
      "John\n",
      "TARUC1\n"
     ]
    }
   ],
   "source": [
    "# A. Animal is-a class.\n",
    "# C + I\n",
    "class Animal: \n",
    "    def __init__(self, name):\n",
    "        self.name = name\n",
    "\n",
    "# B. Pet is-a animal.\n",
    "# C. Pet has-a name.\n",
    "class Pet(Animal):\n",
    "    pass\n",
    "\n",
    "# D. Dog is-a pet.\n",
    "class Dog(Pet):\n",
    "    pass\n",
    "\n",
    "# E. Cat is-a pet.\n",
    "class Cat(Pet):\n",
    "    pass\n",
    "\n",
    "# H. Person is-a animal.\n",
    "# I. Person has-a name.\n",
    "class Person(Animal):\n",
    "    pass\n",
    "\n",
    "# J. Student is-a Person.\n",
    "# K. Student has-a student id.\n",
    "class Student(Person):\n",
    "    def __init__(self, name, student_id = \"ABC1001\"):\n",
    "        self.student_id = student_id\n",
    "        super().__init__(name)\n",
    "\n",
    "# F. Garfield is-a cat.\n",
    "garfield = Cat(\"Grafield\")\n",
    "print(garfield.name)\n",
    "\n",
    "# G. Pluto is-a dog.\n",
    "pluto = Dog(\"Pluto\")\n",
    "print(pluto.name)\n",
    "\n",
    "# L. John is-a student.\n",
    "john = Student(\"John\", \"TARUC1\")\n",
    "print(john.name)\n",
    "print(john.student_id)"
   ]
  },
  {
   "cell_type": "markdown",
   "metadata": {},
   "source": [
    "## Question 2:\n",
    "\n",
    "Time is a class. Time has the attributes of hour, minute and second. The default values of the attributes are zero (0), but the constructor of the class allows the hour, minute and second to be set by the user when an instance is created. Time has a method called tick(), which will increase the second by 1 each time it is executed. Therefore after 10,000 iterations of tick(), the “hour” attribute will increase by 2, the “minute” will increase by 46, and the “second” will increase by 40. Hence, printing the Time instance after 10,000 iterations of tick() will display 2:46:40 on the screen if all the attributes of hour, minute and second are not set.  On the other side, if the attributes are set as 13 hours, 20 minutes and 5 seconds when the instance is created, then printing the Time instance after 10,000 iterations of tick() will result in 16:6:45 displayed on the screen. 3"
   ]
  },
  {
   "cell_type": "code",
   "execution_count": null,
   "metadata": {},
   "outputs": [],
   "source": [
    "class Time:\n",
    "    \n",
    "    def __init__(self, hour = 0, minute = 0, second = 0):\n",
    "        self.hour = hour\n",
    "        self.minute = minute\n",
    "        self.second = second\n",
    "    \n",
    "    def tick(self):\n",
    "        self.second += 1;\n",
    "        #add overflow to minutes from seconds\n",
    "        self.minute += int(self.second / 60);\n",
    "        #update seconds \n",
    "        self.second = self.second % 60;\n",
    "        #add overflow to hours from minutes\n",
    "        self.hour += int(self.minute / 60);\n",
    "        #update minutes\n",
    "        self.minute = self.minute % 60;\n",
    "        #adjust hours\n",
    "        self.hour = self.hour % 24;\n",
    "        #https://stackoverflow.com/questions/12862017/java-clock-assignment\n",
    "        \n",
    "    def print_time(self):\n",
    "        # return ('{}:{}:{}'.format(self.hour, self.minute, self.second))\n",
    "        return ('{}:{}:{}'.format(self.hour, self.minute, (\"0\" + str(self.second)) if self.second < 10 else self.second))\n",
    "\n",
    "time_1 = Time()\n",
    "time_2 = Time(13, 20, 5)\n",
    "\n",
    "for index in range(10000):\n",
    "    time_1.tick()\n",
    "    time_2.tick()\n",
    "\n",
    "print(time_1.print_time())\n",
    "print(time_2.print_time())"
   ]
  },
  {
   "cell_type": "markdown",
   "metadata": {},
   "source": [
    "## Question 3:\n",
    "\n",
    "Date is a class. Date has the attributes of day, month and year. Each month has either 30 or 31 days, except that February has 28 days in general. Date has a method called advance(), which will increase the day by 1 each time it is executed. Therefore after 1000 iterations of advance(), without considering the leap year, the year will increase by 2 (i.e. 730 days), and the month will increase by 8 (i.e. 243 days), and the day will increase by 27. Hence, printing the Date instance after 1000 iterations of advance() will display 27/8/2 (2 years 8 months 27 days) on the screen, if the attributes of day, month and year are not set. However, if the attributes are set as 1 day, 7 month and 2016 year when the instance is created, then printing the Date instance after 1000 iterations of advance() will display 28/3/2019 on the screen. "
   ]
  },
  {
   "cell_type": "code",
   "execution_count": null,
   "metadata": {},
   "outputs": [],
   "source": [
    "class Date:\n",
    "    \n",
    "    def __init__(self, year = 0, month = 0, day = 0):\n",
    "        self.day = day\n",
    "        self.month = month\n",
    "        self.year = year\n",
    "    \n",
    "    # Get the total number of days (the sume of the initial value and the increment from advance())\n",
    "    def advance(self):\n",
    "        # Increase the value of day by 1\n",
    "        self.day += 1\n",
    "    \n",
    "    def calculate(self):\n",
    "        # Calculate the total number of years from total number of days\n",
    "        self.year += self.day // 365\n",
    "        \n",
    "        # Calculate the total number of days remaining\n",
    "        self.day = self.day % 365 \n",
    "        \n",
    "        # Set the counter so that number of days can be chosen correctly based on month\n",
    "        # The value of counter cannot be greater than 12 because the value of day is less than 365\n",
    "        self.counter = self.month\n",
    "        \n",
    "        while True:\n",
    "            # Deduct 31 from day for selected months\n",
    "            if self.counter in {1, 3, 5, 7, 8, 10, 12}:\n",
    "                # Break out of the loop as day cannot be negative\n",
    "                if self.day - 31 < 0:\n",
    "                    break\n",
    "                else:\n",
    "                    self.day -= 31\n",
    "            # Deduct 28 from day for february\n",
    "            elif self.counter == 2:\n",
    "                if self.day - 28 < 0:\n",
    "                    break\n",
    "                else:\n",
    "                    self.day -= 28\n",
    "            # Deduct 30 from day for other months\n",
    "            else:\n",
    "                if self.day - 30 < 0:\n",
    "                    break\n",
    "                else:\n",
    "                    self.day -= 30 \n",
    "            \n",
    "            # Increase the value of month by 1 everytime deduction happens\n",
    "            self.month += 1\n",
    "            \n",
    "            # Increase the value of counter by 1\n",
    "            self.counter += 1\n",
    "            \n",
    "            if self.counter == 13:\n",
    "                self.counter = 1\n",
    "        \n",
    "        # The number of months may exceed 12 due to the input from initialization\n",
    "        # Add excessive flow of month to year and get the balance as the actual month\n",
    "        self.year = self.year + self.month // 12\n",
    "        self.month = self.month % 12\n",
    "           \n",
    "    def print_date(self):\n",
    "        return (\"{}/{}/{}\".format(self.day, self.month, self.year))\n",
    "        \n",
    "date_1 = Date()\n",
    "date_2 = Date(2016, 7, 1)\n",
    "\n",
    "for i in range(1000):\n",
    "    date_1.advance()\n",
    "    date_2.advance()\n",
    "\n",
    "date_1.calculate()\n",
    "date_2.calculate()\n",
    "\n",
    "print(date_1.print_date())\n",
    "print(date_2.print_date())"
   ]
  },
  {
   "cell_type": "markdown",
   "metadata": {},
   "source": [
    "## Question 4:\n",
    "\n",
    "Referring to Question 2 and Question 3, DateTime is a subclass that is derived from Date and Time classes. DateTime allows the user to set the day, month, year, hours, minutes and seconds. DateTime inherits both tick() and advance() methods from the parent classes.  Assume that you would like to create a DateTime object called startDate. Set the StartDate as 1st September of the current year. The duration of the assignment is 2 weeks (14 days) and 17.5 hours (63,000 seconds).  Perform the advance() and tick() methods with necessary number of iterations. Then display the final results on the screen. "
   ]
  },
  {
   "cell_type": "code",
   "execution_count": null,
   "metadata": {},
   "outputs": [],
   "source": [
    "class DateTime(Date, Time):\n",
    "\n",
    "    def __init__(self, year = 0, month = 0, day = 0, hour = 0, minute = 0, second = 0):\n",
    "        self.hour = hour\n",
    "        self.minute = minute\n",
    "        self.second = second\n",
    "        super().__init__(year, month, day)\n",
    "    \n",
    "    def print_date_and_time(self):\n",
    "        return (\"{} {}\".format(self.print_date(), self.print_time()))\n",
    "\n",
    "startDate = DateTime(2022, 9, 1)\n",
    "\n",
    "for i in range(14):\n",
    "    startDate.advance()\n",
    "\n",
    "for i in range(63000):\n",
    "    startDate.tick()\n",
    "\n",
    "startDate.calculate()\n",
    "print(startDate.print_date_and_time())"
   ]
  },
  {
   "cell_type": "markdown",
   "metadata": {},
   "source": [
    "### Method Resolution Order\n",
    "\n",
    "▪ MRO is a concept used in inheritance. \n",
    "\n",
    "▪ It is the order in which a method is searched for in a classes hierarchy and is especially useful in Python because Python supports multiple inheritance.\n",
    "\n",
    "▪ When the parent classes have methods with the same name and the child class calls the method, Python uses the method resolution order (MRO) to search for the right method to call. \n",
    "\n",
    "▪ Both the Date and Time classes have the **\\_\\_init\\_\\_** methods, to find out which one will be called when it is invoked with the use of **super().\\_\\_init\\_\\_**, use **\\_\\_mro\\_\\_** to find out the answer.\n",
    "\n",
    "▪ The output shows that the **super().\\_\\_init\\_\\_** calls the **\\_\\_init\\_\\_** method of the Date class.\n",
    "\n",
    "▪ Therefore, we need to provide the right argument to the method, for instance, year, month and date.\n",
    "\n",
    "https://www.pythontutorial.net/python-oop/python-multiple-inheritance/"
   ]
  },
  {
   "cell_type": "code",
   "execution_count": null,
   "metadata": {},
   "outputs": [],
   "source": [
    "print(DateTime.__mro__)\n",
    "print(startDate)"
   ]
  },
  {
   "cell_type": "markdown",
   "metadata": {},
   "source": [
    "## Reference: \n",
    "https://docs.python.org/2/tutorial/classes.html#inheritance "
   ]
  },
  {
   "cell_type": "markdown",
   "metadata": {},
   "source": [
    "## Question 5:\n",
    "\n",
    "#### Source\n",
    "\n",
    "![](exercise1.png)\n",
    "\n",
    "https://en.m.wikipedia.org/wiki/File:Semantic_Net.svg\n",
    "\n",
    "#### Composition in Python\n",
    "\n",
    "https://www.geeksforgeeks.org/inheritance-and-composition-in-python/\n",
    "\n",
    "#### Reference:\n",
    "\n",
    "https://en.m.wikipedia.org/wiki/File:Semantic_Net.svg\n",
    "\n",
    "https://towardsmachinelearning.org/composition-in-python/\n",
    "\n",
    "https://zerotobyte.com/how-to-get-class-name-in-python/\n",
    "\n",
    "https://stackoverflow.com/questions/4894069/regular-expression-to-return-text-between-parenthesis\n",
    "\n",
    "https://stackoverflow.com/questions/10091957/get-parent-class-name (how to extract parent class name)"
   ]
  },
  {
   "cell_type": "code",
   "execution_count": 90,
   "metadata": {},
   "outputs": [
    {
     "name": "stdout",
     "output_type": "stream",
     "text": [
      "A water object is created\n",
      "A Water is an instance of object\n",
      "\n",
      "A fish object is created\n",
      "A Fish is an instance of animal\n",
      "\n",
      "A whale object is created\n",
      "A whale is an instance of mammal\n",
      "\n",
      "The fish lives in the water\n",
      "The whale lives in the water\n"
     ]
    }
   ],
   "source": [
    "class Animal:\n",
    "    def __init__(self):\n",
    "        print(\"A {} object is created\".format(Animal.__mro__[0].__name__.lower()))\n",
    "        print(\"A {} is an instance of {}\\n\".format(Animal.__mro__[0].__name__.lower(), Animal.__mro__[1].__name__.lower()))\n",
    "\n",
    "class Fish(Animal):\n",
    "    def __init__(self):\n",
    "        print(\"A {} object is created\".format(Fish.__mro__[0].__name__.lower()))\n",
    "        print(\"A {} is an instance of {}\\n\".format(Fish.__mro__[0].__name__.lower(), Fish.__mro__[1].__name__.lower()))\n",
    "        \n",
    "class Mammal(Animal):\n",
    "    def __init__(self):\n",
    "        print(\"A {} object is created\".format(Mammal.__mro__[0].__name__.lower()))\n",
    "        print(\"A {} is an instance of {}\\n\".format(Mammal.__mro__[0].__name__.lower(), Mammal.__mro__[1].__name__.lower()))\n",
    "        self.obj_verterbra = Vertebra()\n",
    "        print(\"The {} has {}\".format(Mammal.__mro__[0].__name__.lower(), Vertebra.__mro__[0].__name__.lower()))\n",
    "\n",
    "class Bear(Mammal):\n",
    "    def __init__(self):\n",
    "        print(\"A {} object is created\".format(Bear.__mro__[0].__name__.lower()))\n",
    "        print(\"A {} is an instance of {}\\n\".format(Bear.__mro__[0].__name__.lower(), Bear.__mro__[1].__name__.lower()))\n",
    "        self.obj_fur = Fur()\n",
    "        print(\"The {} has {}\".format(Bear.__mro__[0].__name__.lower(), Fur.__mro__[0].__name__.lower()))\n",
    "\n",
    "class Whale(Mammal):\n",
    "    def __init__(self):\n",
    "        print(\"A {} object is created\".format(Whale.__mro__[0].__name__.lower()))\n",
    "        print(\"A {} is an instance of {}\\n\".format(Whale.__mro__[0].__name__.lower(), Whale.__mro__[1].__name__.lower()))\n",
    "\n",
    "class Cat(Mammal):\n",
    "    def __init__(self):\n",
    "        print(\"A {} object is created\".format(Cat.__mro__[0].__name__.lower()))\n",
    "        print(\"A {} is an instance of {}\\n\".format(Cat.__mro__[0].__name__.lower(), Cat.__mro__[1].__name__.lower()))\n",
    "        self.obj_fur = Fur()\n",
    "        print(\"The {} has {}\".format(Cat.__mro__[0].__name__.lower(), Fur.__mro__[0].__name__.lower()))\n",
    "        \n",
    "class Vertebra:\n",
    "    def __init__(self):\n",
    "        print(\"A {} object is created\".format(Vertebra.__mro__[0].__name__.lower()))\n",
    "        print(\"A {} is an instance of {}\\n\".format(Vertebra.__mro__[0].__name__.lower(), Vertebra.__mro__[1].__name__.lower()))\n",
    "\n",
    "class Water:\n",
    "    def __init__(self):\n",
    "        print(\"A {} object is created\".format(Water.__mro__[0].__name__.lower()))\n",
    "        print(\"A {} is an instance of {}\\n\".format(Water.__mro__[0].__name__.lower(), Water.__mro__[1].__name__.lower()))\n",
    "        self.obj_fish = Fish()\n",
    "        self.obj_whale = Whale()\n",
    "        print(\"The {} lives in the {}\".format(Fish.__mro__[0].__name__.lower(), Water.__mro__[0].__name__.lower()))\n",
    "        print(\"The {} lives in the {}\".format(Whale.__mro__[0].__name__.lower(), Water.__mro__[0].__name__.lower()))\n",
    "\n",
    "class Fur:\n",
    "    def __init__(self):\n",
    "        print(\"A {} object is created\".format(Fur.__mro__[0].__name__.lower()))\n",
    "        print(\"A {} is an instance of {}\\n\".format(Fur.__mro__[0].__name__.lower(), Fur.__mro__[1].__name__.lower()))\n",
    "\n",
    "water_1 = Water()\n",
    "# fish_1 = Fish()\n",
    "# bear_1 = Bear()"
   ]
  },
  {
   "cell_type": "code",
   "execution_count": 3,
   "metadata": {},
   "outputs": [
    {
     "name": "stdout",
     "output_type": "stream",
     "text": [
      "A fish object is created\n",
      "A Fish is an instance of animal\n",
      "\n"
     ]
    }
   ],
   "source": [
    "import frame\n",
    "\n",
    "fish = Fish()"
   ]
  },
  {
   "cell_type": "code",
   "execution_count": 89,
   "metadata": {},
   "outputs": [
    {
     "name": "stdout",
     "output_type": "stream",
     "text": [
      "A fish object is created\n",
      "A Fish is an instance of animal\n",
      "\n",
      "(<class '__main__.Fish'>, <class '__main__.Animal'>, <class 'object'>)\n",
      "Fish\n",
      "Animal\n",
      "object\n"
     ]
    }
   ],
   "source": [
    "fish = Fish()\n",
    "print(Fish.__mro__)\n",
    "print(Fish.__mro__[0].__name__)\n",
    "print(Fish.__mro__[1].__name__)\n",
    "print(Fish.__mro__[2].__name__)"
   ]
  }
 ],
 "metadata": {
  "kernelspec": {
   "display_name": "Python 3 (ipykernel)",
   "language": "python",
   "name": "python3"
  },
  "language_info": {
   "codemirror_mode": {
    "name": "ipython",
    "version": 3
   },
   "file_extension": ".py",
   "mimetype": "text/x-python",
   "name": "python",
   "nbconvert_exporter": "python",
   "pygments_lexer": "ipython3",
   "version": "3.11.5"
  }
 },
 "nbformat": 4,
 "nbformat_minor": 2
}
