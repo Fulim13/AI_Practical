{
 "cells": [
  {
   "cell_type": "markdown",
   "metadata": {},
   "source": [
    "# Practical 2: Python Collections\n",
    "\n",
    "## 1.1 Introduction\n",
    "\n",
    "### 1.1.1 What are Python Collections?\n",
    "\n",
    "▪ Collections in Python are commonly known as data structures, which refer to ways of organizing and storing data so that it can be used efficiently.\n",
    "\n",
    "▪ List, Tuple, Set, and Dictionary are Python's built-in collections.\n",
    "\n",
    "<img src=\"comparison.png\" width=\"650\">"
   ]
  },
  {
   "cell_type": "markdown",
   "metadata": {},
   "source": [
    "## 1.5 Dictionaries\n",
    "\n",
    "### 1.5.1 Introduction\n",
    "\n",
    "▪ Dictionaries  are a collection of **mutable**, **ordered** and **iterable** data, which can contain **heterogeneous** but **not duplicate data**.\n",
    "\n",
    "▪ As of Python version 3.7, dictionaries are ordered. In Python 3.6 and earlier, dictionaries are unordered.\n",
    "\n",
    "▪ A dictionary stores items in **key/value pairs**, where keys are unique identifiers that are associated with each value.\n",
    "\n",
    "![dictionary.png](dictionary.png)\n",
    "\n",
    "https://www.programiz.com/python-programming/dictionary"
   ]
  },
  {
   "cell_type": "markdown",
   "metadata": {},
   "source": [
    "### 1.5.2 Creating Dictionaries\n",
    "\n",
    "▪ Every item in a dictionary has a key and its corresponding value (key: value)."
   ]
  },
  {
   "cell_type": "code",
   "execution_count": null,
   "metadata": {},
   "outputs": [],
   "source": [
    "id_name = {2210821: \"John\", 2210847: \"Michelle\", 2210905: \"Alice\"}\n",
    "print(id_name)"
   ]
  },
  {
   "cell_type": "code",
   "execution_count": null,
   "metadata": {},
   "outputs": [],
   "source": [
    "state_capital = {\"Johor\": \"Johor Bahru\", \"Selangor\": \"Shah Alam\", \"Sabah\": \"Kota Kinabalu\"}\n",
    "print(state_capital)"
   ]
  },
  {
   "cell_type": "code",
   "execution_count": null,
   "metadata": {},
   "outputs": [],
   "source": [
    "word_frequency = {\"Hello\" : 7, \"hi\" : 10, \"there\" : 45, \"at\" : 23, \"this\" : 77}\n",
    "print(word_frequency)"
   ]
  },
  {
   "cell_type": "markdown",
   "metadata": {},
   "source": [
    "### 1.5.3 Dictionaries Do Not Have Duplicate Data"
   ]
  },
  {
   "cell_type": "code",
   "execution_count": null,
   "metadata": {},
   "outputs": [],
   "source": [
    "id_name = {2210821: \"John\", 2210847: \"Michelle\", 2210905: \"Alice\", 2210821: \"John\"}\n",
    "print(id_name)"
   ]
  },
  {
   "cell_type": "markdown",
   "metadata": {},
   "source": [
    "### 1.5.4 Dictionaries are Ordered Collection"
   ]
  },
  {
   "cell_type": "code",
   "execution_count": null,
   "metadata": {},
   "outputs": [],
   "source": [
    "number_digit = {2: \"Two\", 1: \"One\", 4: \"Four\", 3: \"Three\"}\n",
    "print(number_digit)"
   ]
  },
  {
   "cell_type": "markdown",
   "metadata": {},
   "source": [
    "### 1.5.5 Creating Dictionaries with dict()"
   ]
  },
  {
   "cell_type": "code",
   "execution_count": null,
   "metadata": {},
   "outputs": [],
   "source": [
    "state_capital = dict(Johor = \"Johor Bahru\", Selangor = \"Shah Alam\", Sabah = \"Kota Kinabalu\")\n",
    "print(state_capital)"
   ]
  },
  {
   "cell_type": "markdown",
   "metadata": {},
   "source": [
    "### 1.5.6 Creating an Empty Dictionary"
   ]
  },
  {
   "cell_type": "code",
   "execution_count": null,
   "metadata": {},
   "outputs": [],
   "source": [
    "dictionary_1 = {}\n",
    "\n",
    "print(dictionary_1)"
   ]
  },
  {
   "cell_type": "code",
   "execution_count": null,
   "metadata": {},
   "outputs": [],
   "source": [
    "print(type(dictionary_1))"
   ]
  },
  {
   "cell_type": "code",
   "execution_count": null,
   "metadata": {},
   "outputs": [],
   "source": [
    "dictionary_1 = dict()\n",
    "print(dictionary_1)"
   ]
  },
  {
   "cell_type": "markdown",
   "metadata": {},
   "source": [
    "### 1.5.7 Creating a Dictionary with Mixed Data Types"
   ]
  },
  {
   "cell_type": "code",
   "execution_count": null,
   "metadata": {},
   "outputs": [],
   "source": [
    "student_info = {'name': 'John', 'year': 2, 'courses': ['BACS2003', 'BACS2023', 'BACS2040']}\n",
    "\n",
    "print(student_info)"
   ]
  },
  {
   "cell_type": "markdown",
   "metadata": {},
   "source": [
    "### 1.5.8 Creating a Dictionary from a List Using fromkeys()"
   ]
  },
  {
   "cell_type": "code",
   "execution_count": null,
   "metadata": {},
   "outputs": [],
   "source": [
    "word_list = [\"Hello\", \"hi\", \"there\", \"at\", \"this\"]\n",
    "\n",
    "word_frequency = dict.fromkeys(word_list, 0)\n",
    "print(word_frequency)"
   ]
  },
  {
   "cell_type": "markdown",
   "metadata": {},
   "source": [
    "### 1.5.9 Creating a Dictionary from Two Lists Using zip()"
   ]
  },
  {
   "cell_type": "code",
   "execution_count": null,
   "metadata": {},
   "outputs": [],
   "source": [
    "word_list = [\"Hello\", \"hi\", \"there\", \"at\", \"this\"]\n",
    "frequency_list = [7, 10, 45, 23, 77]\n",
    "\n",
    "word_frequency = dict(zip(word_list, frequency_list))\n",
    "print(word_frequency)"
   ]
  },
  {
   "cell_type": "markdown",
   "metadata": {},
   "source": [
    "### 1.5.10 Creating a Dictionary from a List of Tuples"
   ]
  },
  {
   "cell_type": "code",
   "execution_count": null,
   "metadata": {},
   "outputs": [],
   "source": [
    "# Creating a list of binary tuples\n",
    "word_frequency_tuple = [(\"Hello\", 7), (\"hi\", 10), (\"there\", 45), (\"at\", 23), (\"this\", 77)]\n",
    "\n",
    "# Creating and initializing a dict using a list of binary tuple\n",
    "word_frequency_dict = dict(word_frequency_tuple)\n",
    "print(word_frequency_dict)"
   ]
  },
  {
   "cell_type": "code",
   "execution_count": null,
   "metadata": {},
   "outputs": [],
   "source": [
    "student_info = dict([('name', ['Tomy', 'Hillfigure']), ('age', '19'), ('level', 'BSc'), ('programme', 'ST'), ('year', 2),\n",
    "                 ('registration_id', '16WAD5678'), ('tel', '0191111000')])\n",
    "print(student_info)"
   ]
  },
  {
   "cell_type": "markdown",
   "metadata": {},
   "source": [
    "### 1.5.11 Accessing an Element of Dictionary"
   ]
  },
  {
   "cell_type": "code",
   "execution_count": null,
   "metadata": {},
   "outputs": [],
   "source": [
    "print('Name:', student_info[0])"
   ]
  },
  {
   "cell_type": "code",
   "execution_count": null,
   "metadata": {},
   "outputs": [],
   "source": [
    "# Retrieving individual value associated with the key 'name'\n",
    "print('Name:', student_info['name'])"
   ]
  },
  {
   "cell_type": "code",
   "execution_count": null,
   "metadata": {},
   "outputs": [],
   "source": [
    "if student_info['level'] == 'BSc':\n",
    "    print('Programme R' + student_info['programme'] + str(student_info['year']))"
   ]
  },
  {
   "cell_type": "markdown",
   "metadata": {},
   "source": [
    "### 1.5.12 Accessing an Element of Dictionary with get()\n",
    "\n",
    "▪ The **get()** method returns the value of the item with the specified key."
   ]
  },
  {
   "cell_type": "code",
   "execution_count": null,
   "metadata": {},
   "outputs": [],
   "source": [
    "print('Registration ID:', student_info.get('registration_id'))"
   ]
  },
  {
   "cell_type": "code",
   "execution_count": null,
   "metadata": {},
   "outputs": [],
   "source": [
    "print('Gender:', student_info.get('gender'))"
   ]
  },
  {
   "cell_type": "code",
   "execution_count": null,
   "metadata": {},
   "outputs": [],
   "source": [
    "print('Gender:', student_info['gender'])"
   ]
  },
  {
   "cell_type": "code",
   "execution_count": null,
   "metadata": {},
   "outputs": [],
   "source": [
    "print('Gender:', student_info.get('gender', 'This item doesn\\'t exist'))"
   ]
  },
  {
   "cell_type": "markdown",
   "metadata": {},
   "source": [
    "### 1.5.13 Accessing All Keys and Values Separately Using keys() and values()\n",
    "\n",
    "▪ The **keys()** method returns a list that contains only the keys that are inside the dictionary.\n",
    "\n",
    "▪ The **values()** method returns a list that contains only the values that are inside the dictionary."
   ]
  },
  {
   "cell_type": "code",
   "execution_count": null,
   "metadata": {},
   "outputs": [],
   "source": [
    "print(student_info.keys())"
   ]
  },
  {
   "cell_type": "code",
   "execution_count": null,
   "metadata": {},
   "outputs": [],
   "source": [
    "print(student_info.values())"
   ]
  },
  {
   "cell_type": "markdown",
   "metadata": {},
   "source": [
    "### 1.5.14 Accessing All Key-Value Pairs Using items()\n",
    "\n",
    "▪ The **items()** method returns a list of tuples that contains the key-value pairs that are inside the dictionary."
   ]
  },
  {
   "cell_type": "code",
   "execution_count": null,
   "metadata": {},
   "outputs": [],
   "source": [
    "# Retrieve a list of key-value pairs as tuples\n",
    "print(student_info.items())"
   ]
  },
  {
   "cell_type": "markdown",
   "metadata": {},
   "source": [
    "### 1.5.15 Loop Through a Dictionary"
   ]
  },
  {
   "cell_type": "code",
   "execution_count": null,
   "metadata": {},
   "outputs": [],
   "source": [
    "# Iterate through all keys in a dictionary\n",
    "for value in student_info:\n",
    "    print(value)"
   ]
  },
  {
   "cell_type": "code",
   "execution_count": null,
   "metadata": {},
   "outputs": [],
   "source": [
    "# Iterate through all values in a dictionary via values()\n",
    "for value in student_info.values():\n",
    "    print(value)"
   ]
  },
  {
   "cell_type": "code",
   "execution_count": null,
   "metadata": {},
   "outputs": [],
   "source": [
    "# Iterate through all keys and values in a dictionary via items\n",
    "for key, value in student_info.items():\n",
    "    print(key, \":\", value)"
   ]
  },
  {
   "cell_type": "code",
   "execution_count": null,
   "metadata": {},
   "outputs": [],
   "source": [
    "# Iterate through all keys and values in a dictionary via items\n",
    "for x, y in student_info.items():\n",
    "    print(x, \":\", y)"
   ]
  },
  {
   "cell_type": "markdown",
   "metadata": {},
   "source": [
    "### 1.5.16 Dictionary Membership Test"
   ]
  },
  {
   "cell_type": "code",
   "execution_count": null,
   "metadata": {},
   "outputs": [],
   "source": [
    "print('name' in student_info)\n",
    "print('gender' in student_info)"
   ]
  },
  {
   "cell_type": "markdown",
   "metadata": {},
   "source": [
    "### 1.5.17 Modifying Dictionaries: Updating One Item\n",
    "\n",
    "▪ A dictionary's keys are immutable but their corresponding values are mutable."
   ]
  },
  {
   "cell_type": "code",
   "execution_count": null,
   "metadata": {},
   "outputs": [],
   "source": [
    "word_frequency_1 = {\"Hello\" : 7, \"hi\" : 10, \"there\" : 45, \"at\" : 23, \"this\" : 77}\n",
    "print(word_frequency_1[\"hi\"])"
   ]
  },
  {
   "cell_type": "code",
   "execution_count": null,
   "metadata": {},
   "outputs": [],
   "source": [
    "word_frequency_1[\"hi\"] = 20\n",
    "print(word_frequency_1[\"hi\"])"
   ]
  },
  {
   "cell_type": "markdown",
   "metadata": {},
   "source": [
    "### 1.5.18 Modifying Dictionaries: Updating More than One Item\n",
    "\n",
    "▪ The **update()** method can be used to update more than one value inside a dictionary at the same time."
   ]
  },
  {
   "cell_type": "code",
   "execution_count": null,
   "metadata": {},
   "outputs": [],
   "source": [
    "word_frequency_1 = {\"Hello\" : 7, \"hi\" : 10, \"there\" : 45, \"at\" : 23, \"this\" : 77}\n",
    "\n",
    "word_frequency_1.update(there = 100, at = 200, bye = 55)\n",
    "print(word_frequency_1)"
   ]
  },
  {
   "cell_type": "code",
   "execution_count": null,
   "metadata": {},
   "outputs": [],
   "source": [
    "word_frequency_2 = {\"house\" : 15, \"town\" : 22}\n",
    "word_frequency_2.update(word_frequency_1)\n",
    "\n",
    "print(word_frequency_2)"
   ]
  },
  {
   "cell_type": "markdown",
   "metadata": {},
   "source": [
    "### 1.5.19 Removing Elements from Dictionary with pop()\n",
    "\n",
    "▪ The **pop()** method removes an item with the provided key and returns the value.\n",
    "\n",
    "https://www.programiz.com/python-programming/dictionary"
   ]
  },
  {
   "cell_type": "code",
   "execution_count": null,
   "metadata": {},
   "outputs": [],
   "source": [
    "squares_1 = {1: 1, 2: 4, 3: 9, 4: 16, 5: 25}\n",
    "\n",
    "# Use pop() to remove a particular item and returns its value\n",
    "print(squares_1.pop(4))"
   ]
  },
  {
   "cell_type": "code",
   "execution_count": null,
   "metadata": {},
   "outputs": [],
   "source": [
    "print(squares_1)"
   ]
  },
  {
   "cell_type": "code",
   "execution_count": null,
   "metadata": {},
   "outputs": [],
   "source": [
    "word_frequency_1 = {\"Hello\" : 7, \"hi\" : 10, \"there\" : 45, \"at\" : 23, \"this\" : 77}\n",
    "print(word_frequency_1.pop(\"there\"))"
   ]
  },
  {
   "cell_type": "code",
   "execution_count": null,
   "metadata": {},
   "outputs": [],
   "source": [
    "print(word_frequency_1)"
   ]
  },
  {
   "cell_type": "markdown",
   "metadata": {},
   "source": [
    "### 1.5.20 Removing Elements from Dictionary with popitem()\n",
    "\n",
    "▪ The **popitem()** method can be used to remove and return the last (key, value) item pair from the dictionary."
   ]
  },
  {
   "cell_type": "code",
   "execution_count": null,
   "metadata": {},
   "outputs": [],
   "source": [
    "# Use popitem() to remove the last item, return (key,value)\n",
    "print(squares_1.popitem())"
   ]
  },
  {
   "cell_type": "code",
   "execution_count": null,
   "metadata": {},
   "outputs": [],
   "source": [
    "print(squares_1)"
   ]
  },
  {
   "cell_type": "code",
   "execution_count": null,
   "metadata": {},
   "outputs": [],
   "source": [
    "print(word_frequency_1.popitem())"
   ]
  },
  {
   "cell_type": "code",
   "execution_count": null,
   "metadata": {},
   "outputs": [],
   "source": [
    "print(word_frequency_1)"
   ]
  },
  {
   "cell_type": "markdown",
   "metadata": {},
   "source": [
    "### 1.5.21 Removing Elements from Dictionary with clear()"
   ]
  },
  {
   "cell_type": "code",
   "execution_count": null,
   "metadata": {},
   "outputs": [],
   "source": [
    "# Remove all items with clear()\n",
    "squares_1.clear()"
   ]
  },
  {
   "cell_type": "code",
   "execution_count": null,
   "metadata": {},
   "outputs": [],
   "source": [
    "print(squares_1)"
   ]
  },
  {
   "cell_type": "markdown",
   "metadata": {},
   "source": [
    "### 1.5.22 Removing Elements from Dictionary with del Keyword"
   ]
  },
  {
   "cell_type": "code",
   "execution_count": null,
   "metadata": {},
   "outputs": [],
   "source": [
    "# Delete the dictionary itself with the del keyword\n",
    "del squares_1"
   ]
  },
  {
   "cell_type": "code",
   "execution_count": null,
   "metadata": {},
   "outputs": [],
   "source": [
    "print(squares_1)"
   ]
  },
  {
   "cell_type": "markdown",
   "metadata": {},
   "source": [
    "<span style = \"color:red\">\n",
    "    \n",
    "**Exercise \\#11: With the use of the text stored in a variable named string given in following code cell, write python code that makes use of list comprehension to create a dictionary where a key represents a unique word and its value represents its frequency. (Remark: The block of text can be split into words using split().)**\n",
    "\n",
    "</span>"
   ]
  },
  {
   "cell_type": "code",
   "execution_count": null,
   "metadata": {},
   "outputs": [],
   "source": [
    "string = \"machine learning is a branch of artificial intelligence and computer science which focuses on the use of data and algorithms to imitate the way that humans learn gradually improving its accuracy ibm has a rich history with machine learning one of its own arthur samuel is credited for coining the term machine learning with his research around the game of checkers robert nealey the self proclaimed checkers master played the game on an ibm computer and he lost to the computer compared to what can be done today this feat seems trivial but it is considered a major milestone in the field of artificial intelligence over the last couple of decades the technological advances in storage and processing power have enabled some innovative products based on machine learning such as netflix recommendation engine and self driving cars machine learning is an important component of the growing field of data science through the use of statistical methods algorithms are trained to make classifications or predictions and to uncover key insights in data mining projects these insights subsequently drive decision making within applications and businesses ideally impacting key growth metrics as big data continues to expand and grow the market demand for data scientists will increase they will be required to help identify the most relevant business questions and the data to answer them machine learning algorithms are typically created using frameworks that accelerate solution development such as tensorflow and pytorch\""
   ]
  }
 ],
 "metadata": {
  "kernelspec": {
   "display_name": "Python 3 (ipykernel)",
   "language": "python",
   "name": "python3"
  },
  "language_info": {
   "codemirror_mode": {
    "name": "ipython",
    "version": 3
   },
   "file_extension": ".py",
   "mimetype": "text/x-python",
   "name": "python",
   "nbconvert_exporter": "python",
   "pygments_lexer": "ipython3",
   "version": "3.11.5"
  }
 },
 "nbformat": 4,
 "nbformat_minor": 4
}
