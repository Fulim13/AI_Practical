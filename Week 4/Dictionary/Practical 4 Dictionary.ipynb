{
 "cells": [
  {
   "cell_type": "markdown",
   "metadata": {},
   "source": [
    "# Practical 2: Python Collections\n",
    "\n",
    "## 1.1 Introduction\n",
    "\n",
    "### 1.1.1 What are Python Collections?\n",
    "\n",
    "▪ Collections in Python are commonly known as data structures, which refer to ways of organizing and storing data so that it can be used efficiently.\n",
    "\n",
    "▪ List, Tuple, Set, and Dictionary are Python's built-in collections.\n",
    "\n",
    "<img src=\"comparison.png\" width=\"650\">"
   ]
  },
  {
   "cell_type": "markdown",
   "metadata": {},
   "source": [
    "## 1.5 Dictionaries\n",
    "\n",
    "### 1.5.1 Introduction\n",
    "\n",
    "▪ Dictionaries  are a collection of **mutable**, **ordered** and **iterable** data, which can contain **heterogeneous** but **not duplicate data**.\n",
    "\n",
    "▪ As of Python version 3.7, dictionaries are ordered. In Python 3.6 and earlier, dictionaries are unordered.\n",
    "\n",
    "▪ A dictionary stores items in **key/value pairs**, where keys are unique identifiers that are associated with each value.\n",
    "\n",
    "![dictionary.png](dictionary.png)\n",
    "\n",
    "https://www.programiz.com/python-programming/dictionary"
   ]
  },
  {
   "cell_type": "markdown",
   "metadata": {},
   "source": [
    "### 1.5.2 Creating Dictionaries\n",
    "\n",
    "▪ Every item in a dictionary has a key and its corresponding value (key: value)."
   ]
  },
  {
   "cell_type": "code",
   "execution_count": 1,
   "metadata": {},
   "outputs": [
    {
     "name": "stdout",
     "output_type": "stream",
     "text": [
      "{2210821: 'John', 2210847: 'Michelle', 2210905: 'Alice'}\n"
     ]
    }
   ],
   "source": [
    "id_name = {2210821: \"John\", 2210847: \"Michelle\", 2210905: \"Alice\"}\n",
    "print(id_name)"
   ]
  },
  {
   "cell_type": "code",
   "execution_count": 2,
   "metadata": {},
   "outputs": [
    {
     "name": "stdout",
     "output_type": "stream",
     "text": [
      "{'Johor': 'Johor Bahru', 'Selangor': 'Shah Alam', 'Sabah': 'Kota Kinabalu'}\n"
     ]
    }
   ],
   "source": [
    "state_capital = {\"Johor\": \"Johor Bahru\", \"Selangor\": \"Shah Alam\", \"Sabah\": \"Kota Kinabalu\"}\n",
    "print(state_capital)"
   ]
  },
  {
   "cell_type": "code",
   "execution_count": 3,
   "metadata": {},
   "outputs": [
    {
     "name": "stdout",
     "output_type": "stream",
     "text": [
      "{'Hello': 7, 'hi': 10, 'there': 45, 'at': 23, 'this': 77}\n"
     ]
    }
   ],
   "source": [
    "word_frequency = {\"Hello\" : 7, \"hi\" : 10, \"there\" : 45, \"at\" : 23, \"this\" : 77}\n",
    "print(word_frequency)"
   ]
  },
  {
   "cell_type": "markdown",
   "metadata": {},
   "source": [
    "### 1.5.3 Dictionaries Do Not Have Duplicate Data"
   ]
  },
  {
   "cell_type": "code",
   "execution_count": 4,
   "metadata": {},
   "outputs": [
    {
     "name": "stdout",
     "output_type": "stream",
     "text": [
      "{2210821: 'John', 2210847: 'Michelle', 2210905: 'Alice'}\n"
     ]
    }
   ],
   "source": [
    "id_name = {2210821: \"John\", 2210847: \"Michelle\", 2210905: \"Alice\", 2210821: \"John\"}\n",
    "print(id_name)"
   ]
  },
  {
   "cell_type": "markdown",
   "metadata": {},
   "source": [
    "### 1.5.4 Dictionaries are Ordered Collection"
   ]
  },
  {
   "cell_type": "code",
   "execution_count": 5,
   "metadata": {},
   "outputs": [
    {
     "name": "stdout",
     "output_type": "stream",
     "text": [
      "{2: 'Two', 1: 'One', 4: 'Four', 3: 'Three'}\n"
     ]
    }
   ],
   "source": [
    "number_digit = {2: \"Two\", 1: \"One\", 4: \"Four\", 3: \"Three\"}\n",
    "print(number_digit)"
   ]
  },
  {
   "cell_type": "markdown",
   "metadata": {},
   "source": [
    "### 1.5.5 Creating Dictionaries with dict()"
   ]
  },
  {
   "cell_type": "code",
   "execution_count": 6,
   "metadata": {},
   "outputs": [
    {
     "name": "stdout",
     "output_type": "stream",
     "text": [
      "{'Johor': 'Johor Bahru', 'Selangor': 'Shah Alam', 'Sabah': 'Kota Kinabalu'}\n"
     ]
    }
   ],
   "source": [
    "state_capital = dict(Johor = \"Johor Bahru\", Selangor = \"Shah Alam\", Sabah = \"Kota Kinabalu\")\n",
    "print(state_capital)"
   ]
  },
  {
   "cell_type": "markdown",
   "metadata": {},
   "source": [
    "### 1.5.6 Creating an Empty Dictionary"
   ]
  },
  {
   "cell_type": "code",
   "execution_count": 7,
   "metadata": {},
   "outputs": [
    {
     "name": "stdout",
     "output_type": "stream",
     "text": [
      "{}\n"
     ]
    }
   ],
   "source": [
    "dictionary_1 = {}\n",
    "\n",
    "print(dictionary_1)"
   ]
  },
  {
   "cell_type": "code",
   "execution_count": 8,
   "metadata": {},
   "outputs": [
    {
     "name": "stdout",
     "output_type": "stream",
     "text": [
      "<class 'dict'>\n"
     ]
    }
   ],
   "source": [
    "print(type(dictionary_1))"
   ]
  },
  {
   "cell_type": "code",
   "execution_count": 9,
   "metadata": {},
   "outputs": [
    {
     "name": "stdout",
     "output_type": "stream",
     "text": [
      "{}\n"
     ]
    }
   ],
   "source": [
    "dictionary_1 = dict()\n",
    "print(dictionary_1)"
   ]
  },
  {
   "cell_type": "markdown",
   "metadata": {},
   "source": [
    "### 1.5.7 Creating a Dictionary with Mixed Data Types"
   ]
  },
  {
   "cell_type": "code",
   "execution_count": 10,
   "metadata": {},
   "outputs": [
    {
     "name": "stdout",
     "output_type": "stream",
     "text": [
      "{'name': 'John', 'year': 2, 'courses': ['BACS2003', 'BACS2023', 'BACS2040']}\n"
     ]
    }
   ],
   "source": [
    "student_info = {'name': 'John', 'year': 2, 'courses': ['BACS2003', 'BACS2023', 'BACS2040']}\n",
    "\n",
    "print(student_info)"
   ]
  },
  {
   "cell_type": "markdown",
   "metadata": {},
   "source": [
    "### 1.5.8 Creating a Dictionary from a List Using fromkeys()"
   ]
  },
  {
   "cell_type": "code",
   "execution_count": 11,
   "metadata": {},
   "outputs": [
    {
     "name": "stdout",
     "output_type": "stream",
     "text": [
      "{'Hello': 0, 'hi': 0, 'there': 0, 'at': 0, 'this': 0}\n"
     ]
    }
   ],
   "source": [
    "word_list = [\"Hello\", \"hi\", \"there\", \"at\", \"this\"]\n",
    "\n",
    "word_frequency = dict.fromkeys(word_list, 0)\n",
    "print(word_frequency)"
   ]
  },
  {
   "cell_type": "markdown",
   "metadata": {},
   "source": [
    "### 1.5.9 Creating a Dictionary from Two Lists Using zip()"
   ]
  },
  {
   "cell_type": "code",
   "execution_count": 13,
   "metadata": {},
   "outputs": [
    {
     "name": "stdout",
     "output_type": "stream",
     "text": [
      "{'Hello': 7, 'hi': 10, 'there': 45, 'at': 23, 'this': 77}\n"
     ]
    }
   ],
   "source": [
    "word_list = [\"Hello\", \"hi\", \"there\", \"at\", \"this\"]\n",
    "frequency_list = [7, 10, 45, 23, 77]\n",
    "\n",
    "# two list need to same size\n",
    "word_frequency = dict(zip(word_list, frequency_list))\n",
    "print(word_frequency)"
   ]
  },
  {
   "cell_type": "markdown",
   "metadata": {},
   "source": [
    "### 1.5.10 Creating a Dictionary from a List of Tuples"
   ]
  },
  {
   "cell_type": "code",
   "execution_count": 14,
   "metadata": {},
   "outputs": [
    {
     "name": "stdout",
     "output_type": "stream",
     "text": [
      "{'Hello': 7, 'hi': 10, 'there': 45, 'at': 23, 'this': 77}\n"
     ]
    }
   ],
   "source": [
    "# Creating a list of binary tuples\n",
    "word_frequency_tuple = [(\"Hello\", 7), (\"hi\", 10), (\"there\", 45), (\"at\", 23), (\"this\", 77)]\n",
    "\n",
    "# Creating and initializing a dict using a list of binary tuple\n",
    "word_frequency_dict = dict(word_frequency_tuple)\n",
    "print(word_frequency_dict)"
   ]
  },
  {
   "cell_type": "code",
   "execution_count": 15,
   "metadata": {},
   "outputs": [
    {
     "name": "stdout",
     "output_type": "stream",
     "text": [
      "{'name': ['Tomy', 'Hillfigure'], 'age': '19', 'level': 'BSc', 'programme': 'ST', 'year': 2, 'registration_id': '16WAD5678', 'tel': '0191111000'}\n"
     ]
    }
   ],
   "source": [
    "student_info = dict([('name', ['Tomy', 'Hillfigure']), ('age', '19'), ('level', 'BSc'), ('programme', 'ST'), ('year', 2),\n",
    "                 ('registration_id', '16WAD5678'), ('tel', '0191111000')])\n",
    "print(student_info)"
   ]
  },
  {
   "cell_type": "markdown",
   "metadata": {},
   "source": [
    "### 1.5.11 Accessing an Element of Dictionary"
   ]
  },
  {
   "cell_type": "code",
   "execution_count": 16,
   "metadata": {},
   "outputs": [
    {
     "ename": "KeyError",
     "evalue": "0",
     "output_type": "error",
     "traceback": [
      "\u001b[1;31m---------------------------------------------------------------------------\u001b[0m",
      "\u001b[1;31mKeyError\u001b[0m                                  Traceback (most recent call last)",
      "Cell \u001b[1;32mIn[16], line 1\u001b[0m\n\u001b[1;32m----> 1\u001b[0m \u001b[38;5;28mprint\u001b[39m(\u001b[38;5;124m'\u001b[39m\u001b[38;5;124mName:\u001b[39m\u001b[38;5;124m'\u001b[39m, student_info[\u001b[38;5;241m0\u001b[39m])\n",
      "\u001b[1;31mKeyError\u001b[0m: 0"
     ]
    }
   ],
   "source": [
    "print('Name:', student_info[0])"
   ]
  },
  {
   "cell_type": "code",
   "execution_count": 17,
   "metadata": {},
   "outputs": [
    {
     "name": "stdout",
     "output_type": "stream",
     "text": [
      "Name: ['Tomy', 'Hillfigure']\n"
     ]
    }
   ],
   "source": [
    "# Retrieving individual value associated with the key 'name'\n",
    "print('Name:', student_info['name'])"
   ]
  },
  {
   "cell_type": "code",
   "execution_count": 18,
   "metadata": {},
   "outputs": [
    {
     "name": "stdout",
     "output_type": "stream",
     "text": [
      "Programme RST2\n"
     ]
    }
   ],
   "source": [
    "if student_info['level'] == 'BSc':\n",
    "    print('Programme R' + student_info['programme'] + str(student_info['year']))"
   ]
  },
  {
   "cell_type": "markdown",
   "metadata": {},
   "source": [
    "### 1.5.12 Accessing an Element of Dictionary with get()\n",
    "\n",
    "▪ The **get()** method returns the value of the item with the specified key."
   ]
  },
  {
   "cell_type": "code",
   "execution_count": 19,
   "metadata": {},
   "outputs": [
    {
     "name": "stdout",
     "output_type": "stream",
     "text": [
      "Registration ID: 16WAD5678\n"
     ]
    }
   ],
   "source": [
    "print('Registration ID:', student_info.get('registration_id'))"
   ]
  },
  {
   "cell_type": "code",
   "execution_count": 20,
   "metadata": {},
   "outputs": [
    {
     "name": "stdout",
     "output_type": "stream",
     "text": [
      "Gender: None\n"
     ]
    }
   ],
   "source": [
    "print('Gender:', student_info.get('gender'))"
   ]
  },
  {
   "cell_type": "code",
   "execution_count": 21,
   "metadata": {},
   "outputs": [
    {
     "ename": "KeyError",
     "evalue": "'gender'",
     "output_type": "error",
     "traceback": [
      "\u001b[1;31m---------------------------------------------------------------------------\u001b[0m",
      "\u001b[1;31mKeyError\u001b[0m                                  Traceback (most recent call last)",
      "Cell \u001b[1;32mIn[21], line 1\u001b[0m\n\u001b[1;32m----> 1\u001b[0m \u001b[38;5;28mprint\u001b[39m(\u001b[38;5;124m'\u001b[39m\u001b[38;5;124mGender:\u001b[39m\u001b[38;5;124m'\u001b[39m, student_info[\u001b[38;5;124m'\u001b[39m\u001b[38;5;124mgender\u001b[39m\u001b[38;5;124m'\u001b[39m])\n",
      "\u001b[1;31mKeyError\u001b[0m: 'gender'"
     ]
    }
   ],
   "source": [
    "print('Gender:', student_info['gender'])"
   ]
  },
  {
   "cell_type": "code",
   "execution_count": 22,
   "metadata": {},
   "outputs": [
    {
     "name": "stdout",
     "output_type": "stream",
     "text": [
      "Gender: This item doesn't exist\n"
     ]
    }
   ],
   "source": [
    "print('Gender:', student_info.get('gender', 'This item doesn\\'t exist'))"
   ]
  },
  {
   "cell_type": "markdown",
   "metadata": {},
   "source": [
    "### 1.5.13 Accessing All Keys and Values Separately Using keys() and values()\n",
    "\n",
    "▪ The **keys()** method returns a list that contains only the keys that are inside the dictionary.\n",
    "\n",
    "▪ The **values()** method returns a list that contains only the values that are inside the dictionary."
   ]
  },
  {
   "cell_type": "code",
   "execution_count": 23,
   "metadata": {},
   "outputs": [
    {
     "name": "stdout",
     "output_type": "stream",
     "text": [
      "dict_keys(['name', 'age', 'level', 'programme', 'year', 'registration_id', 'tel'])\n"
     ]
    }
   ],
   "source": [
    "print(student_info.keys())"
   ]
  },
  {
   "cell_type": "code",
   "execution_count": 24,
   "metadata": {},
   "outputs": [
    {
     "name": "stdout",
     "output_type": "stream",
     "text": [
      "dict_values([['Tomy', 'Hillfigure'], '19', 'BSc', 'ST', 2, '16WAD5678', '0191111000'])\n"
     ]
    }
   ],
   "source": [
    "print(student_info.values())"
   ]
  },
  {
   "cell_type": "markdown",
   "metadata": {},
   "source": [
    "### 1.5.14 Accessing All Key-Value Pairs Using items()\n",
    "\n",
    "▪ The **items()** method returns a list of tuples that contains the key-value pairs that are inside the dictionary."
   ]
  },
  {
   "cell_type": "code",
   "execution_count": 25,
   "metadata": {},
   "outputs": [
    {
     "name": "stdout",
     "output_type": "stream",
     "text": [
      "dict_items([('name', ['Tomy', 'Hillfigure']), ('age', '19'), ('level', 'BSc'), ('programme', 'ST'), ('year', 2), ('registration_id', '16WAD5678'), ('tel', '0191111000')])\n"
     ]
    }
   ],
   "source": [
    "# Retrieve a list of key-value pairs as tuples\n",
    "print(student_info.items())"
   ]
  },
  {
   "cell_type": "markdown",
   "metadata": {},
   "source": [
    "### 1.5.15 Loop Through a Dictionary"
   ]
  },
  {
   "cell_type": "code",
   "execution_count": 26,
   "metadata": {},
   "outputs": [
    {
     "name": "stdout",
     "output_type": "stream",
     "text": [
      "name\n",
      "age\n",
      "level\n",
      "programme\n",
      "year\n",
      "registration_id\n",
      "tel\n"
     ]
    }
   ],
   "source": [
    "# Iterate through all keys in a dictionary\n",
    "for value in student_info:\n",
    "    print(value)"
   ]
  },
  {
   "cell_type": "code",
   "execution_count": 27,
   "metadata": {},
   "outputs": [
    {
     "name": "stdout",
     "output_type": "stream",
     "text": [
      "['Tomy', 'Hillfigure']\n",
      "19\n",
      "BSc\n",
      "ST\n",
      "2\n",
      "16WAD5678\n",
      "0191111000\n"
     ]
    }
   ],
   "source": [
    "# Iterate through all values in a dictionary via values()\n",
    "for value in student_info.values():\n",
    "    print(value)"
   ]
  },
  {
   "cell_type": "code",
   "execution_count": 28,
   "metadata": {},
   "outputs": [
    {
     "name": "stdout",
     "output_type": "stream",
     "text": [
      "name : ['Tomy', 'Hillfigure']\n",
      "age : 19\n",
      "level : BSc\n",
      "programme : ST\n",
      "year : 2\n",
      "registration_id : 16WAD5678\n",
      "tel : 0191111000\n"
     ]
    }
   ],
   "source": [
    "# Iterate through all keys and values in a dictionary via items\n",
    "for key, value in student_info.items():\n",
    "    print(key, \":\", value)"
   ]
  },
  {
   "cell_type": "code",
   "execution_count": 29,
   "metadata": {},
   "outputs": [
    {
     "name": "stdout",
     "output_type": "stream",
     "text": [
      "name : ['Tomy', 'Hillfigure']\n",
      "age : 19\n",
      "level : BSc\n",
      "programme : ST\n",
      "year : 2\n",
      "registration_id : 16WAD5678\n",
      "tel : 0191111000\n"
     ]
    }
   ],
   "source": [
    "# Iterate through all keys and values in a dictionary via items\n",
    "for x, y in student_info.items():\n",
    "    print(x, \":\", y)"
   ]
  },
  {
   "cell_type": "markdown",
   "metadata": {},
   "source": [
    "### 1.5.16 Dictionary Membership Test"
   ]
  },
  {
   "cell_type": "code",
   "execution_count": 30,
   "metadata": {},
   "outputs": [
    {
     "name": "stdout",
     "output_type": "stream",
     "text": [
      "True\n",
      "False\n"
     ]
    }
   ],
   "source": [
    "print('name' in student_info)\n",
    "print('gender' in student_info)"
   ]
  },
  {
   "cell_type": "markdown",
   "metadata": {},
   "source": [
    "### 1.5.17 Modifying Dictionaries: Updating One Item\n",
    "\n",
    "▪ A dictionary's keys are immutable but their corresponding values are mutable."
   ]
  },
  {
   "cell_type": "code",
   "execution_count": 31,
   "metadata": {},
   "outputs": [
    {
     "name": "stdout",
     "output_type": "stream",
     "text": [
      "10\n"
     ]
    }
   ],
   "source": [
    "word_frequency_1 = {\"Hello\" : 7, \"hi\" : 10, \"there\" : 45, \"at\" : 23, \"this\" : 77}\n",
    "print(word_frequency_1[\"hi\"])"
   ]
  },
  {
   "cell_type": "code",
   "execution_count": 32,
   "metadata": {},
   "outputs": [
    {
     "name": "stdout",
     "output_type": "stream",
     "text": [
      "20\n"
     ]
    }
   ],
   "source": [
    "word_frequency_1[\"hi\"] = 20\n",
    "print(word_frequency_1[\"hi\"])"
   ]
  },
  {
   "cell_type": "markdown",
   "metadata": {},
   "source": [
    "### 1.5.18 Modifying Dictionaries: Updating More than One Item\n",
    "\n",
    "▪ The **update()** method can be used to update more than one value inside a dictionary at the same time."
   ]
  },
  {
   "cell_type": "code",
   "execution_count": 33,
   "metadata": {},
   "outputs": [
    {
     "name": "stdout",
     "output_type": "stream",
     "text": [
      "{'Hello': 7, 'hi': 10, 'there': 100, 'at': 200, 'this': 77, 'bye': 55}\n"
     ]
    }
   ],
   "source": [
    "word_frequency_1 = {\"Hello\" : 7, \"hi\" : 10, \"there\" : 45, \"at\" : 23, \"this\" : 77}\n",
    "\n",
    "word_frequency_1.update(there = 100, at = 200, bye = 55)\n",
    "print(word_frequency_1)"
   ]
  },
  {
   "cell_type": "code",
   "execution_count": 34,
   "metadata": {},
   "outputs": [
    {
     "name": "stdout",
     "output_type": "stream",
     "text": [
      "{'house': 15, 'town': 22, 'Hello': 7, 'hi': 10, 'there': 100, 'at': 200, 'this': 77, 'bye': 55}\n"
     ]
    }
   ],
   "source": [
    "word_frequency_2 = {\"house\" : 15, \"town\" : 22}\n",
    "word_frequency_2.update(word_frequency_1)\n",
    "\n",
    "print(word_frequency_2)"
   ]
  },
  {
   "cell_type": "markdown",
   "metadata": {},
   "source": [
    "### 1.5.19 Removing Elements from Dictionary with pop()\n",
    "\n",
    "▪ The **pop()** method removes an item with the provided key and returns the value.\n",
    "\n",
    "https://www.programiz.com/python-programming/dictionary"
   ]
  },
  {
   "cell_type": "code",
   "execution_count": 42,
   "metadata": {},
   "outputs": [
    {
     "name": "stdout",
     "output_type": "stream",
     "text": [
      "16\n"
     ]
    }
   ],
   "source": [
    "squares_1 = {1: 1, 2: 4, 3: 9, 4: 16, 5: 25}\n",
    "\n",
    "# Use pop() to remove a particular item and returns its value\n",
    "print(squares_1.pop(4))"
   ]
  },
  {
   "cell_type": "code",
   "execution_count": 43,
   "metadata": {},
   "outputs": [
    {
     "name": "stdout",
     "output_type": "stream",
     "text": [
      "{1: 1, 2: 4, 3: 9, 5: 25}\n"
     ]
    }
   ],
   "source": [
    "print(squares_1)"
   ]
  },
  {
   "cell_type": "code",
   "execution_count": 44,
   "metadata": {},
   "outputs": [
    {
     "name": "stdout",
     "output_type": "stream",
     "text": [
      "45\n"
     ]
    }
   ],
   "source": [
    "word_frequency_1 = {\"Hello\" : 7, \"hi\" : 10, \"there\" : 45, \"at\" : 23, \"this\" : 77}\n",
    "print(word_frequency_1.pop(\"there\"))"
   ]
  },
  {
   "cell_type": "code",
   "execution_count": 45,
   "metadata": {},
   "outputs": [
    {
     "name": "stdout",
     "output_type": "stream",
     "text": [
      "{'Hello': 7, 'hi': 10, 'at': 23, 'this': 77}\n"
     ]
    }
   ],
   "source": [
    "print(word_frequency_1)"
   ]
  },
  {
   "cell_type": "markdown",
   "metadata": {},
   "source": [
    "### 1.5.20 Removing Elements from Dictionary with popitem()\n",
    "\n",
    "▪ The **popitem()** method can be used to remove and return the last (key, value) item pair from the dictionary."
   ]
  },
  {
   "cell_type": "code",
   "execution_count": null,
   "metadata": {},
   "outputs": [],
   "source": [
    "# Use popitem() to remove the last item, return (key,value)\n",
    "print(squares_1.popitem())"
   ]
  },
  {
   "cell_type": "code",
   "execution_count": null,
   "metadata": {},
   "outputs": [],
   "source": [
    "print(squares_1)"
   ]
  },
  {
   "cell_type": "code",
   "execution_count": null,
   "metadata": {},
   "outputs": [],
   "source": [
    "print(word_frequency_1.popitem())"
   ]
  },
  {
   "cell_type": "code",
   "execution_count": null,
   "metadata": {},
   "outputs": [],
   "source": [
    "print(word_frequency_1)"
   ]
  },
  {
   "cell_type": "markdown",
   "metadata": {},
   "source": [
    "### 1.5.21 Removing Elements from Dictionary with clear()"
   ]
  },
  {
   "cell_type": "code",
   "execution_count": null,
   "metadata": {},
   "outputs": [],
   "source": [
    "# Remove all items with clear()\n",
    "squares_1.clear()"
   ]
  },
  {
   "cell_type": "code",
   "execution_count": null,
   "metadata": {},
   "outputs": [],
   "source": [
    "print(squares_1)"
   ]
  },
  {
   "cell_type": "markdown",
   "metadata": {},
   "source": [
    "### 1.5.22 Removing Elements from Dictionary with del Keyword"
   ]
  },
  {
   "cell_type": "code",
   "execution_count": null,
   "metadata": {},
   "outputs": [],
   "source": [
    "# Delete the dictionary itself with the del keyword\n",
    "del squares_1"
   ]
  },
  {
   "cell_type": "code",
   "execution_count": null,
   "metadata": {},
   "outputs": [],
   "source": [
    "print(squares_1)"
   ]
  },
  {
   "cell_type": "markdown",
   "metadata": {},
   "source": [
    "<span style = \"color:red\">\n",
    "    \n",
    "**Exercise \\#11: With the use of the text stored in a variable named string given in following code cell, write python code that makes use of list comprehension to create a dictionary where a key represents a unique word and its value represents its frequency. (Remark: The block of text can be split into words using split().)**\n",
    "\n",
    "</span>"
   ]
  },
  {
   "cell_type": "code",
   "execution_count": 41,
   "metadata": {},
   "outputs": [
    {
     "name": "stdout",
     "output_type": "stream",
     "text": [
      "{'identify': 1, 'considered': 1, 'game': 2, 'advances': 1, 'ideally': 1, 'uncover': 1, 'on': 3, 'component': 1, 'most': 1, 'answer': 1, 'computer': 3, 'increase': 1, 'in': 3, 'make': 1, 'these': 1, 'data': 6, 'market': 1, 'through': 1, 'products': 1, 'statistical': 1, 'engine': 1, 'decades': 1, 'credited': 1, 'such': 2, 'enabled': 1, 'subsequently': 1, 'questions': 1, 'businesses': 1, 'today': 1, 'couple': 1, 'insights': 2, 'last': 1, 'business': 1, 'using': 1, 'master': 1, 'arthur': 1, 'he': 1, 'innovative': 1, 'for': 2, 'frameworks': 1, 'coining': 1, 'pytorch': 1, 'machine': 6, 'and': 10, 'based': 1, 'be': 2, 'relevant': 1, 'self': 2, 'of': 9, 'impacting': 1, 'robert': 1, 'have': 1, 'that': 2, 'what': 1, 'seems': 1, 'development': 1, 'trivial': 1, 'netflix': 1, 'compared': 1, 'scientists': 1, 'they': 1, 'mining': 1, 'major': 1, 'will': 2, 'growth': 1, 'projects': 1, 'but': 1, 'artificial': 2, 'over': 1, 'within': 1, 'term': 1, 'its': 2, 'decision': 1, 'field': 2, 'can': 1, 'metrics': 1, 'growing': 1, 'typically': 1, 'nealey': 1, 'intelligence': 2, 'algorithms': 3, 'gradually': 1, 'humans': 1, 'key': 2, 'it': 1, 'power': 1, 'the': 15, 'with': 2, 'demand': 1, 'accuracy': 1, 'learn': 1, 'which': 1, 'around': 1, 'some': 1, 'ibm': 2, 'trained': 1, 'classifications': 1, 'use': 2, 'processing': 1, 'predictions': 1, 'history': 1, 'recommendation': 1, 'making': 1, 'feat': 1, 'expand': 1, 'accelerate': 1, 'imitate': 1, 'samuel': 1, 'an': 2, 'methods': 1, 'a': 3, 'checkers': 2, 'milestone': 1, 'driving': 1, 'are': 2, 'cars': 1, 'them': 1, 'important': 1, 'this': 1, 'rich': 1, 'improving': 1, 'branch': 1, 'lost': 1, 'way': 1, 'research': 1, 'grow': 1, 'required': 1, 'has': 1, 'learning': 6, 'done': 1, 'storage': 1, 'focuses': 1, 'technological': 1, 'drive': 1, 'solution': 1, 'to': 8, 'or': 1, 'own': 1, 'created': 1, 'played': 1, 'as': 3, 'one': 1, 'continues': 1, 'proclaimed': 1, 'help': 1, 'is': 4, 'tensorflow': 1, 'applications': 1, 'big': 1, 'his': 1, 'science': 2}\n"
     ]
    }
   ],
   "source": [
    "string = \"machine learning is a branch of artificial intelligence and computer science which focuses on the use of data and algorithms to imitate the way that humans learn gradually improving its accuracy ibm has a rich history with machine learning one of its own arthur samuel is credited for coining the term machine learning with his research around the game of checkers robert nealey the self proclaimed checkers master played the game on an ibm computer and he lost to the computer compared to what can be done today this feat seems trivial but it is considered a major milestone in the field of artificial intelligence over the last couple of decades the technological advances in storage and processing power have enabled some innovative products based on machine learning such as netflix recommendation engine and self driving cars machine learning is an important component of the growing field of data science through the use of statistical methods algorithms are trained to make classifications or predictions and to uncover key insights in data mining projects these insights subsequently drive decision making within applications and businesses ideally impacting key growth metrics as big data continues to expand and grow the market demand for data scientists will increase they will be required to help identify the most relevant business questions and the data to answer them machine learning algorithms are typically created using frameworks that accelerate solution development such as tensorflow and pytorch\"\n",
    "\n",
    "# 1. Create a list of tokens\n",
    "tokens = string.split()\n",
    "# print(tokens)\n",
    "\n",
    "# 2. Create a list of unique_tokens\n",
    "unique_tokens = set(tokens)\n",
    "# print(unique_tokens)\n",
    "\n",
    "# 3. Create a list of frequency_values\n",
    "frequency_values = [len([token for token in tokens if unique_token == token]) for unique_token in unique_tokens]\n",
    "\n",
    "# 4. Create a dictionary by combining the list of unique tokens and the list of frequency_values\n",
    "word_frequency = dict(zip(unique_tokens, frequency_values))\n",
    "print(word_frequency)"
   ]
  },
  {
   "cell_type": "code",
   "execution_count": null,
   "metadata": {},
   "outputs": [],
   "source": []
  }
 ],
 "metadata": {
  "kernelspec": {
   "display_name": "Python 3 (ipykernel)",
   "language": "python",
   "name": "python3"
  },
  "language_info": {
   "codemirror_mode": {
    "name": "ipython",
    "version": 3
   },
   "file_extension": ".py",
   "mimetype": "text/x-python",
   "name": "python",
   "nbconvert_exporter": "python",
   "pygments_lexer": "ipython3",
   "version": "3.11.5"
  }
 },
 "nbformat": 4,
 "nbformat_minor": 4
}
