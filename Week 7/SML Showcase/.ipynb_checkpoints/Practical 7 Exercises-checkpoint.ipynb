{
 "cells": [
  {
   "cell_type": "markdown",
   "metadata": {},
   "source": [
    "# Text Similarity\n",
    "\n",
    "▪ A paper available in the link below contains 16 pairs of sentences with their similarity scores (see the last column) which have already been compiled into csv file named **\\'similarity.csv\\'**. \n",
    "\n",
    "<a href=\"http://dspace.epoka.edu.al/bitstream/handle/1/840/paper_5.pdf?sequence=1\">Measuring the sentence level similarity</a>\n",
    "\n",
    "▪ ven though some sentences are repeating but others are not, based on the assumption that these 16 pairs of sentences represent the contents of 16 documents where each document contains a pair of sentences, measure similarity between each pair of sentences using:\n",
    "\n",
    "\\>>> **Bag-of-Words (BOW) Approach**\n",
    "\n",
    "\\>>> **TF-IDF Approach**"
   ]
  },
  {
   "cell_type": "markdown",
   "metadata": {},
   "source": [
    "### Exercise \\#1: BOW Approach"
   ]
  },
  {
   "cell_type": "markdown",
   "metadata": {},
   "source": [
    "<span style = \"color:red\">\n",
    "    \n",
    "**Step \\#1: Represent the 16 pairs of sentences and their similarity scores as a dataframe.** \n",
    "    \n",
    "</span>"
   ]
  },
  {
   "cell_type": "code",
   "execution_count": null,
   "metadata": {},
   "outputs": [],
   "source": []
  },
  {
   "cell_type": "markdown",
   "metadata": {},
   "source": [
    "<span style = \"color:red\">\n",
    "    \n",
    "**Step \\#2: Numerically represent every sentence using the BOW approach.** \n",
    "\n",
    "</span>"
   ]
  },
  {
   "cell_type": "code",
   "execution_count": null,
   "metadata": {},
   "outputs": [],
   "source": []
  },
  {
   "cell_type": "markdown",
   "metadata": {},
   "source": [
    "<span style = \"color:red\">\n",
    "    \n",
    "**Step \\#3: Measure similarity for every pair of sentences.** \n",
    "\n",
    "</span>"
   ]
  },
  {
   "cell_type": "code",
   "execution_count": null,
   "metadata": {},
   "outputs": [],
   "source": []
  },
  {
   "cell_type": "markdown",
   "metadata": {},
   "source": [
    "### Exercise \\#2: TF-IDF Approach\n",
    "\n",
    "▪ Repeat **Step 2** and **Step 3** in **Exercise \\#1** to measure similarity of each of the 16 pairs of sentences using the **TF-IDF** approach.**"
   ]
  },
  {
   "cell_type": "code",
   "execution_count": null,
   "metadata": {},
   "outputs": [],
   "source": []
  },
  {
   "cell_type": "markdown",
   "metadata": {},
   "source": [
    "### Exercise \\#3\n",
    "\n",
    "▪ Redo **Exercise \\#2** and **Exercise \\#3** by not taking into consideration any duplicated records in the documents. \n",
    "\n",
    "▪ In other words, every document should contain only one sentence and there should be 25 documents in total only. \n",
    "\n",
    "▪ Then, measure similarity between the 16 pairs of sentences using vectors generated with the **BOW** and **TFIDF** approaches."
   ]
  },
  {
   "cell_type": "code",
   "execution_count": null,
   "metadata": {},
   "outputs": [],
   "source": []
  }
 ],
 "metadata": {
  "colab": {
   "name": "KY_NLP(S) - Student.ipynb",
   "provenance": []
  },
  "kernelspec": {
   "display_name": "Python 3 (ipykernel)",
   "language": "python",
   "name": "python3"
  },
  "language_info": {
   "codemirror_mode": {
    "name": "ipython",
    "version": 3
   },
   "file_extension": ".py",
   "mimetype": "text/x-python",
   "name": "python",
   "nbconvert_exporter": "python",
   "pygments_lexer": "ipython3",
   "version": "3.11.5"
  }
 },
 "nbformat": 4,
 "nbformat_minor": 1
}
