{
 "cells": [
  {
   "cell_type": "markdown",
   "metadata": {},
   "source": [
    "## Section A: Unsupervised Machine Learning\n",
    "\n",
    "### Types of Machine Learning\n",
    "\n",
    "▪ Machine learning can be divided into two types: \n",
    "\n",
    "![](sml_usml.png)\n",
    "\n",
    "<img src=\"super.png\" width=\"500\">\n",
    "\n",
    "https://blog.bismart.com/en/classification-vs.-clustering-a-practical-explanation"
   ]
  },
  {
   "cell_type": "markdown",
   "metadata": {},
   "source": [
    "### Unsupervised Machine Learning\n",
    "\n",
    "▪ Unsupervised algorithms make inferences from datasets using only **input vectors without referring to known, or labelled, outcomes**.\n",
    "\n",
    "▪ The algorithm must figure out what it is viewing by itself and the objective is to discover interesting patterns in the data. \n",
    "\n",
    "▪ For instance, are there any subgroups or **\"clusters\"** among the data instances?\n",
    "\n",
    "<img src=\"unsuper.png\" width=\"500\">"
   ]
  },
  {
   "cell_type": "markdown",
   "metadata": {},
   "source": [
    "### Clustering\n",
    "\n",
    "▪ Clustering can be considered the most important unsupervised learning problem.\n",
    "\n",
    "▪ A **centroid** is the imaginary or real location representing the center of the cluster.\n",
    "\n",
    "<img src=\"centroid.png\" width=\"600\">"
   ]
  },
  {
   "cell_type": "markdown",
   "metadata": {},
   "source": [
    "### Example\n",
    "\n",
    "The following 3 general clusters of consumers can let us understand our customers better:\n",
    "\n",
    "▪ Older customers spent very little\n",
    "\n",
    "▪ Middle-aged/older customers spent a lot\n",
    "\n",
    "▪ Middle-aged/younger customers spent a medium amount\n",
    "\n",
    "<img src=\"clustering.png\" width=\"350\">\n",
    "\n",
    "https://blog.dataiku.com/clustering-how-it-works-in-plain-english"
   ]
  },
  {
   "cell_type": "markdown",
   "metadata": {},
   "source": [
    "## Section B: Exploratory Data Analysis\n",
    "\n",
    "### Understanding the Iris Dataset\n",
    "\n",
    "▪ **Iris Dataset**: The data set contains 3 classes with 50 instances each, and 150 instances in total, where each class refers to a type of iris plant.\n",
    "\n",
    "▪ **Class**: Iris Setosa, Iris Versicolour, Iris Virginica\n",
    "\n",
    "▪ **Data Format**: (sepal length, sepal width, petal length, petal width)\n",
    "\n",
    "https://www.analyticsvidhya.com/blog/2021/06/analyzing-decision-tree-and-k-means-clustering-using-iris-dataset/"
   ]
  },
  {
   "cell_type": "markdown",
   "metadata": {},
   "source": [
    "<img src=\"iris_flowers.png\" width=\"700\">\n",
    "\n",
    "<img src=\"iris.png\" width=\"600\">"
   ]
  },
  {
   "cell_type": "markdown",
   "metadata": {},
   "source": [
    "### Loading the Dataset into Dataframe"
   ]
  },
  {
   "cell_type": "code",
   "execution_count": null,
   "metadata": {},
   "outputs": [],
   "source": [
    "import pandas as pd\n",
    "\n",
    "iris = pd.read_csv('iris_data2.csv')"
   ]
  },
  {
   "cell_type": "markdown",
   "metadata": {},
   "source": [
    "### Viewing Sample Data"
   ]
  },
  {
   "cell_type": "code",
   "execution_count": null,
   "metadata": {},
   "outputs": [],
   "source": [
    "iris.head()"
   ]
  },
  {
   "cell_type": "code",
   "execution_count": null,
   "metadata": {},
   "outputs": [],
   "source": [
    "iris.tail()"
   ]
  },
  {
   "cell_type": "markdown",
   "metadata": {},
   "source": [
    "<span style = \"color:red\">\n",
    "    \n",
    "**Exercise \\#1: Write python code that prints the first 5 records for species \\'Iris-versicolor\\'.** \n",
    "\n",
    "</span>"
   ]
  },
  {
   "cell_type": "code",
   "execution_count": null,
   "metadata": {},
   "outputs": [],
   "source": []
  },
  {
   "cell_type": "markdown",
   "metadata": {},
   "source": [
    "### Identifying Number of Features and Samples"
   ]
  },
  {
   "cell_type": "code",
   "execution_count": null,
   "metadata": {},
   "outputs": [],
   "source": [
    "iris.shape"
   ]
  },
  {
   "cell_type": "markdown",
   "metadata": {},
   "source": [
    "### Printing Basic Information about the Dataframe"
   ]
  },
  {
   "cell_type": "code",
   "execution_count": null,
   "metadata": {},
   "outputs": [],
   "source": [
    "iris.info()"
   ]
  },
  {
   "cell_type": "markdown",
   "metadata": {},
   "source": [
    "### Describing Data with Descriptive Statistics"
   ]
  },
  {
   "cell_type": "code",
   "execution_count": null,
   "metadata": {},
   "outputs": [],
   "source": [
    "iris.describe()"
   ]
  },
  {
   "cell_type": "markdown",
   "metadata": {},
   "source": [
    "### Identifying Missing or Null Values"
   ]
  },
  {
   "cell_type": "code",
   "execution_count": null,
   "metadata": {},
   "outputs": [],
   "source": [
    "iris.isnull().sum()"
   ]
  },
  {
   "cell_type": "markdown",
   "metadata": {},
   "source": [
    "### Identifying Duplicated Records"
   ]
  },
  {
   "cell_type": "code",
   "execution_count": null,
   "metadata": {},
   "outputs": [],
   "source": [
    "iris.duplicated().sum()"
   ]
  },
  {
   "cell_type": "code",
   "execution_count": null,
   "metadata": {},
   "outputs": [],
   "source": [
    "iris_dup = iris[iris.duplicated(keep='first')]\n",
    "iris_dup"
   ]
  },
  {
   "cell_type": "code",
   "execution_count": null,
   "metadata": {},
   "outputs": [],
   "source": [
    "iris_dup = iris[iris.duplicated(keep='last')]\n",
    "iris_dup"
   ]
  },
  {
   "cell_type": "code",
   "execution_count": null,
   "metadata": {},
   "outputs": [],
   "source": [
    "iris_dup = iris[iris.duplicated(keep=False)]\n",
    "iris_dup"
   ]
  },
  {
   "cell_type": "markdown",
   "metadata": {},
   "source": [
    "### Identifying Unique Values for Each Column"
   ]
  },
  {
   "cell_type": "code",
   "execution_count": null,
   "metadata": {},
   "outputs": [],
   "source": [
    "iris.nunique()"
   ]
  },
  {
   "cell_type": "code",
   "execution_count": null,
   "metadata": {},
   "outputs": [],
   "source": [
    "iris['species'].unique()"
   ]
  },
  {
   "cell_type": "code",
   "execution_count": null,
   "metadata": {},
   "outputs": [],
   "source": [
    "iris.groupby('species').size() "
   ]
  },
  {
   "cell_type": "markdown",
   "metadata": {},
   "source": [
    "### Visualizing Correlation Between Variables Via Scatter Plot\n",
    "\n",
    "▪ Scatter plot is a graph in which the values of two variables are plotted along two axes.\n",
    "\n",
    "▪ It is the most basic type of plot that helps you visualize the relationship between two variables."
   ]
  },
  {
   "cell_type": "code",
   "execution_count": null,
   "metadata": {},
   "outputs": [],
   "source": [
    "import matplotlib.pyplot as plt \n",
    "\n",
    "iris.plot(kind = \"scatter\", x = \"petal_length\", y = \"petal_length\")\n",
    "plt.show()"
   ]
  },
  {
   "cell_type": "markdown",
   "metadata": {},
   "source": [
    "<span style = \"color:red\">\n",
    "    \n",
    "**Exercise \\#2: Write python code that shows correlation between \\'petal_length\\' and \\'petal_width\\' via scatter plot.** \n",
    "\n",
    "</span>"
   ]
  },
  {
   "cell_type": "code",
   "execution_count": null,
   "metadata": {},
   "outputs": [],
   "source": []
  },
  {
   "cell_type": "markdown",
   "metadata": {},
   "source": [
    "<span style = \"color:red\">\n",
    "    \n",
    "**Exercise \\#3: Write python code that shows correlation between \\'petal_length\\' and \\'sepal_length\\' via scatter plot.** \n",
    "\n",
    "</span>"
   ]
  },
  {
   "cell_type": "code",
   "execution_count": null,
   "metadata": {},
   "outputs": [],
   "source": []
  },
  {
   "cell_type": "markdown",
   "metadata": {},
   "source": [
    "<span style = \"color:red\">\n",
    "    \n",
    "**Exercise \\#4: Write python code that shows correlation between \\'sepal_width\\' and \\'sepal_length\\' via scatter plot.** \n",
    "\n",
    "</span>"
   ]
  },
  {
   "cell_type": "code",
   "execution_count": null,
   "metadata": {},
   "outputs": [],
   "source": []
  },
  {
   "cell_type": "markdown",
   "metadata": {},
   "source": [
    "### Finding Correlation Among Variables"
   ]
  },
  {
   "cell_type": "code",
   "execution_count": null,
   "metadata": {},
   "outputs": [],
   "source": [
    "corr = iris['petal_length'].corr(iris['petal_length'])\n",
    "print(\"Correlation:\", round(corr, 2))"
   ]
  },
  {
   "cell_type": "markdown",
   "metadata": {},
   "source": [
    "<span style = \"color:red\">\n",
    "    \n",
    "**Exercise \\#5: Write python code that calculates correlation value between \\'sepal_width\\' and \\'sepal_length\\'.** \n",
    "\n",
    "</span>"
   ]
  },
  {
   "cell_type": "code",
   "execution_count": null,
   "metadata": {},
   "outputs": [],
   "source": []
  },
  {
   "cell_type": "markdown",
   "metadata": {},
   "source": [
    "<span style = \"color:red\">\n",
    "    \n",
    "**Exercise \\#6: Write python code that calculates correlation value between \\'petal_length\\' and \\'sepal_length\\'.** \n",
    "\n",
    "</span>"
   ]
  },
  {
   "cell_type": "code",
   "execution_count": null,
   "metadata": {},
   "outputs": [],
   "source": []
  },
  {
   "cell_type": "markdown",
   "metadata": {},
   "source": [
    "<span style = \"color:red\">\n",
    "    \n",
    "**Exercise \\#7: Write python code that calculates correlation value between \\'sepal_width\\' and \\'sepal_length\\'.** \n",
    "\n",
    "</span>"
   ]
  },
  {
   "cell_type": "code",
   "execution_count": null,
   "metadata": {},
   "outputs": [],
   "source": []
  },
  {
   "cell_type": "markdown",
   "metadata": {},
   "source": [
    "### Dropping Label for Correlation Calculation"
   ]
  },
  {
   "cell_type": "code",
   "execution_count": null,
   "metadata": {},
   "outputs": [],
   "source": [
    "# Remove 'species' column from data\n",
    "iris_2 = iris.drop(['species'], axis = 1)\n",
    "iris_2"
   ]
  },
  {
   "cell_type": "markdown",
   "metadata": {},
   "source": [
    "### Constructing A Correlation Heatmap"
   ]
  },
  {
   "cell_type": "code",
   "execution_count": null,
   "metadata": {},
   "outputs": [],
   "source": [
    "import seaborn as sns\n",
    "\n",
    "corr = iris_2.corr()\n",
    "sns.heatmap(corr, cmap='coolwarm', annot=True)"
   ]
  },
  {
   "cell_type": "markdown",
   "metadata": {},
   "source": [
    "### Dropping Highly Correlated Features"
   ]
  },
  {
   "cell_type": "code",
   "execution_count": null,
   "metadata": {},
   "outputs": [],
   "source": [
    "# Remove 'petal_length' column from data\n",
    "iris_3 = iris.drop(['petal_length'], axis = 1)\n",
    "iris_3.info()"
   ]
  },
  {
   "cell_type": "markdown",
   "metadata": {},
   "source": [
    "### Visualizing Multivariate Data with Andrews curves \n",
    "\n",
    "▪ We can use andrews_curves() to visualize high-dimensional or multivariate data by plotting the Andrews curves.\n",
    "\n",
    "▪ Each frame row represents a single curve."
   ]
  },
  {
   "cell_type": "code",
   "execution_count": null,
   "metadata": {},
   "outputs": [],
   "source": [
    "from pandas.plotting import andrews_curves\n",
    "\n",
    "plt.figure(figsize = (15, 8)) \n",
    "andrews_curves(iris, \"species\")\n",
    "plt.show()"
   ]
  },
  {
   "cell_type": "markdown",
   "metadata": {},
   "source": [
    "## Section C: Clustering with K-Means\n",
    "\n",
    "▪ K-means clustering is one of the simplest and popular unsupervised machine learning algorithms.\n",
    "\n",
    "▪ K-Means will be used to find groups in the flower data.\n",
    "\n",
    "▪ The term \"K\" is a number that indicates how many clusters we need to create. E.g., K = 2 refers to two clusters.\n",
    "\n",
    "<img src=\"centroid.png\" width=\"600\">\n",
    "\n",
    "▪ The term \"means\" refers to averaging of the data; that is, finding the centroid.\n",
    "\n",
    "https://www.simplilearn.com/tutorials/machine-learning-tutorial/k-means-clustering-algorithm"
   ]
  },
  {
   "cell_type": "markdown",
   "metadata": {},
   "source": [
    "### Avoiding memory leak when dealing with KMeans\n",
    "\n",
    "▪ A memory leak is the incorrect management of memory allocations by a computer program where the unneeded memory isn't released. "
   ]
  },
  {
   "cell_type": "code",
   "execution_count": null,
   "metadata": {},
   "outputs": [],
   "source": [
    "import os\n",
    "\n",
    "# os.environ[\"OMP_NUM_THREADS\"] = \"1\""
   ]
  },
  {
   "cell_type": "markdown",
   "metadata": {},
   "source": [
    "### Splitting Data into Feature and Label"
   ]
  },
  {
   "cell_type": "code",
   "execution_count": null,
   "metadata": {},
   "outputs": [],
   "source": [
    "# Inputs into model\n",
    "X = iris.iloc[:, 0:4]\n",
    "\n",
    "# The label can be used to evaluate the model\n",
    "y = iris.species"
   ]
  },
  {
   "cell_type": "code",
   "execution_count": null,
   "metadata": {},
   "outputs": [],
   "source": [
    "X.head()"
   ]
  },
  {
   "cell_type": "code",
   "execution_count": null,
   "metadata": {},
   "outputs": [],
   "source": [
    "y.head()"
   ]
  },
  {
   "cell_type": "code",
   "execution_count": null,
   "metadata": {},
   "outputs": [],
   "source": [
    "print(len(X))\n",
    "print(len(y))"
   ]
  },
  {
   "cell_type": "markdown",
   "metadata": {},
   "source": [
    "### Building the K-means model: Instructions\n",
    "\n",
    "▪ Step 1: Import KMeans from **sklearn.cluster**.\n",
    "\n",
    "▪ Step 2: Use KMeans() to create a KMeans instance called **km** to find the 3 clusters. \n",
    "\n",
    "▪ Step 3: To specify the number of clusters, use the **n_clusters** keyword argument.\n",
    "\n",
    "▪ Step 4: Use the **.fit()** method of model to fit the model to the array of points points.\n",
    "\n",
    "▪ Step 5: Use the **.predict()** method of model to predict the cluster labels of new_points, assigning the result to labels.\n",
    "\n",
    "https://scikit-learn.org/stable/modules/generated/sklearn.cluster.KMeans.html"
   ]
  },
  {
   "cell_type": "markdown",
   "metadata": {},
   "source": [
    "### Fitting the Model with Data\n",
    "\n",
    "https://towardsdatascience.com/explain-ml-in-a-simple-way-k-means-clustering-e925d019743b"
   ]
  },
  {
   "cell_type": "code",
   "execution_count": null,
   "metadata": {},
   "outputs": [],
   "source": [
    "# Import KMeans\n",
    "from sklearn.cluster import KMeans\n",
    "\n",
    "# Create a KMeans instance with 3 clusters\n",
    "# n_init indicates the number of times K-Means would run with different sets of starting points.\n",
    "km = KMeans(n_clusters = 3, n_init = 10)"
   ]
  },
  {
   "cell_type": "markdown",
   "metadata": {},
   "source": [
    "### Accessing the Clusters of Data via labels_"
   ]
  },
  {
   "cell_type": "code",
   "execution_count": null,
   "metadata": {},
   "outputs": [],
   "source": [
    "# Fit the model to the input training instances\n",
    "km.fit(X)\n",
    "\n",
    "labels = km.labels_\n",
    "\n",
    "# Print cluster labels of new_points\n",
    "print(labels)"
   ]
  },
  {
   "cell_type": "code",
   "execution_count": null,
   "metadata": {},
   "outputs": [],
   "source": [
    "# Use fit_predict to fit model and obtain cluster labels: labels\n",
    "km_labels = km.fit_predict(X)\n",
    "\n",
    "print(km_labels)"
   ]
  },
  {
   "cell_type": "markdown",
   "metadata": {},
   "source": [
    "### cluster_centers_\n",
    "\n",
    "▪ We use the **cluster_centers_** attribute to see the cluster centers (also called centroids). "
   ]
  },
  {
   "cell_type": "code",
   "execution_count": null,
   "metadata": {},
   "outputs": [],
   "source": [
    "# Identify the center points of the data\n",
    "centers = km.cluster_centers_\n",
    "print(centers)"
   ]
  },
  {
   "cell_type": "markdown",
   "metadata": {},
   "source": [
    "### Scatter plot"
   ]
  },
  {
   "cell_type": "code",
   "execution_count": null,
   "metadata": {},
   "outputs": [],
   "source": [
    "# s = 100 represents the marker size \n",
    "# c = 'black' represents the marker colors\n",
    "plt.scatter(km.cluster_centers_[:, 0], km.cluster_centers_[:, 1], s = 100, c = 'black')"
   ]
  },
  {
   "cell_type": "code",
   "execution_count": null,
   "metadata": {},
   "outputs": [],
   "source": [
    "# Create a DataFrame with labels and varieties as columns: df\n",
    "df = pd.DataFrame({'km_labels': km_labels, 'species': y})\n",
    "df"
   ]
  },
  {
   "cell_type": "markdown",
   "metadata": {},
   "source": [
    "### Correspondence with iris species\n",
    "\n",
    "### crosstab()\n",
    "\n",
    "▪ Use the **pd.crosstab()** function on df['labels'] and df['varieties'] to count the number of times each iris species coincides with each cluster label. "
   ]
  },
  {
   "cell_type": "code",
   "execution_count": null,
   "metadata": {},
   "outputs": [],
   "source": [
    "# Create crosstab: ct\n",
    "ct = pd.crosstab(df['km_labels'], y)\n",
    "#ct = pd.crosstab(df['km_labels'], df['species'])\n",
    "ct"
   ]
  },
  {
   "cell_type": "code",
   "execution_count": null,
   "metadata": {},
   "outputs": [],
   "source": [
    "# Create crosstab: ct\n",
    "ct = pd.crosstab(df['km_labels'], df['species'], margins = True)\n",
    "ct"
   ]
  },
  {
   "cell_type": "markdown",
   "metadata": {},
   "source": [
    "### Different Types of Validation Techniques\n",
    "\n",
    "▪ Two techniques are used to validate the results for cluster learning:\n",
    "\n",
    "\\>>> **External validation**: This type of result validation can be carried out if true cluster labels are available.\n",
    "\n",
    "\\>>> **Internal validation**: Most of the methods of internal validation combine cohesion and separation to estimate the validation score.\n",
    "\n",
    "**[More Info: Clustering Metrics](https://scikit-learn.org/stable/modules/classes.html)**"
   ]
  },
  {
   "cell_type": "markdown",
   "metadata": {},
   "source": [
    "### External Validation: V-measure\n",
    "\n",
    "▪ **homogeneity**: each cluster contains only members of a single class.\n",
    "\n",
    "▪ **completeness**: all members of a given class are assigned to the same cluster.\n",
    "\n",
    "▪ **V-measure score** can be interpretated as an average of other two measures: homogeneity and completeness.\n",
    "\n",
    "https://www.kaggle.com/code/sashr07/unsupervised-learning-tutorial/notebook"
   ]
  },
  {
   "cell_type": "markdown",
   "metadata": {},
   "source": [
    "### Example"
   ]
  },
  {
   "cell_type": "code",
   "execution_count": null,
   "metadata": {},
   "outputs": [],
   "source": [
    "from sklearn import metrics\n",
    "\n",
    "labels_true_0 = [0, 0, 0, 1, 1, 1]\n",
    "labels_pred_1 = [0, 0, 1, 1, 2, 2]\n",
    "labels_pred_2 = [0, 0, 0, 1, 2, 2]"
   ]
  },
  {
   "cell_type": "code",
   "execution_count": null,
   "metadata": {},
   "outputs": [],
   "source": [
    "homogeneity = metrics.homogeneity_score(labels_true, labels_pred_1)  \n",
    "print(homogeneity)\n",
    "\n",
    "completeness = metrics.completeness_score(labels_true, labels_pred_1) \n",
    "print(completeness)\n",
    "\n",
    "from sklearn.metrics.cluster import v_measure_score\n",
    "v_measure = v_measure_score(labels_true, labels_pred_1)  \n",
    "print(v_measure)"
   ]
  },
  {
   "cell_type": "code",
   "execution_count": null,
   "metadata": {},
   "outputs": [],
   "source": [
    "# Output order: Homogeneity, completeness and V-measure\n",
    "print('labels_pred_1:', metrics.homogeneity_completeness_v_measure(labels_true, labels_pred_1))"
   ]
  },
  {
   "cell_type": "code",
   "execution_count": null,
   "metadata": {},
   "outputs": [],
   "source": [
    "# The following clustering is perfectly homogeneous but not complete\n",
    "print('labels_pred_2:', metrics.homogeneity_completeness_v_measure(labels_true, labels_pred_2))"
   ]
  },
  {
   "cell_type": "markdown",
   "metadata": {},
   "source": [
    "### Back to Iris-Dataset Clustering"
   ]
  },
  {
   "cell_type": "markdown",
   "metadata": {},
   "source": [
    "<span style = \"color:red\">\n",
    "    \n",
    "**Exercise \\#8: Write python code that calculates homogeneity of clustering.** \n",
    "\n",
    "</span>"
   ]
  },
  {
   "cell_type": "code",
   "execution_count": null,
   "metadata": {},
   "outputs": [],
   "source": []
  },
  {
   "cell_type": "markdown",
   "metadata": {},
   "source": [
    "<span style = \"color:red\">\n",
    "    \n",
    "**Exercise \\#9: Write python code that calculates completeness of clustering.** \n",
    "\n",
    "</span>"
   ]
  },
  {
   "cell_type": "code",
   "execution_count": null,
   "metadata": {},
   "outputs": [],
   "source": []
  },
  {
   "cell_type": "markdown",
   "metadata": {},
   "source": [
    "<span style = \"color:red\">\n",
    "    \n",
    "**Exercise \\#10: Write python code that calculates v-measure score of clustering.** \n",
    "\n",
    "</span>"
   ]
  },
  {
   "cell_type": "code",
   "execution_count": null,
   "metadata": {},
   "outputs": [],
   "source": []
  },
  {
   "cell_type": "markdown",
   "metadata": {},
   "source": [
    "<span style = \"color:red\">\n",
    "    \n",
    "**Exercise \\#11: Write python code that calculates homogeneity, completeness and v-measure score of clustering at once.** \n",
    "\n",
    "</span>"
   ]
  },
  {
   "cell_type": "code",
   "execution_count": null,
   "metadata": {},
   "outputs": [],
   "source": []
  },
  {
   "cell_type": "markdown",
   "metadata": {},
   "source": [
    "### Measuring The Quality of Clustering\n",
    "\n",
    "▪ A good clustering has tight clusters where all samples in each cluster bunched together.\n",
    "\n",
    "### Inertia\n",
    "\n",
    "▪ Afer fitting a model with fit(), an attribute called **inertia_** is available.\n",
    "\n",
    "▪ Inertia calculates the sum of distances of all the points within a cluster from the centroid of that cluster.\n",
    "\n",
    "▪ The smaller the Inertia value, the more coherent are the different clusters. \n",
    "\n",
    "https://www.analyticsvidhya.com/blog/2019/08/comprehensive-guide-k-means-clustering/"
   ]
  },
  {
   "cell_type": "code",
   "execution_count": null,
   "metadata": {},
   "outputs": [],
   "source": [
    "km = KMeans(n_clusters = 3, n_init = 10)\n",
    "km.fit(X)\n",
    "\n",
    "print(km.inertia_)"
   ]
  },
  {
   "cell_type": "markdown",
   "metadata": {},
   "source": [
    "### How to find the optimal K?\n",
    "\n",
    "▪ A good model is one with low inertia AND a low number of clusters (K). \n",
    "\n",
    "▪ However, this is a tradeoff because as K increases, inertia decreases.\n",
    "\n",
    "▪ To find the optimal K for a dataset, use the **Elbow method** to find the point where the decrease in inertia begins to slow. \n",
    "\n",
    "<img src=\"elbow.png\" width=\"500\">\n",
    "\n",
    "https://www.analyticsvidhya.com/blog/2021/05/k-mean-getting-the-optimal-number-of-clusters/"
   ]
  },
  {
   "cell_type": "markdown",
   "metadata": {},
   "source": [
    "### Instructions\n",
    "\n",
    "▪ For each of the given values of k, perform the following steps:\n",
    "\n",
    "\\>>> Create a KMeans instance called model with k clusters.\n",
    "\n",
    "\\>>> Fit the model to the grain data samples.\n",
    "\n",
    "\\>>> Append the value of the inertia_ attribute of model to the list inertias.\n",
    "\n",
    "https://www.kaggle.com/sashr07/unsupervised-learning-tutorial"
   ]
  },
  {
   "cell_type": "code",
   "execution_count": null,
   "metadata": {},
   "outputs": [],
   "source": [
    "ks = range(1, 7)\n",
    "inertias = []\n",
    "\n",
    "for k in ks:\n",
    "    # Create a KMeans instance with k clusters: model\n",
    "    model = KMeans(n_clusters = k, n_init = 10)\n",
    "    \n",
    "    # Fit model to samples\n",
    "    model.fit(X)\n",
    "    \n",
    "    # Append the inertia to the list of inertias\n",
    "    inertias.append(model.inertia_)\n",
    "    \n",
    "# Plot ks vs inertias\n",
    "plt.plot(ks, inertias, '-o')\n",
    "plt.xlabel('number of clusters, k')\n",
    "plt.ylabel('inertia')\n",
    "plt.xticks(ks)\n",
    "plt.show()"
   ]
  },
  {
   "cell_type": "markdown",
   "metadata": {},
   "source": [
    "## Detecting Outliers"
   ]
  },
  {
   "cell_type": "code",
   "execution_count": null,
   "metadata": {},
   "outputs": [],
   "source": [
    "iris.describe()"
   ]
  },
  {
   "cell_type": "markdown",
   "metadata": {},
   "source": [
    "### Creating a Boxplot for Numerical Column"
   ]
  },
  {
   "cell_type": "code",
   "execution_count": null,
   "metadata": {},
   "outputs": [],
   "source": [
    "plt.figure(figsize = (15, 10))    \n",
    "\n",
    "plt.subplot(2,2,1)    \n",
    "sns.boxplot(x = 'species', y = 'sepal_length', data=iris)   \n",
    "\n",
    "plt.subplot(2,2,2)    \n",
    "sns.boxplot(x = 'species', y = 'sepal_width', data=iris)   \n",
    "\n",
    "plt.subplot(2,2,3)    \n",
    "sns.boxplot(x = 'species', y = 'petal_length', data=iris)  \n",
    "\n",
    "plt.subplot(2,2,4)    \n",
    "sns.boxplot(x = 'species', y = 'petal_width', data=iris) "
   ]
  },
  {
   "cell_type": "markdown",
   "metadata": {},
   "source": [
    "### Creating a Seaborn Boxplot without Outliers"
   ]
  },
  {
   "cell_type": "code",
   "execution_count": null,
   "metadata": {},
   "outputs": [],
   "source": [
    "plt.figure(figsize = (15, 10))    \n",
    "\n",
    "plt.subplot(2,2,1)    \n",
    "sns.boxplot(x = 'species', y = 'sepal_length', data=iris, showfliers=False)   \n",
    "\n",
    "plt.subplot(2,2,2)    \n",
    "sns.boxplot(x = 'species', y = 'sepal_width', data=iris, showfliers=False)   \n",
    "\n",
    "plt.subplot(2,2,3)    \n",
    "sns.boxplot(x = 'species', y = 'petal_length', data=iris, showfliers=False)  \n",
    "\n",
    "plt.subplot(2,2,4)    \n",
    "sns.boxplot(x = 'species', y = 'petal_width', data=iris, showfliers=False) "
   ]
  },
  {
   "cell_type": "markdown",
   "metadata": {},
   "source": [
    "### Identifying Outliers (Sepal Length)"
   ]
  },
  {
   "cell_type": "code",
   "execution_count": null,
   "metadata": {},
   "outputs": [],
   "source": [
    "sns.boxplot(x = 'species', y = 'sepal_length', data=iris)   "
   ]
  },
  {
   "cell_type": "code",
   "execution_count": null,
   "metadata": {},
   "outputs": [],
   "source": [
    "quartile_1 = iris.loc[(iris['species'] == 'Iris-verginica'), 'sepal_length'].quantile(0.25)\n",
    "quartile_3 = iris.loc[(iris['species'] == 'Iris-verginica'), 'sepal_length'].quantile(0.75)\n",
    "\n",
    "# iqr means interquartile range\n",
    "iqr = quartile_3 - quartile_1\n",
    "lowest = quartile_1 - 1.5 * iqr\n",
    "highest = quartile_3 + 1.5 * iqr\n",
    "\n",
    "iris.loc[(iris['species'] == 'Iris-verginica') & (iris['sepal_length'] < lowest)]"
   ]
  },
  {
   "cell_type": "markdown",
   "metadata": {},
   "source": [
    "<span style = \"color:red\">\n",
    "    \n",
    "**Exercise \\#12: Write python code that detects outliers based on \\'sepal_width\\'.** \n",
    "\n",
    "</span>"
   ]
  },
  {
   "cell_type": "code",
   "execution_count": null,
   "metadata": {},
   "outputs": [],
   "source": []
  },
  {
   "cell_type": "markdown",
   "metadata": {},
   "source": [
    "<span style = \"color:red\">\n",
    "    \n",
    "**Exercise \\#13: Write python code that detects outliers based on \\'petal_length\\'.** \n",
    "\n",
    "</span>"
   ]
  },
  {
   "cell_type": "code",
   "execution_count": null,
   "metadata": {},
   "outputs": [],
   "source": []
  },
  {
   "cell_type": "markdown",
   "metadata": {},
   "source": [
    "<span style = \"color:red\">\n",
    "    \n",
    "**Exercise \\#14: Write python code that detects outliers based on \\'petal_width\\'.** \n",
    "\n",
    "</span>"
   ]
  },
  {
   "cell_type": "code",
   "execution_count": null,
   "metadata": {},
   "outputs": [],
   "source": []
  },
  {
   "cell_type": "markdown",
   "metadata": {},
   "source": [
    "## Section D: Exercises \n",
    "\n",
    "### \\#1: Clustering with Mean Shift\n",
    "\n",
    "### Import the library"
   ]
  },
  {
   "cell_type": "code",
   "execution_count": null,
   "metadata": {},
   "outputs": [],
   "source": []
  },
  {
   "cell_type": "markdown",
   "metadata": {},
   "source": [
    "### Find out the number of estimated clusters by Mean Shift"
   ]
  },
  {
   "cell_type": "code",
   "execution_count": null,
   "metadata": {},
   "outputs": [],
   "source": []
  },
  {
   "cell_type": "markdown",
   "metadata": {},
   "source": [
    "### Fit Mean Shift model and generate the ct"
   ]
  },
  {
   "cell_type": "code",
   "execution_count": null,
   "metadata": {},
   "outputs": [],
   "source": []
  },
  {
   "cell_type": "markdown",
   "metadata": {},
   "source": [
    "### Calculate the score using v_measure_score()"
   ]
  },
  {
   "cell_type": "code",
   "execution_count": null,
   "metadata": {},
   "outputs": [],
   "source": []
  },
  {
   "cell_type": "markdown",
   "metadata": {},
   "source": [
    "__Example output:__ 0.6994"
   ]
  },
  {
   "cell_type": "markdown",
   "metadata": {},
   "source": [
    "### \\#2: Clustering with Gaussian mixture models (GMM)\n",
    "\n",
    "### Import the library"
   ]
  },
  {
   "cell_type": "code",
   "execution_count": null,
   "metadata": {},
   "outputs": [],
   "source": []
  },
  {
   "cell_type": "markdown",
   "metadata": {},
   "source": [
    "### Fit GMM model"
   ]
  },
  {
   "cell_type": "code",
   "execution_count": null,
   "metadata": {},
   "outputs": [],
   "source": []
  },
  {
   "cell_type": "markdown",
   "metadata": {},
   "source": [
    "### Generate the ct"
   ]
  },
  {
   "cell_type": "code",
   "execution_count": null,
   "metadata": {},
   "outputs": [],
   "source": []
  },
  {
   "cell_type": "markdown",
   "metadata": {},
   "source": [
    "### Calculate the score using *v_measure_score()*"
   ]
  },
  {
   "cell_type": "code",
   "execution_count": null,
   "metadata": {},
   "outputs": [],
   "source": []
  },
  {
   "cell_type": "markdown",
   "metadata": {},
   "source": [
    "__Example output:__ 0.8997"
   ]
  },
  {
   "cell_type": "markdown",
   "metadata": {},
   "source": [
    "### \\#3: Clustering with Agglomerative Hierarchical  Clustering\n",
    "\n",
    "### Import the library"
   ]
  },
  {
   "cell_type": "code",
   "execution_count": null,
   "metadata": {},
   "outputs": [],
   "source": []
  },
  {
   "cell_type": "markdown",
   "metadata": {},
   "source": [
    "### Fit the model"
   ]
  },
  {
   "cell_type": "code",
   "execution_count": null,
   "metadata": {},
   "outputs": [],
   "source": []
  },
  {
   "cell_type": "markdown",
   "metadata": {},
   "source": [
    "### Generate the ct"
   ]
  },
  {
   "cell_type": "code",
   "execution_count": null,
   "metadata": {},
   "outputs": [],
   "source": []
  },
  {
   "cell_type": "markdown",
   "metadata": {},
   "source": [
    "__Example output:__ 0.7701"
   ]
  }
 ],
 "metadata": {
  "kernelspec": {
   "display_name": "Python 3 (ipykernel)",
   "language": "python",
   "name": "python3"
  },
  "language_info": {
   "codemirror_mode": {
    "name": "ipython",
    "version": 3
   },
   "file_extension": ".py",
   "mimetype": "text/x-python",
   "name": "python",
   "nbconvert_exporter": "python",
   "pygments_lexer": "ipython3",
   "version": "3.11.5"
  }
 },
 "nbformat": 4,
 "nbformat_minor": 2
}
