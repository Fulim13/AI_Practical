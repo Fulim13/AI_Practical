{
 "cells": [
  {
   "cell_type": "markdown",
   "metadata": {
    "colab_type": "text",
    "id": "NKVG2QbjE4Uv"
   },
   "source": [
    "# Part 2: Content-based Filtering Recommender System"
   ]
  },
  {
   "cell_type": "markdown",
   "metadata": {
    "colab_type": "text",
    "id": "5VuCrJd0E4Uw"
   },
   "source": [
    "## Section A: Introduction\n",
    "\n",
    "▪ In this practical session, we learn how to build a basic model of content-based recommender systems using the Movies Data set that is publicly available on Kaggle. \n",
    "\n",
    "▪ To achieve this, we will compute pairwise cosine similarity scores for all movies based on their plot descriptions and recommend movies based on that similarity score threshold.\n",
    "\n",
    "\\>>> **(Full dataset can be downloaded here)** https://www.kaggle.com/rounakbanik/the-movies-dataset?select=movies_metadata.csv\n",
    "\n",
    "\\>>> **(The reference of this practical)** https://www.datacamp.com/community/tutorials/recommender-systems-python\n",
    "\n",
    "### Content-based Filtering Recommender Systems\n",
    "\n",
    "▪ Content-based recommendations systems are the systems that look for similarity before recommending something. \n",
    "\n",
    "<img src=\"content.png\" width=\"350\">"
   ]
  },
  {
   "cell_type": "markdown",
   "metadata": {
    "colab_type": "text",
    "id": "7aUhEQj7E4Ux"
   },
   "source": [
    "## Section B: Data Exploration\n",
    "\n",
    "### Loading Dataset into Dataframe"
   ]
  },
  {
   "cell_type": "code",
   "execution_count": 1,
   "metadata": {
    "colab": {
     "base_uri": "https://localhost:8080/",
     "height": 455
    },
    "colab_type": "code",
    "executionInfo": {
     "elapsed": 1624,
     "status": "error",
     "timestamp": 1598199323921,
     "user": {
      "displayName": "CHI WEE TAN",
      "photoUrl": "https://lh3.googleusercontent.com/a-/AOh14GijHp2AsEs6M_zt6H3EmAOa-hTcKiWeIJFFhu_Y=s64",
      "userId": "13878856117499750324"
     },
     "user_tz": -480
    },
    "id": "RAeC25MgE4Uz",
    "outputId": "8c5dfe22-15ed-4df0-c6eb-fa70d0bfe575"
   },
   "outputs": [],
   "source": [
    "import pandas as pd\n",
    "\n",
    "movies_data = pd.read_csv('movies_metadata.csv', low_memory=False)"
   ]
  },
  {
   "cell_type": "code",
   "execution_count": 2,
   "metadata": {
    "colab": {},
    "colab_type": "code",
    "id": "h8JqhFyeE4U3"
   },
   "outputs": [
    {
     "data": {
      "text/plain": [
       "(45466, 24)"
      ]
     },
     "execution_count": 2,
     "metadata": {},
     "output_type": "execute_result"
    }
   ],
   "source": [
    "movies_data.shape"
   ]
  },
  {
   "cell_type": "markdown",
   "metadata": {},
   "source": [
    "### Retrieving All Columns' Names"
   ]
  },
  {
   "cell_type": "code",
   "execution_count": 3,
   "metadata": {},
   "outputs": [
    {
     "data": {
      "text/plain": [
       "Index(['adult', 'belongs_to_collection', 'budget', 'genres', 'homepage', 'id',\n",
       "       'imdb_id', 'original_language', 'original_title', 'overview',\n",
       "       'popularity', 'poster_path', 'production_companies',\n",
       "       'production_countries', 'release_date', 'revenue', 'runtime',\n",
       "       'spoken_languages', 'status', 'tagline', 'title', 'video',\n",
       "       'vote_average', 'vote_count'],\n",
       "      dtype='object')"
      ]
     },
     "execution_count": 3,
     "metadata": {},
     "output_type": "execute_result"
    }
   ],
   "source": [
    "movies_data.columns"
   ]
  },
  {
   "cell_type": "markdown",
   "metadata": {
    "colab_type": "text",
    "id": "jGu41wRAE4U5"
   },
   "source": [
    "### Identifying the Best Indicator of Similarity (Part 1) \n",
    "\n",
    "▪ Assumption: **If two movies fall under the same category, then they might be similar to certain extent**. "
   ]
  },
  {
   "cell_type": "code",
   "execution_count": 4,
   "metadata": {},
   "outputs": [
    {
     "data": {
      "text/plain": [
       "0        [{'id': 16, 'name': 'Animation'}, {'id': 35, '...\n",
       "1        [{'id': 12, 'name': 'Adventure'}, {'id': 14, '...\n",
       "2        [{'id': 10749, 'name': 'Romance'}, {'id': 35, ...\n",
       "3        [{'id': 35, 'name': 'Comedy'}, {'id': 18, 'nam...\n",
       "4                           [{'id': 35, 'name': 'Comedy'}]\n",
       "                               ...                        \n",
       "45461    [{'id': 18, 'name': 'Drama'}, {'id': 10751, 'n...\n",
       "45462                        [{'id': 18, 'name': 'Drama'}]\n",
       "45463    [{'id': 28, 'name': 'Action'}, {'id': 18, 'nam...\n",
       "45464                                                   []\n",
       "45465                                                   []\n",
       "Name: genres, Length: 45466, dtype: object"
      ]
     },
     "execution_count": 4,
     "metadata": {},
     "output_type": "execute_result"
    }
   ],
   "source": [
    "movies_data.genres"
   ]
  },
  {
   "cell_type": "markdown",
   "metadata": {},
   "source": [
    "### Understanding the Content of Genres"
   ]
  },
  {
   "cell_type": "code",
   "execution_count": 5,
   "metadata": {},
   "outputs": [
    {
     "data": {
      "text/plain": [
       "\"[{'id': 16, 'name': 'Animation'}, {'id': 35, 'name': 'Comedy'}, {'id': 10751, 'name': 'Family'}]\""
      ]
     },
     "execution_count": 5,
     "metadata": {},
     "output_type": "execute_result"
    }
   ],
   "source": [
    "# Each movie can be categorized under more than one genre\n",
    "movies_data.genres[0]"
   ]
  },
  {
   "cell_type": "code",
   "execution_count": 6,
   "metadata": {},
   "outputs": [
    {
     "name": "stdout",
     "output_type": "stream",
     "text": [
      "<class 'str'>\n"
     ]
    }
   ],
   "source": [
    "# genres is stored as string\n",
    "print(type(movies_data.genres[0]))"
   ]
  },
  {
   "cell_type": "code",
   "execution_count": 7,
   "metadata": {},
   "outputs": [
    {
     "name": "stdout",
     "output_type": "stream",
     "text": [
      "45466\n"
     ]
    }
   ],
   "source": [
    "size = len(movies_data.genres)\n",
    "print(size)"
   ]
  },
  {
   "cell_type": "markdown",
   "metadata": {},
   "source": [
    "<span style = \"color:red\">\n",
    "    \n",
    "**Exercise \\#1: Explain what the following code does.** \n",
    "\n",
    "</span>"
   ]
  },
  {
   "cell_type": "code",
   "execution_count": null,
   "metadata": {},
   "outputs": [],
   "source": [
    "import re\n",
    "\n",
    "df_1 = [movies_data.genres[index] for index in range(size) if re.search('Science Fiction', movies_data.genres[index])]\n",
    "df_1"
   ]
  },
  {
   "cell_type": "code",
   "execution_count": null,
   "metadata": {},
   "outputs": [],
   "source": [
    "print(len(df_1))"
   ]
  },
  {
   "cell_type": "markdown",
   "metadata": {},
   "source": [
    "### DataFrame Slicing using str.contains()\n",
    "\n",
    "▪ The loc property is used to access a group of rows and columns by label(s)."
   ]
  },
  {
   "cell_type": "code",
   "execution_count": null,
   "metadata": {},
   "outputs": [],
   "source": [
    "df_2 = movies_data.loc[movies_data['genres'].str.contains('Science Fiction')]\n",
    "print(len(df_2))"
   ]
  },
  {
   "cell_type": "markdown",
   "metadata": {},
   "source": [
    "### Recommending Movies Based on Genres"
   ]
  },
  {
   "cell_type": "code",
   "execution_count": null,
   "metadata": {},
   "outputs": [],
   "source": [
    "df_3 = df_2[['original_title', 'release_date', 'genres']]\n",
    "df_3.head()"
   ]
  },
  {
   "cell_type": "markdown",
   "metadata": {},
   "source": [
    "<span style = \"color:red\">\n",
    "    \n",
    "**Exercise \\#2: Is _genre_ a good indicator of similarity? Are _Powder_ and _Screamers_ similar movies?** \n",
    "\n",
    "</span>"
   ]
  },
  {
   "cell_type": "code",
   "execution_count": null,
   "metadata": {},
   "outputs": [],
   "source": [
    "movies_data.columns"
   ]
  },
  {
   "cell_type": "markdown",
   "metadata": {
    "colab_type": "text",
    "id": "rbVHHCCcE4U6"
   },
   "source": [
    "### Identifying the Best Indicator of Similarity (Part 2)\n",
    "\n",
    "▪ Assumption: **If two movies have similar plots, then they might be similar to certain extent**."
   ]
  },
  {
   "cell_type": "code",
   "execution_count": null,
   "metadata": {
    "colab": {},
    "colab_type": "code",
    "id": "3dX_XsEdE4U6",
    "outputId": "1bbbd95a-4db9-4d81-f9f4-00c8e98f672a"
   },
   "outputs": [],
   "source": [
    "movies_data['overview'].head()"
   ]
  },
  {
   "cell_type": "markdown",
   "metadata": {
    "colab_type": "text",
    "id": "DFlWqylfE4U9"
   },
   "source": [
    "## Section C: Feature Extraction\n",
    "\n",
    "### TF-IDF Vectorizer\n",
    "\n",
    "▪ Scikit-learn's built-in TfIdfVectorizer class is used to produce the TF-IDF matrix:\n",
    "\n",
    "\\>>> Import the Tfidf module using scikit-learn.\n",
    "\n",
    "\\>>> Replace not-a-number values with a blank string.\n",
    "\n",
    "\\>>> Remove stop words like 'the', 'an', etc. since they do not give any useful information about the topic.\n",
    "\n",
    "\\>>> Finally, construct the TF-IDF matrix on the data."
   ]
  },
  {
   "cell_type": "code",
   "execution_count": null,
   "metadata": {},
   "outputs": [],
   "source": [
    "import pandas as pd\n",
    "\n",
    "for i in range(len(movies_data['overview'])):\n",
    "    if pd.isna(movies_data['overview'][i]):\n",
    "        print(movies_data['overview'][i])"
   ]
  },
  {
   "cell_type": "code",
   "execution_count": null,
   "metadata": {
    "colab": {},
    "colab_type": "code",
    "id": "Vc5LCSWaE4U9",
    "outputId": "7d7db938-3755-4ebb-fcb9-79d4ca8c9833"
   },
   "outputs": [],
   "source": [
    "from sklearn.feature_extraction.text import TfidfVectorizer\n",
    "\n",
    "tfidf = TfidfVectorizer(stop_words='english')\n",
    "\n",
    "# Replace NaN with an empty string\n",
    "movies_data['overview'] = movies_data['overview'].fillna('')\n",
    "\n",
    "# Construct the required TF-IDF matrix by fitting and transforming the data\n",
    "tfidf_matrix = tfidf.fit_transform(movies_data['overview'])"
   ]
  },
  {
   "cell_type": "markdown",
   "metadata": {},
   "source": [
    "<span style = \"color:red\">\n",
    "    \n",
    "**Exercise \\#3: Explain what are the 2 numbers printed when the shape property of _tfidf_matrix_ is accessed?** \n",
    "\n",
    "</span>"
   ]
  },
  {
   "cell_type": "code",
   "execution_count": null,
   "metadata": {},
   "outputs": [],
   "source": [
    "# Check the shape of tfidf_matrix\n",
    "tfidf_matrix.shape"
   ]
  },
  {
   "cell_type": "markdown",
   "metadata": {},
   "source": [
    "### Useless Features vs. Useful Features? Data Preprocessing?"
   ]
  },
  {
   "cell_type": "code",
   "execution_count": null,
   "metadata": {
    "colab": {},
    "colab_type": "code",
    "id": "RIcsXElCE4VB",
    "outputId": "caa07c51-eba9-4091-a72d-2b1ffe035dad"
   },
   "outputs": [],
   "source": [
    "tfidf.get_feature_names_out()"
   ]
  },
  {
   "cell_type": "code",
   "execution_count": null,
   "metadata": {},
   "outputs": [],
   "source": [
    "tfidf.get_feature_names_out()[0:500]"
   ]
  },
  {
   "cell_type": "code",
   "execution_count": null,
   "metadata": {},
   "outputs": [],
   "source": [
    "tfidf.get_feature_names_out()[900:1000]"
   ]
  },
  {
   "cell_type": "markdown",
   "metadata": {
    "colab_type": "text",
    "id": "0Zmnz4NTE4VE"
   },
   "source": [
    "## Section D: Similarity Computation\n",
    "\n",
    "▪ With the matrix, **cosine similarity** can be used to calculate a numeric quantity that denotes the similarity between two movies.\n",
    "\n",
    "▪ The syntax is **cosine_similarity(X, Y=None, dense_output=True)**\n",
    "\n",
    "\\>>> X (either an ndarray or a sparse matrix) is the input data.\n",
    "\n",
    "\\>>> Y (either an ndarray or a sparse matrix) is the input data. If None, the output will be the pairwise similarities between all samples in X."
   ]
  },
  {
   "cell_type": "code",
   "execution_count": null,
   "metadata": {
    "scrolled": true
   },
   "outputs": [],
   "source": [
    "from sklearn.metrics.pairwise import cosine_similarity\n",
    "\n",
    "# Compute the Cosine Similarity in terms of pairwise similarities\n",
    "cosine_sim_1 = cosine_similarity(tfidf_matrix, tfidf_matrix)"
   ]
  },
  {
   "cell_type": "markdown",
   "metadata": {},
   "source": [
    "<span style = \"color:red\">\n",
    "    \n",
    "**Exercise \\#4: Explain what are the 2 numbers printed when the shape property of _cosine_sim_1 is accessed?** \n",
    "\n",
    "</span>"
   ]
  },
  {
   "cell_type": "code",
   "execution_count": null,
   "metadata": {},
   "outputs": [],
   "source": [
    "cosine_sim_1.shape"
   ]
  },
  {
   "cell_type": "markdown",
   "metadata": {},
   "source": [
    "### Visualizing cosine_sim_1"
   ]
  },
  {
   "cell_type": "code",
   "execution_count": null,
   "metadata": {},
   "outputs": [],
   "source": [
    "# Print the first 6 rows and 6 columns\n",
    "for i in range(6):\n",
    "    print(cosine_sim_1[i][:6])"
   ]
  },
  {
   "cell_type": "code",
   "execution_count": null,
   "metadata": {},
   "outputs": [],
   "source": [
    "print(type(cosine_sim_1))"
   ]
  },
  {
   "cell_type": "code",
   "execution_count": null,
   "metadata": {},
   "outputs": [],
   "source": [
    "df = pd.DataFrame(cosine_sim_1[0:6, 0:6])\n",
    "df.columns = ['Movie_1', 'Movie_2', 'Movie_3', 'Movie_4', 'Movie_5', 'Movie_6']\n",
    "df.index = ['Movie_1', 'Movie_2', 'Movie_3', 'Movie_4', 'Movie_5', 'Movie_6']\n",
    "df.round(4)"
   ]
  },
  {
   "cell_type": "markdown",
   "metadata": {
    "colab_type": "text",
    "id": "QvFwEGVKE4VE"
   },
   "source": [
    "### linear_kernel()\n",
    "\n",
    "▪ Since TF-IDF vectorizer is used, calculating the dot product between each vector will directly give you the cosine similarity score. \n",
    "\n",
    "▪ Therefore, we can use sklearn's **linear_kernel()** instead of **cosine_similarities()** since it is faster."
   ]
  },
  {
   "cell_type": "code",
   "execution_count": null,
   "metadata": {
    "colab": {},
    "colab_type": "code",
    "id": "6PIAy37oE4VE"
   },
   "outputs": [],
   "source": [
    "from sklearn.metrics.pairwise import linear_kernel\n",
    "\n",
    "# Compute the cosine similarity matrix\n",
    "cosine_sim_2 = linear_kernel(tfidf_matrix, tfidf_matrix)"
   ]
  },
  {
   "cell_type": "code",
   "execution_count": null,
   "metadata": {
    "colab": {},
    "colab_type": "code",
    "id": "zpHGt3oGE4VG",
    "outputId": "30637702-633f-4a30-8654-bade99068203"
   },
   "outputs": [],
   "source": [
    "cosine_sim_2.shape"
   ]
  },
  {
   "cell_type": "code",
   "execution_count": null,
   "metadata": {},
   "outputs": [],
   "source": [
    "print(type(cosine_sim_2))"
   ]
  },
  {
   "cell_type": "code",
   "execution_count": null,
   "metadata": {
    "colab": {},
    "colab_type": "code",
    "id": "9aZHMf7zE4VJ",
    "outputId": "0427f7be-7f8d-4c34-8cb6-1c0dc0422c94"
   },
   "outputs": [],
   "source": [
    "# Print the first 6 rows and 6 columns\n",
    "for i in range(6):\n",
    "    print(cosine_sim_2[i][:6])"
   ]
  },
  {
   "cell_type": "markdown",
   "metadata": {},
   "source": [
    "### cosine_similarity() vs. linear_kernel()\n",
    "\n",
    "https://campus.datacamp.com/courses/feature-engineering-for-nlp-in-python/tf-idf-and-similarity-scores?ex=9"
   ]
  },
  {
   "cell_type": "code",
   "execution_count": null,
   "metadata": {},
   "outputs": [],
   "source": [
    "import time\n",
    "from sklearn.metrics.pairwise import linear_kernel\n",
    "\n",
    "# Record start time\n",
    "start = time.time()\n",
    "\n",
    "# Compute cosine similarity matrix\n",
    "cosine_sim_lk = linear_kernel(tfidf_matrix, tfidf_matrix)\n",
    "\n",
    "# Print time taken\n",
    "print(\"Time taken: %s seconds\" %(time.time() - start))"
   ]
  },
  {
   "cell_type": "code",
   "execution_count": null,
   "metadata": {},
   "outputs": [],
   "source": [
    "import time\n",
    "from sklearn.metrics.pairwise import cosine_similarity\n",
    "\n",
    "# Record start time\n",
    "start = time.time()\n",
    "\n",
    "# Compute cosine similarity matrix\n",
    "cosine_sim_cs = cosine_similarity(tfidf_matrix, tfidf_matrix)\n",
    "\n",
    "# Print time taken\n",
    "print(\"Time taken: %s seconds\" %(time.time() - start))"
   ]
  },
  {
   "cell_type": "markdown",
   "metadata": {
    "colab_type": "text",
    "id": "tPqhFpZaE4VP"
   },
   "source": [
    "## Section E: Recommending Movies"
   ]
  },
  {
   "cell_type": "markdown",
   "metadata": {
    "colab_type": "text",
    "id": "dEOZFrm2E4VM"
   },
   "source": [
    "▪ Create a reverse mapping of movie titles and DataFrame indices. "
   ]
  },
  {
   "cell_type": "code",
   "execution_count": null,
   "metadata": {},
   "outputs": [],
   "source": [
    "tempo = movies_data[['title']]\n",
    "tempo"
   ]
  },
  {
   "cell_type": "code",
   "execution_count": null,
   "metadata": {
    "colab": {},
    "colab_type": "code",
    "id": "Un5kFaPNE4VM",
    "outputId": "f265d47a-595c-490b-8695-47ac2ebf450b"
   },
   "outputs": [],
   "source": [
    "# Create a pandas series where indexes are values and titles are indexes\n",
    "indices = pd.Series(movies_data.index, index = movies_data['title']).drop_duplicates()\n",
    "\n",
    "# Check the first 10 indices\n",
    "indices[:10]"
   ]
  },
  {
   "cell_type": "code",
   "execution_count": null,
   "metadata": {},
   "outputs": [],
   "source": [
    "indices.shape"
   ]
  },
  {
   "cell_type": "markdown",
   "metadata": {},
   "source": [
    "### enumerate()\n",
    "\n",
    "▪ **enumerate()** method adds a counter to an iterable and returns it in a form of enumerating object. \n",
    "\n",
    "▪ This enumerated object can then be used directly for loops or converted into a list of tuples using the list() method.\n",
    "\n",
    "https://www.geeksforgeeks.org/enumerate-in-python/"
   ]
  },
  {
   "cell_type": "code",
   "execution_count": null,
   "metadata": {},
   "outputs": [],
   "source": [
    "# Python program to illustrate enumerate function\n",
    "list_1 = [\"eat\", \"sleep\", \"repeat\"]\n",
    "  \n",
    "print(list(enumerate(list_1)))"
   ]
  },
  {
   "cell_type": "markdown",
   "metadata": {
    "colab_type": "text",
    "id": "vBppfWdbE4VP"
   },
   "source": [
    "### get_recommendations()\n",
    "\n",
    "▪ To build a content filtering recommender, we need to define a function that takes in a movie title as an input and outputs a list of the 10 most similar movies.\n",
    "\n",
    "▪ These are the following steps to follow:\n",
    "\n",
    "\\>>> Get the index of the movie given its title.\n",
    "\n",
    "\\>>> Get the list of cosine similarity scores for that particular movie with all movies. Convert it into a list of tuples where the first element is its position, and the second is the similarity score.\n",
    "\n",
    "\\>>> Sort the aforementioned list of tuples based on the similarity scores; that is, the second element.\n",
    "\n",
    "\\>>> Get the top 10 elements of this list. Ignore the first element as it refers to self (the movie most similar to a particular movie is the movie itself).\n",
    "\n",
    "\\>>> Return the titles corresponding to the indices of the top elements."
   ]
  },
  {
   "cell_type": "code",
   "execution_count": null,
   "metadata": {
    "colab": {},
    "colab_type": "code",
    "id": "mhCmCDlDE4VP"
   },
   "outputs": [],
   "source": [
    "def get_recommendations(title, cosine_sim=cosine_sim_1):\n",
    "\n",
    "    # Get the index of the movie that matches the title\n",
    "    # Title: The Dark Knight Rises, index: 18252\n",
    "    index = indices[title]\n",
    "    # print(index) \n",
    "    \n",
    "    # Get the pairwsie similarity scores of all 45466 movies with the selected movie: 'The Dark Knight Rises'\n",
    "    sim_scores = list(enumerate(cosine_sim[index]))\n",
    "    # print(sim_scores)\n",
    "    \n",
    "    # Sort the movies based on the similarity scores in descending order\n",
    "    sim_scores = sorted(sim_scores, key=lambda x: x[1], reverse=True)\n",
    "    # print(sim_scores)\n",
    "    \n",
    "    # Get the scores of the top 10 most similar movies \n",
    "    sim_scores = sim_scores[1:11]\n",
    "    # print(sim_scores)\n",
    "\n",
    "    # Get the movie indices\n",
    "    movie_indices = [i[0] for i in sim_scores]\n",
    "    # print(movie_indices)\n",
    "    \n",
    "    # Return the top 10 most similar movies\n",
    "    return movies_data['title'].iloc[movie_indices]"
   ]
  },
  {
   "cell_type": "code",
   "execution_count": null,
   "metadata": {
    "colab": {},
    "colab_type": "code",
    "id": "xfK5mr56E4VR",
    "outputId": "5183b9b4-823a-4779-8374-d4adfe8beffc"
   },
   "outputs": [],
   "source": [
    "get_recommendations('The Dark Knight Rises')"
   ]
  },
  {
   "cell_type": "markdown",
   "metadata": {},
   "source": [
    "<span style = \"color:red\">\n",
    "    \n",
    "**Exercise \\#5: Build a recommender system based on 4 types of metadata: 3 top actors, the director, related genres, and the movie plot keywords. [Reference: https://www.datacamp.com/community/tutorials/recommender-systems-python]** \n",
    "\n",
    "</span>"
   ]
  },
  {
   "cell_type": "code",
   "execution_count": null,
   "metadata": {},
   "outputs": [],
   "source": []
  },
  {
   "cell_type": "markdown",
   "metadata": {},
   "source": [
    "<span style = \"color:red\">\n",
    "    \n",
    "**Exercise \\#6: Build a recommender that would take the 30 most similar movies, calculate the weighted ratings (using the IMDB formula from above), sort movies based on this rating, and return the top 10 movies.** \n",
    "\n",
    "</span>"
   ]
  },
  {
   "cell_type": "code",
   "execution_count": null,
   "metadata": {},
   "outputs": [],
   "source": []
  }
 ],
 "metadata": {
  "colab": {
   "name": "Practical 8 (Part II) - Content-based Filtering Recommender System.ipynb",
   "provenance": [],
   "toc_visible": true
  },
  "kernelspec": {
   "display_name": "Python 3 (ipykernel)",
   "language": "python",
   "name": "python3"
  },
  "language_info": {
   "codemirror_mode": {
    "name": "ipython",
    "version": 3
   },
   "file_extension": ".py",
   "mimetype": "text/x-python",
   "name": "python",
   "nbconvert_exporter": "python",
   "pygments_lexer": "ipython3",
   "version": "3.11.5"
  }
 },
 "nbformat": 4,
 "nbformat_minor": 1
}
