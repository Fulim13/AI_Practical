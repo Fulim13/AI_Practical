{
 "cells": [
  {
   "cell_type": "markdown",
   "id": "bc36625b",
   "metadata": {},
   "source": [
    "### Example 1\n",
    "\n",
    "▪ Code provided in Example 1 is obtained from the following link.\n",
    "\n",
    "https://www.pythonlikeyoumeanit.com/Module1_GettingStartedWithPython/Jupyter_Notebooks.html"
   ]
  },
  {
   "cell_type": "code",
   "execution_count": null,
   "id": "e2224f43",
   "metadata": {},
   "outputs": [],
   "source": [
    "import numpy as np\n",
    "import matplotlib.pyplot as plt\n",
    "\n",
    "# This tells Jupyter to embed matplotlib plots in the notebook\n",
    "%matplotlib inline"
   ]
  },
  {
   "cell_type": "code",
   "execution_count": null,
   "id": "3c0a9d23",
   "metadata": {},
   "outputs": [],
   "source": [
    "def sinc(x):\n",
    "    return np.sin(x) / x\n",
    "\n",
    "def d_sinc(x):\n",
    "    \"derivative of sinc-function\"\n",
    "    return np.cos(x)/x - np.sin(x)/x**2"
   ]
  },
  {
   "cell_type": "code",
   "execution_count": null,
   "id": "d5cbe72b",
   "metadata": {},
   "outputs": [],
   "source": [
    "# Evaluate functions at 1000 points evenly spaced in [-15, 15]\n",
    "x = np.linspace(-15, 15, 1000)\n",
    "f = sinc(x)\n",
    "df = d_sinc(x)"
   ]
  },
  {
   "cell_type": "code",
   "execution_count": null,
   "id": "46501770",
   "metadata": {},
   "outputs": [],
   "source": [
    "# Plot the sinc-function and its derivative\n",
    "fig, ax = plt.subplots()\n",
    "ax.plot(x, f, color=\"green\", label=r\"$sinc(x)$\")\n",
    "ax.plot(x, df, color=\"blue\", ls=\"--\", label=r\"$\\frac{d(sinc(x))}{dx}$\")\n",
    "\n",
    "ax.set_title(\"Example Notebook Plot\")\n",
    "ax.set_xlabel(r\"$x$ [radians]\")\n",
    "\n",
    "ax.grid(True)\n",
    "ax.legend();"
   ]
  },
  {
   "cell_type": "markdown",
   "id": "c4604584",
   "metadata": {},
   "source": [
    "### Example 2\n",
    "\n",
    "▪ Code provided in Example 2 is obtained from the following link.\n",
    "\n",
    "https://www.simplilearn.com/tutorials/python-tutorial/data-visualization-in-python"
   ]
  },
  {
   "cell_type": "code",
   "execution_count": null,
   "id": "1b529cb6",
   "metadata": {},
   "outputs": [],
   "source": [
    "import matplotlib.pyplot as plt\n",
    "import seaborn as sns\n",
    "\n",
    "%matplotlib inline\n",
    "\n",
    "yield_apples = [0.895, 0.91, 0.919, 0.926, 0.929, 0.931]\n",
    "plt.plot(yield_apples)"
   ]
  },
  {
   "cell_type": "markdown",
   "id": "714bf09c",
   "metadata": {},
   "source": [
    "### Example 3"
   ]
  },
  {
   "cell_type": "code",
   "execution_count": null,
   "id": "616b7a5f",
   "metadata": {},
   "outputs": [],
   "source": [
    "import matplotlib.pyplot as plt\n",
    "import seaborn as sns\n",
    "import random\n",
    "\n",
    "%matplotlib inline\n",
    "\n",
    "data_points = []\n",
    "\n",
    "for index in range(10):\n",
    "    data_points.append(random.random())\n",
    "plt.plot(data_points)"
   ]
  },
  {
   "cell_type": "code",
   "execution_count": null,
   "id": "765a9883",
   "metadata": {},
   "outputs": [],
   "source": []
  }
 ],
 "metadata": {
  "kernelspec": {
   "display_name": "Python 3 (ipykernel)",
   "language": "python",
   "name": "python3"
  },
  "language_info": {
   "codemirror_mode": {
    "name": "ipython",
    "version": 3
   },
   "file_extension": ".py",
   "mimetype": "text/x-python",
   "name": "python",
   "nbconvert_exporter": "python",
   "pygments_lexer": "ipython3",
   "version": "3.10.9"
  }
 },
 "nbformat": 4,
 "nbformat_minor": 5
}
