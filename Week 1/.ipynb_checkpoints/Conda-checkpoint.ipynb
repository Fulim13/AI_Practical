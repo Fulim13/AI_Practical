{
 "cells": [
  {
   "cell_type": "markdown",
   "id": "8fb64a6e",
   "metadata": {},
   "source": [
    "To understand more on conda:\n",
    "https://www.freecodecamp.org/news/why-you-need-python-environments-and-how-to-manage-them-with-conda-85f155f4353c/"
   ]
  },
  {
   "cell_type": "markdown",
   "id": "50780a4e",
   "metadata": {},
   "source": [
    "1. Open up the Anaconda Prompt\n",
    "2. Run ```conda --version```\n",
    "3. Run ```python --version```\n",
    "4. Run ```conda list```, this will same as anaconda environment base root packages"
   ]
  },
  {
   "cell_type": "markdown",
   "id": "94e4e954",
   "metadata": {},
   "source": []
  }
 ],
 "metadata": {
  "kernelspec": {
   "display_name": "Python 3 (ipykernel)",
   "language": "python",
   "name": "python3"
  },
  "language_info": {
   "codemirror_mode": {
    "name": "ipython",
    "version": 3
   },
   "file_extension": ".py",
   "mimetype": "text/x-python",
   "name": "python",
   "nbconvert_exporter": "python",
   "pygments_lexer": "ipython3",
   "version": "3.11.5"
  }
 },
 "nbformat": 4,
 "nbformat_minor": 5
}
