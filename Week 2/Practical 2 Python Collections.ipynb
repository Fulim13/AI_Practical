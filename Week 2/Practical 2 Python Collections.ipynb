{
 "cells": [
  {
   "cell_type": "markdown",
   "metadata": {},
   "source": [
    "# Practical 2: Python Collections\n",
    "\n",
    "## 1.1 Introduction\n",
    "\n",
    "### 1.1.1 What are Python Collections?\n",
    "\n",
    "▪ Collections in Python are commonly known as data structures, which refer to ways of organizing and storing data so that it can be used efficiently.\n",
    "\n",
    "▪ List, Tuple, Set, and Dictionary are Python's built-in collections.\n",
    "\n",
    "<img src=\"comparison.png\" width=\"650\">"
   ]
  },
  {
   "cell_type": "markdown",
   "metadata": {},
   "source": [
    "## 1.2 List\n",
    "\n",
    "### 1.2.1 Creating Lists\n",
    "\n",
    "▪ In Python, lists are a collection of **mutable** (can modify the members of the list), **ordered** and **iterable** data, which **can contain heterogeneous** (which can be of any type, including other lists) and **duplicate data**.\n",
    "\n",
    "▪ Lists are enclosed in brackets.\n",
    "\n",
    "▪ To create a list in Python, place a sequence of items separated by commas inside the square bracket [ ], and a list is created."
   ]
  },
  {
   "cell_type": "code",
   "execution_count": 1,
   "metadata": {},
   "outputs": [
    {
     "name": "stdout",
     "output_type": "stream",
     "text": [
      "[1, 2, 3, 4, 5, 6, 7]\n"
     ]
    }
   ],
   "source": [
    "# Create a list of numbers\n",
    "numbers_list_1 = [1, 2, 3, 4, 5, 6, 7]\n",
    "print(numbers_list_1)"
   ]
  },
  {
   "cell_type": "code",
   "execution_count": 2,
   "metadata": {},
   "outputs": [
    {
     "name": "stdout",
     "output_type": "stream",
     "text": [
      "[1, 2, 3, 4, 5, 6, 7]\n"
     ]
    }
   ],
   "source": [
    "# Create a list of numbers with list() from another list\n",
    "numbers_list_2 = list([1, 2, 3, 4, 5, 6, 7])\n",
    "print(numbers_list_1)"
   ]
  },
  {
   "cell_type": "code",
   "execution_count": 3,
   "metadata": {},
   "outputs": [
    {
     "name": "stdout",
     "output_type": "stream",
     "text": [
      "[1, 2, 3, 4, 5, 6, 7]\n"
     ]
    }
   ],
   "source": [
    "# Create a list of numbers with list() from a tuple\n",
    "numbers_list_3 = list((1, 2, 3, 4, 5, 6, 7))\n",
    "print(numbers_list_1)"
   ]
  },
  {
   "cell_type": "markdown",
   "metadata": {},
   "source": [
    "<span style = \"color:red\">\n",
    "    \n",
    "**Exercise \\#1: Write python code that identifies and prints the type of numbers_list_1, numbers_list_2, and numbers_list_3.** \n",
    "\n",
    "</span>"
   ]
  },
  {
   "cell_type": "code",
   "execution_count": 4,
   "metadata": {},
   "outputs": [
    {
     "name": "stdout",
     "output_type": "stream",
     "text": [
      "<class 'list'>\n",
      "<class 'list'>\n",
      "<class 'list'>\n"
     ]
    }
   ],
   "source": [
    "print(type(numbers_list_1))\n",
    "print(type(numbers_list_2))\n",
    "print(type(numbers_list_3))"
   ]
  },
  {
   "cell_type": "markdown",
   "metadata": {},
   "source": [
    "### 1.2.2 Creating An Empty List"
   ]
  },
  {
   "cell_type": "code",
   "execution_count": 5,
   "metadata": {},
   "outputs": [
    {
     "name": "stdout",
     "output_type": "stream",
     "text": [
      "[]\n"
     ]
    }
   ],
   "source": [
    "# Create an empty list\n",
    "empty_list_1 = []\n",
    "print(empty_list_1)"
   ]
  },
  {
   "cell_type": "code",
   "execution_count": 6,
   "metadata": {},
   "outputs": [
    {
     "name": "stdout",
     "output_type": "stream",
     "text": [
      "[]\n"
     ]
    }
   ],
   "source": [
    "# Create an empty list with list()\n",
    "empty_list_2 = list()\n",
    "print(empty_list_2)"
   ]
  },
  {
   "cell_type": "markdown",
   "metadata": {},
   "source": [
    "<span style = \"color:red\">\n",
    "    \n",
    "**Exercise \\#2: Write python code that checks whether a list is empty or not.** \n",
    "\n",
    "</span>"
   ]
  },
  {
   "cell_type": "code",
   "execution_count": 7,
   "metadata": {},
   "outputs": [
    {
     "name": "stdout",
     "output_type": "stream",
     "text": [
      "empty\n"
     ]
    }
   ],
   "source": [
    "if empty_list_1:\n",
    "    print(\"not empty\")\n",
    "else:\n",
    "    print(\"empty\")"
   ]
  },
  {
   "cell_type": "code",
   "execution_count": null,
   "metadata": {},
   "outputs": [],
   "source": []
  },
  {
   "cell_type": "markdown",
   "metadata": {},
   "source": [
    "### 1.2.3 List is an Ordered Collection\n",
    "\n",
    "▪ An ordered collection has the same order which is specified initially.\n",
    "\n",
    "https://appdividend.com/2020/10/29/python-create-list-the-complete-guide/"
   ]
  },
  {
   "cell_type": "code",
   "execution_count": 8,
   "metadata": {},
   "outputs": [
    {
     "name": "stdout",
     "output_type": "stream",
     "text": [
      "[7, 5, 2, 4, 3, 6, 1]\n"
     ]
    }
   ],
   "source": [
    "# Create a list of numbers\n",
    "numbers_list_4 = [7, 5, 2, 4, 3, 6, 1]\n",
    "print(numbers_list_4)"
   ]
  },
  {
   "cell_type": "code",
   "execution_count": 9,
   "metadata": {},
   "outputs": [
    {
     "name": "stdout",
     "output_type": "stream",
     "text": [
      "[1, 2, 3, 4, 5, 6, 7]\n"
     ]
    }
   ],
   "source": [
    "numbers_list_5 = [1, 2, 3, 4, 5, 6, 7]\n",
    "print(numbers_list_5)"
   ]
  },
  {
   "cell_type": "markdown",
   "metadata": {},
   "source": [
    "<span style = \"color:red\">\n",
    "    \n",
    "**Exercise \\#3: Write python code that checks whether two lists contain the same elements in the same sequence.** \n",
    "\n",
    "</span>"
   ]
  },
  {
   "cell_type": "code",
   "execution_count": 10,
   "metadata": {},
   "outputs": [
    {
     "name": "stdout",
     "output_type": "stream",
     "text": [
      "Not Same\n"
     ]
    }
   ],
   "source": [
    "if numbers_list_4 == numbers_list_5:\n",
    "    print(\"Same\")\n",
    "else:\n",
    "    print(\"Not Same\")"
   ]
  },
  {
   "cell_type": "markdown",
   "metadata": {},
   "source": [
    "### 1.2.4 Lists Can Contain Duplicate Data"
   ]
  },
  {
   "cell_type": "code",
   "execution_count": 11,
   "metadata": {},
   "outputs": [
    {
     "name": "stdout",
     "output_type": "stream",
     "text": [
      "[1, 2, 3, 3, 5, 6, 7]\n"
     ]
    }
   ],
   "source": [
    "# Create a list of duplicated numbers with list() from a tuple\n",
    "numbers_list_6 = list((1, 2, 3, 3, 5, 6, 7))\n",
    "print(numbers_list_6)"
   ]
  },
  {
   "cell_type": "markdown",
   "metadata": {},
   "source": [
    "### 1.2.5 Creating a List with Mixed Data Types"
   ]
  },
  {
   "cell_type": "code",
   "execution_count": 12,
   "metadata": {},
   "outputs": [
    {
     "name": "stdout",
     "output_type": "stream",
     "text": [
      "[11, 'Eleven', 11.0, True]\n",
      "['Kevin', 18, 3.85, ['BACS2003', 'BACS2023']]\n"
     ]
    }
   ],
   "source": [
    "# Create a list with mixed data types like boolean, string, integer, etc.\n",
    "mixed_list = [11, 'Eleven', 11.0, True]\n",
    "print(mixed_list)\n",
    "\n",
    "# Create a multi-dimensional list\n",
    "student_list = ['Kevin', 18, 3.85, ['BACS2003', 'BACS2023']]\n",
    "print(student_list)"
   ]
  },
  {
   "cell_type": "code",
   "execution_count": 13,
   "metadata": {},
   "outputs": [
    {
     "name": "stdout",
     "output_type": "stream",
     "text": [
      "[11, 'Eleven', 11.0, True, 'Kevin', 18, 3.85, ['BACS2003', 'BACS2023']]\n"
     ]
    }
   ],
   "source": [
    "# Combine 2 lists\n",
    "print(mixed_list + student_list) "
   ]
  },
  {
   "cell_type": "markdown",
   "metadata": {},
   "source": [
    "### 1.2.6 Accessing An Element with Positive Indexing\n",
    "\n",
    "▪ An item in a list can be accessed using the **index operator**.\n",
    "\n",
    "<img src=\"indexing-pos.png\" width=\"650\">\n",
    "\n",
    "https://www.programiz.com/python-programming/list"
   ]
  },
  {
   "cell_type": "code",
   "execution_count": 14,
   "metadata": {},
   "outputs": [
    {
     "name": "stdout",
     "output_type": "stream",
     "text": [
      "The 1st item: 1\n",
      "The 2nd item: Eleven\n",
      "The 3rd item: -99.99\n",
      "The 4th item: True\n"
     ]
    }
   ],
   "source": [
    "mixed_list = [1, 'Eleven', -99.99, True]\n",
    "\n",
    "print('The 1st item:', mixed_list[0])\n",
    "print('The 2nd item:', mixed_list[1])\n",
    "print('The 3rd item:', mixed_list[2])\n",
    "print('The 4th item:', mixed_list[3])"
   ]
  },
  {
   "cell_type": "code",
   "execution_count": 15,
   "metadata": {},
   "outputs": [
    {
     "ename": "IndexError",
     "evalue": "list index out of range",
     "output_type": "error",
     "traceback": [
      "\u001b[1;31m---------------------------------------------------------------------------\u001b[0m",
      "\u001b[1;31mIndexError\u001b[0m                                Traceback (most recent call last)",
      "Cell \u001b[1;32mIn[15], line 1\u001b[0m\n\u001b[1;32m----> 1\u001b[0m \u001b[38;5;28mprint\u001b[39m(\u001b[38;5;124m'\u001b[39m\u001b[38;5;124mThe 1st item:\u001b[39m\u001b[38;5;124m'\u001b[39m, mixed_list[\u001b[38;5;241m4\u001b[39m])\n",
      "\u001b[1;31mIndexError\u001b[0m: list index out of range"
     ]
    }
   ],
   "source": [
    "print('The 1st item:', mixed_list[4])"
   ]
  },
  {
   "cell_type": "markdown",
   "metadata": {},
   "source": [
    "### 1.2.7 Accessing An Element with Negative Indexing\n",
    "\n",
    "▪ Python allows negative indexing for its sequences. \n",
    "\n",
    "<img src=\"indexing-neg.png\" width=\"650\">"
   ]
  },
  {
   "cell_type": "code",
   "execution_count": 16,
   "metadata": {},
   "outputs": [
    {
     "name": "stdout",
     "output_type": "stream",
     "text": [
      "The last item: 1\n",
      "The 3rd last item: Eleven\n",
      "The 2nd last item: -99.99\n",
      "The last item: True\n"
     ]
    }
   ],
   "source": [
    "print('The last item:', mixed_list[-4])\n",
    "print('The 3rd last item:', mixed_list[-3])\n",
    "print('The 2nd last item:', mixed_list[-2])\n",
    "print('The last item:', mixed_list[-1])"
   ]
  },
  {
   "cell_type": "markdown",
   "metadata": {},
   "source": [
    "### 1.2.8 Loop Through a List"
   ]
  },
  {
   "cell_type": "code",
   "execution_count": 17,
   "metadata": {},
   "outputs": [
    {
     "name": "stdout",
     "output_type": "stream",
     "text": [
      "1\n",
      "Eleven\n",
      "-99.99\n",
      "True\n"
     ]
    }
   ],
   "source": [
    "mixed_list = [1, 'Eleven', -99.99, True]\n",
    "\n",
    "for item in mixed_list:\n",
    "    print(item)"
   ]
  },
  {
   "cell_type": "code",
   "execution_count": 18,
   "metadata": {},
   "outputs": [
    {
     "name": "stdout",
     "output_type": "stream",
     "text": [
      "0 : 1\n",
      "1 : Eleven\n",
      "2 : -99.99\n",
      "3 : True\n"
     ]
    }
   ],
   "source": [
    "for index in range(len(mixed_list)):\n",
    "    print(index, \":\", mixed_list[index])"
   ]
  },
  {
   "cell_type": "code",
   "execution_count": 19,
   "metadata": {},
   "outputs": [
    {
     "name": "stdout",
     "output_type": "stream",
     "text": [
      "I like apple\n",
      "I like banana\n",
      "I like mango\n"
     ]
    }
   ],
   "source": [
    "fruit_list = ['apple','banana','mango']\n",
    "\n",
    "for fruit in fruit_list:\n",
    "    print(\"I like\", fruit)"
   ]
  },
  {
   "cell_type": "code",
   "execution_count": 20,
   "metadata": {},
   "outputs": [
    {
     "name": "stdout",
     "output_type": "stream",
     "text": [
      "I like apple\n",
      "I like banana\n",
      "I like mango\n"
     ]
    }
   ],
   "source": [
    "for index in range(len(fruit_list)):\n",
    "    print(\"I like\", fruit_list[index])"
   ]
  },
  {
   "cell_type": "markdown",
   "metadata": {},
   "source": [
    "<span style = \"color:red\">\n",
    "    \n",
    "**Exercise \\#4: Write python code that creates a list of heterogeneous items and square all integers in it with the use of for loop.** \n",
    "\n",
    "</span>"
   ]
  },
  {
   "cell_type": "code",
   "execution_count": 21,
   "metadata": {},
   "outputs": [
    {
     "name": "stdout",
     "output_type": "stream",
     "text": [
      "[1, 'Eleven', -99.99, True, 'Kevin', 18, 3.85, ['BACS2003', 'BACS2023']]\n",
      "[1, 324]\n"
     ]
    }
   ],
   "source": [
    "old_list = mixed_list + student_list\n",
    "print(old_list)\n",
    "new_list = []\n",
    "for item in old_list:\n",
    "    if type(item) == int:\n",
    "        new_list.append(item ** 2)\n",
    "print(new_list)\n"
   ]
  },
  {
   "cell_type": "markdown",
   "metadata": {},
   "source": [
    "### 1.2.9 List Slicing\n",
    "\n",
    "▪ In Python, **list slicing** is an operation that extracts a subset of elements from a list and packages them as another list.\n",
    "\n",
    "<img src=\"slicing.png\" width=\"650\">"
   ]
  },
  {
   "cell_type": "code",
   "execution_count": 22,
   "metadata": {},
   "outputs": [
    {
     "name": "stdout",
     "output_type": "stream",
     "text": [
      "[3, 4, 5]\n"
     ]
    }
   ],
   "source": [
    "numbers_list_1 = list((1, 2, 3, 4, 5, 6, 7))\n",
    "\n",
    "# Slice elements from index 2 to index 4\n",
    "print(numbers_list_1[2:5])"
   ]
  },
  {
   "cell_type": "code",
   "execution_count": 23,
   "metadata": {},
   "outputs": [
    {
     "name": "stdout",
     "output_type": "stream",
     "text": [
      "[3, 4, 5]\n"
     ]
    }
   ],
   "source": [
    "# Create a new list from the sliced elements\n",
    "new_list = numbers_list_1[2:5]\n",
    "print(new_list)"
   ]
  },
  {
   "cell_type": "code",
   "execution_count": 24,
   "metadata": {},
   "outputs": [
    {
     "name": "stdout",
     "output_type": "stream",
     "text": [
      "[1, 2, 3, 4, 5]\n"
     ]
    }
   ],
   "source": [
    "# Slice elements from beginning to index 4\n",
    "print(numbers_list_1[:5])"
   ]
  },
  {
   "cell_type": "code",
   "execution_count": 25,
   "metadata": {},
   "outputs": [
    {
     "name": "stdout",
     "output_type": "stream",
     "text": [
      "[6, 7]\n"
     ]
    }
   ],
   "source": [
    "# Slice elements from index 5 to end\n",
    "print(numbers_list_1[5:])"
   ]
  },
  {
   "cell_type": "code",
   "execution_count": 26,
   "metadata": {},
   "outputs": [
    {
     "name": "stdout",
     "output_type": "stream",
     "text": [
      "[1, 2, 3, 4, 5, 6, 7]\n"
     ]
    }
   ],
   "source": [
    "# Slice elements beginning to end\n",
    "print(numbers_list_1[:])"
   ]
  },
  {
   "cell_type": "markdown",
   "metadata": {},
   "source": [
    "### 1.2.10 Modifying a List\n",
    "\n",
    "▪ Lists are mutable means that their elements can be changed."
   ]
  },
  {
   "cell_type": "code",
   "execution_count": 27,
   "metadata": {},
   "outputs": [
    {
     "name": "stdout",
     "output_type": "stream",
     "text": [
      "[7, 5, 2, 4, 3, 6, 1]\n"
     ]
    }
   ],
   "source": [
    "numbers_list_1 = [7, 5, 2, 4, 3, 6, 1]\n",
    "print(numbers_list_1) "
   ]
  },
  {
   "cell_type": "code",
   "execution_count": 28,
   "metadata": {},
   "outputs": [
    {
     "name": "stdout",
     "output_type": "stream",
     "text": [
      "[7, 5, 99, 4, 3, 6, 1]\n"
     ]
    }
   ],
   "source": [
    "# Modify item with index 2\n",
    "numbers_list_1[2] = 99 \n",
    "print(numbers_list_1) "
   ]
  },
  {
   "cell_type": "markdown",
   "metadata": {},
   "source": [
    "### 1.2.11 Modifying a List Using Pre-Defined  Functions\n",
    "\n",
    "Methods  | Descriptions\n",
    "---------| -------------------------\n",
    "append() | Adds an element to the end of the list\n",
    "extend() | Adds all elements of a list to another list\n",
    "insert() | Inserts an item at the defined index\n",
    "remove() | Removes an item from the list\n",
    "pop()    | Returns and removes an element at the given index\n",
    "clear()  | Removes all items from the list\n",
    "index()  | Returns the index of the first matched item\n",
    "count()  | Returns the count of the number of items passed as an argument\n",
    "sort()   | Sort items in a list in ascending order\n",
    "reverse()| Reverse the order of items in the list\n",
    "copy()   | Returns a shallow copy of the list"
   ]
  },
  {
   "cell_type": "code",
   "execution_count": 29,
   "metadata": {},
   "outputs": [
    {
     "name": "stdout",
     "output_type": "stream",
     "text": [
      "[7, 5, 99, 4, 3, 6, 1, 100]\n"
     ]
    }
   ],
   "source": [
    "# Append a new value to last\n",
    "numbers_list_1.append(100) \n",
    "print(numbers_list_1)"
   ]
  },
  {
   "cell_type": "code",
   "execution_count": 30,
   "metadata": {},
   "outputs": [
    {
     "name": "stdout",
     "output_type": "stream",
     "text": [
      "[7, 'C', 5, 99, 4, 3, 6, 1, 100]\n"
     ]
    }
   ],
   "source": [
    "# Insert a new value to index 1\n",
    "numbers_list_1.insert(1, 'C') \n",
    "print(numbers_list_1)"
   ]
  },
  {
   "cell_type": "code",
   "execution_count": 31,
   "metadata": {},
   "outputs": [
    {
     "name": "stdout",
     "output_type": "stream",
     "text": [
      "[7, 5, 99, 4, 3, 6, 1, 100]\n"
     ]
    }
   ],
   "source": [
    "# Remove the item with value 1\n",
    "numbers_list_1.remove('C') \n",
    "print(numbers_list_1)"
   ]
  },
  {
   "cell_type": "markdown",
   "metadata": {},
   "source": [
    "<span style = \"color:red\">\n",
    "    \n",
    "**Exercise \\#5: With the use of numbers_list_1 generated in the previous code cell and suitable methods given table above, write python code that: 1) sorts the list, 2) duplicate the sorted list, 3) reverse the duplicated list, 4) append all elements of the reversed list to the end of the sorted list, and 5) print all items in the new list.**\n",
    "\n",
    "</span>"
   ]
  },
  {
   "cell_type": "code",
   "execution_count": 34,
   "metadata": {},
   "outputs": [
    {
     "name": "stdout",
     "output_type": "stream",
     "text": [
      "[1, 2, 3, 4, 5, 6, 7, 100, 100, 7, 6, 5, 4, 3, 2, 1]\n"
     ]
    }
   ],
   "source": [
    "# Step 1: Sort the list\n",
    "numbers_list_1 = [7, 5, 2, 4, 3, 6, 1, 100]\n",
    "sorted_list = sorted(numbers_list_1)\n",
    "\n",
    "# Step 2: Duplicate the sorted list\n",
    "duplicated_list = sorted_list.copy()\n",
    "\n",
    "# Step 3: Reverse the duplicated list\n",
    "reversed_list = list(reversed(duplicated_list))\n",
    "\n",
    "# Step 4: Append all elements of the reversed list to the end of the sorted list\n",
    "# sorted_list.append(reversed_list) [1, 2, 3, 4, 5, 6, 7, 100, [100, 7, 6, 5, 4, 3, 2, 1]]\n",
    "sorted_list.extend(reversed_list)\n",
    "\n",
    "# Step 5: Print all items in the new list\n",
    "print(sorted_list)"
   ]
  },
  {
   "cell_type": "markdown",
   "metadata": {},
   "source": [
    "### 1.2.12 Modifying a List with pop()\n",
    "\n",
    "▪ The pop() method removes and returns the last item if the index is not provided.\n",
    "\n",
    "▪ This helps us implement lists as stacks (first in, last out data structure)."
   ]
  },
  {
   "cell_type": "code",
   "execution_count": 35,
   "metadata": {},
   "outputs": [
    {
     "name": "stdout",
     "output_type": "stream",
     "text": [
      "100\n",
      "[7, 5, 2, 4, 3, 6, 1]\n"
     ]
    }
   ],
   "source": [
    "# Remove the last item\n",
    "print(numbers_list_1.pop()) \n",
    "print(numbers_list_1)"
   ]
  },
  {
   "cell_type": "code",
   "execution_count": 36,
   "metadata": {},
   "outputs": [
    {
     "name": "stdout",
     "output_type": "stream",
     "text": [
      "2\n",
      "[7, 5, 4, 3, 6, 1]\n"
     ]
    }
   ],
   "source": [
    "# Remove an item with the index of 2\n",
    "print(numbers_list_1.pop(2))\n",
    "print(numbers_list_1)"
   ]
  },
  {
   "cell_type": "markdown",
   "metadata": {},
   "source": [
    "### 1.2.13 Emptying a List with clear()\n",
    "\n",
    "▪ The clear() method empty the whole list."
   ]
  },
  {
   "cell_type": "code",
   "execution_count": 37,
   "metadata": {},
   "outputs": [
    {
     "name": "stdout",
     "output_type": "stream",
     "text": [
      "[]\n"
     ]
    }
   ],
   "source": [
    "numbers_list_1.clear()\n",
    "\n",
    "print(numbers_list_1)"
   ]
  },
  {
   "cell_type": "markdown",
   "metadata": {},
   "source": [
    "### 1.2.14 Modifying or Deleting a List Using del\n",
    "\n",
    "▪ Python del is a keyword used to delete any element, objects in a Python program. "
   ]
  },
  {
   "cell_type": "code",
   "execution_count": 38,
   "metadata": {},
   "outputs": [
    {
     "name": "stdout",
     "output_type": "stream",
     "text": [
      "[1, 3, 4, 5, 6, 7]\n"
     ]
    }
   ],
   "source": [
    "numbers_list_1 = [1, 2, 3, 4, 5, 6, 7]\n",
    "\n",
    "# Delete the item with index 1\n",
    "del numbers_list_1[1] \n",
    "print(numbers_list_1)"
   ]
  },
  {
   "cell_type": "code",
   "execution_count": 39,
   "metadata": {},
   "outputs": [
    {
     "name": "stdout",
     "output_type": "stream",
     "text": [
      "[1, 3, 5, 6, 7]\n"
     ]
    }
   ],
   "source": [
    "# Delete multiple items\n",
    "del numbers_list_1[2:3] \n",
    "print(numbers_list_1)"
   ]
  },
  {
   "cell_type": "code",
   "execution_count": 40,
   "metadata": {},
   "outputs": [],
   "source": [
    "# Delete the entire list\n",
    "del numbers_list_1"
   ]
  },
  {
   "cell_type": "code",
   "execution_count": 41,
   "metadata": {},
   "outputs": [
    {
     "ename": "NameError",
     "evalue": "name 'numbers_list_1' is not defined",
     "output_type": "error",
     "traceback": [
      "\u001b[1;31m---------------------------------------------------------------------------\u001b[0m",
      "\u001b[1;31mNameError\u001b[0m                                 Traceback (most recent call last)",
      "Cell \u001b[1;32mIn[41], line 1\u001b[0m\n\u001b[1;32m----> 1\u001b[0m \u001b[38;5;28mprint\u001b[39m(numbers_list_1)\n",
      "\u001b[1;31mNameError\u001b[0m: name 'numbers_list_1' is not defined"
     ]
    }
   ],
   "source": [
    "print(numbers_list_1)"
   ]
  },
  {
   "cell_type": "markdown",
   "metadata": {},
   "source": [
    "### 1.2.15 List Membership Test\n",
    "\n",
    "▪ We can test if an item exists in a list or not, using the keyword in."
   ]
  },
  {
   "cell_type": "code",
   "execution_count": 42,
   "metadata": {},
   "outputs": [
    {
     "name": "stdout",
     "output_type": "stream",
     "text": [
      "True\n"
     ]
    }
   ],
   "source": [
    "my_list = ['p', 'r', 'o', 'b', 'l', 'e', 'm']\n",
    "\n",
    "print('p' in my_list)"
   ]
  },
  {
   "cell_type": "code",
   "execution_count": 43,
   "metadata": {},
   "outputs": [
    {
     "name": "stdout",
     "output_type": "stream",
     "text": [
      "False\n"
     ]
    }
   ],
   "source": [
    "print('a' in my_list)"
   ]
  },
  {
   "cell_type": "code",
   "execution_count": 44,
   "metadata": {},
   "outputs": [
    {
     "name": "stdout",
     "output_type": "stream",
     "text": [
      "False\n"
     ]
    }
   ],
   "source": [
    "print('P' in my_list)"
   ]
  },
  {
   "cell_type": "code",
   "execution_count": 45,
   "metadata": {},
   "outputs": [
    {
     "name": "stdout",
     "output_type": "stream",
     "text": [
      "True\n"
     ]
    }
   ],
   "source": [
    "print('c' not in my_list)"
   ]
  },
  {
   "cell_type": "markdown",
   "metadata": {},
   "source": [
    "### 1.2.16 List Comprehension\n",
    "\n",
    "▪ List comprehension is an easy and compact syntax for creating a list from a string or another list.\n",
    "\n",
    "<img src=\"list-comprehension.png\" width=\"650\">"
   ]
  },
  {
   "cell_type": "code",
   "execution_count": 46,
   "metadata": {},
   "outputs": [
    {
     "name": "stdout",
     "output_type": "stream",
     "text": [
      "['apple', 'banana', 'mango']\n"
     ]
    }
   ],
   "source": [
    "fruits_list = [\"apple\", \"banana\", \"cherry\", \"kiwi\", \"mango\"]\n",
    "\n",
    "new_list = [x for x in fruits_list if \"a\" in x] # If a fruit has the letter \"a\" in the name...\n",
    "\n",
    "print(new_list)"
   ]
  },
  {
   "cell_type": "code",
   "execution_count": 47,
   "metadata": {},
   "outputs": [
    {
     "name": "stdout",
     "output_type": "stream",
     "text": [
      "            look\n",
      "          looklook\n",
      "        looklooklook\n",
      "      looklooklooklook\n",
      "    looklooklooklooklook\n",
      "  looklooklooklooklooklook\n",
      "looklooklooklooklooklooklook\n",
      "  looklooklooklooklooklook\n",
      "    looklooklooklooklook\n",
      "      looklooklooklook\n",
      "        looklooklook\n",
      "          looklook\n",
      "            look\n"
     ]
    }
   ],
   "source": [
    "a = [1, 2, 3, 4, 5, 6, 7, 6, 5, 4, 3, 2, 1]\n",
    "b = [' ' * 2 * (7 - item) + 'look' * item for item in a]\n",
    "\n",
    "for line in b:\n",
    "    print(line)"
   ]
  },
  {
   "cell_type": "markdown",
   "metadata": {},
   "source": [
    "<span style = \"color:red\">\n",
    "    \n",
    "**Exercise \\#6: Redo Exercise \\#4 with the use of list comprehension.**\n",
    "\n",
    "</span>"
   ]
  },
  {
   "cell_type": "code",
   "execution_count": 53,
   "metadata": {},
   "outputs": [
    {
     "name": "stdout",
     "output_type": "stream",
     "text": [
      "[1, 'Eleven', -99.99, True, 'Kevin', 18, 3.85, ['BACS2003', 'BACS2023']]\n",
      "[1, 324]\n"
     ]
    }
   ],
   "source": [
    "old_list = mixed_list + student_list\n",
    "print(old_list)\n",
    "\n",
    "new_list = [item ** 2 if type(item) == int else item for item in old_list] \n",
    "# [1, 'Eleven', -99.99, True, 'Kevin', 324, 3.85, ['BACS2003', 'BACS2023']]\n",
    "\n",
    "new_list = [item ** 2 for item in old_list if type(item) == int]\n",
    "print(new_list)"
   ]
  },
  {
   "cell_type": "markdown",
   "metadata": {},
   "source": [
    "<span style = \"color:red\">\n",
    "    \n",
    "**Exercise \\#7: Write python code that: 1) creates a list of integers from 1 to 1000 inclusive, 2) shuffles it, 3) randomly selects 10 integers from the list, and 4) indicates whether they are \"odd\" or \"even\" in sequence. For instance, the sequence of [\"odd\", \"odd\", \"even\"] will be generated for [1, 7, 4] as the output.**\n",
    "\n",
    "</span>"
   ]
  },
  {
   "cell_type": "code",
   "execution_count": 57,
   "metadata": {},
   "outputs": [
    {
     "name": "stdout",
     "output_type": "stream",
     "text": [
      "[0, 1, 2, 3, 4, 5, 6, 7, 8, 9, 10, 11, 12, 13, 14, 15, 16, 17, 18, 19, 20, 21, 22, 23, 24, 25, 26, 27, 28, 29, 30, 31, 32, 33, 34, 35, 36, 37, 38, 39, 40, 41, 42, 43, 44, 45, 46, 47, 48, 49, 50, 51, 52, 53, 54, 55, 56, 57, 58, 59, 60, 61, 62, 63, 64, 65, 66, 67, 68, 69, 70, 71, 72, 73, 74, 75, 76, 77, 78, 79, 80, 81, 82, 83, 84, 85, 86, 87, 88, 89, 90, 91, 92, 93, 94, 95, 96, 97, 98, 99, 100, 101, 102, 103, 104, 105, 106, 107, 108, 109, 110, 111, 112, 113, 114, 115, 116, 117, 118, 119, 120, 121, 122, 123, 124, 125, 126, 127, 128, 129, 130, 131, 132, 133, 134, 135, 136, 137, 138, 139, 140, 141, 142, 143, 144, 145, 146, 147, 148, 149, 150, 151, 152, 153, 154, 155, 156, 157, 158, 159, 160, 161, 162, 163, 164, 165, 166, 167, 168, 169, 170, 171, 172, 173, 174, 175, 176, 177, 178, 179, 180, 181, 182, 183, 184, 185, 186, 187, 188, 189, 190, 191, 192, 193, 194, 195, 196, 197, 198, 199, 200, 201, 202, 203, 204, 205, 206, 207, 208, 209, 210, 211, 212, 213, 214, 215, 216, 217, 218, 219, 220, 221, 222, 223, 224, 225, 226, 227, 228, 229, 230, 231, 232, 233, 234, 235, 236, 237, 238, 239, 240, 241, 242, 243, 244, 245, 246, 247, 248, 249, 250, 251, 252, 253, 254, 255, 256, 257, 258, 259, 260, 261, 262, 263, 264, 265, 266, 267, 268, 269, 270, 271, 272, 273, 274, 275, 276, 277, 278, 279, 280, 281, 282, 283, 284, 285, 286, 287, 288, 289, 290, 291, 292, 293, 294, 295, 296, 297, 298, 299, 300, 301, 302, 303, 304, 305, 306, 307, 308, 309, 310, 311, 312, 313, 314, 315, 316, 317, 318, 319, 320, 321, 322, 323, 324, 325, 326, 327, 328, 329, 330, 331, 332, 333, 334, 335, 336, 337, 338, 339, 340, 341, 342, 343, 344, 345, 346, 347, 348, 349, 350, 351, 352, 353, 354, 355, 356, 357, 358, 359, 360, 361, 362, 363, 364, 365, 366, 367, 368, 369, 370, 371, 372, 373, 374, 375, 376, 377, 378, 379, 380, 381, 382, 383, 384, 385, 386, 387, 388, 389, 390, 391, 392, 393, 394, 395, 396, 397, 398, 399, 400, 401, 402, 403, 404, 405, 406, 407, 408, 409, 410, 411, 412, 413, 414, 415, 416, 417, 418, 419, 420, 421, 422, 423, 424, 425, 426, 427, 428, 429, 430, 431, 432, 433, 434, 435, 436, 437, 438, 439, 440, 441, 442, 443, 444, 445, 446, 447, 448, 449, 450, 451, 452, 453, 454, 455, 456, 457, 458, 459, 460, 461, 462, 463, 464, 465, 466, 467, 468, 469, 470, 471, 472, 473, 474, 475, 476, 477, 478, 479, 480, 481, 482, 483, 484, 485, 486, 487, 488, 489, 490, 491, 492, 493, 494, 495, 496, 497, 498, 499, 500, 501, 502, 503, 504, 505, 506, 507, 508, 509, 510, 511, 512, 513, 514, 515, 516, 517, 518, 519, 520, 521, 522, 523, 524, 525, 526, 527, 528, 529, 530, 531, 532, 533, 534, 535, 536, 537, 538, 539, 540, 541, 542, 543, 544, 545, 546, 547, 548, 549, 550, 551, 552, 553, 554, 555, 556, 557, 558, 559, 560, 561, 562, 563, 564, 565, 566, 567, 568, 569, 570, 571, 572, 573, 574, 575, 576, 577, 578, 579, 580, 581, 582, 583, 584, 585, 586, 587, 588, 589, 590, 591, 592, 593, 594, 595, 596, 597, 598, 599, 600, 601, 602, 603, 604, 605, 606, 607, 608, 609, 610, 611, 612, 613, 614, 615, 616, 617, 618, 619, 620, 621, 622, 623, 624, 625, 626, 627, 628, 629, 630, 631, 632, 633, 634, 635, 636, 637, 638, 639, 640, 641, 642, 643, 644, 645, 646, 647, 648, 649, 650, 651, 652, 653, 654, 655, 656, 657, 658, 659, 660, 661, 662, 663, 664, 665, 666, 667, 668, 669, 670, 671, 672, 673, 674, 675, 676, 677, 678, 679, 680, 681, 682, 683, 684, 685, 686, 687, 688, 689, 690, 691, 692, 693, 694, 695, 696, 697, 698, 699, 700, 701, 702, 703, 704, 705, 706, 707, 708, 709, 710, 711, 712, 713, 714, 715, 716, 717, 718, 719, 720, 721, 722, 723, 724, 725, 726, 727, 728, 729, 730, 731, 732, 733, 734, 735, 736, 737, 738, 739, 740, 741, 742, 743, 744, 745, 746, 747, 748, 749, 750, 751, 752, 753, 754, 755, 756, 757, 758, 759, 760, 761, 762, 763, 764, 765, 766, 767, 768, 769, 770, 771, 772, 773, 774, 775, 776, 777, 778, 779, 780, 781, 782, 783, 784, 785, 786, 787, 788, 789, 790, 791, 792, 793, 794, 795, 796, 797, 798, 799, 800, 801, 802, 803, 804, 805, 806, 807, 808, 809, 810, 811, 812, 813, 814, 815, 816, 817, 818, 819, 820, 821, 822, 823, 824, 825, 826, 827, 828, 829, 830, 831, 832, 833, 834, 835, 836, 837, 838, 839, 840, 841, 842, 843, 844, 845, 846, 847, 848, 849, 850, 851, 852, 853, 854, 855, 856, 857, 858, 859, 860, 861, 862, 863, 864, 865, 866, 867, 868, 869, 870, 871, 872, 873, 874, 875, 876, 877, 878, 879, 880, 881, 882, 883, 884, 885, 886, 887, 888, 889, 890, 891, 892, 893, 894, 895, 896, 897, 898, 899, 900, 901, 902, 903, 904, 905, 906, 907, 908, 909, 910, 911, 912, 913, 914, 915, 916, 917, 918, 919, 920, 921, 922, 923, 924, 925, 926, 927, 928, 929, 930, 931, 932, 933, 934, 935, 936, 937, 938, 939, 940, 941, 942, 943, 944, 945, 946, 947, 948, 949, 950, 951, 952, 953, 954, 955, 956, 957, 958, 959, 960, 961, 962, 963, 964, 965, 966, 967, 968, 969, 970, 971, 972, 973, 974, 975, 976, 977, 978, 979, 980, 981, 982, 983, 984, 985, 986, 987, 988, 989, 990, 991, 992, 993, 994, 995, 996, 997, 998, 999, 1000]\n",
      "[554, 351, 988, 234, 176, 401, 945, 866, 867, 946, 208, 819, 501, 164, 658, 366, 728, 153, 578, 601, 824, 293, 216, 517, 796, 134, 227, 333, 78, 181, 354, 776, 90, 873, 69, 310, 579, 306, 919, 677, 139, 685, 155, 87, 978, 611, 518, 200, 10, 686, 72, 884, 712, 420, 81, 385, 522, 827, 414, 992, 906, 255, 317, 278, 57, 334, 223, 485, 864, 624, 299, 425, 265, 513, 647, 856, 631, 639, 409, 597, 542, 132, 276, 338, 100, 214, 31, 191, 40, 215, 709, 490, 450, 849, 853, 428, 862, 1000, 82, 708, 418, 496, 101, 731, 911, 951, 448, 608, 759, 93, 592, 379, 142, 997, 966, 915, 89, 436, 44, 939, 743, 724, 481, 345, 77, 526, 995, 76, 775, 377, 773, 41, 288, 507, 294, 634, 503, 952, 742, 599, 14, 36, 219, 774, 926, 158, 221, 108, 868, 91, 380, 733, 122, 453, 938, 790, 148, 683, 315, 79, 962, 274, 135, 417, 859, 62, 433, 332, 475, 34, 140, 981, 830, 696, 358, 238, 765, 922, 355, 143, 753, 901, 970, 615, 123, 203, 913, 838, 968, 727, 149, 19, 231, 798, 393, 167, 439, 527, 179, 784, 235, 230, 750, 416, 245, 321, 934, 17, 545, 92, 12, 300, 118, 480, 51, 292, 636, 190, 632, 138, 33, 956, 218, 236, 320, 574, 789, 523, 239, 187, 568, 435, 286, 29, 769, 199, 762, 454, 275, 566, 204, 588, 396, 795, 5, 329, 721, 369, 511, 242, 927, 489, 980, 249, 845, 735, 619, 990, 875, 365, 894, 544, 649, 958, 666, 650, 907, 487, 156, 656, 834, 166, 173, 548, 168, 124, 99, 805, 491, 979, 870, 145, 151, 50, 391, 957, 162, 324, 316, 70, 771, 918, 411, 879, 11, 626, 593, 704, 309, 822, 713, 404, 660, 344, 714, 520, 756, 880, 279, 269, 912, 402, 803, 820, 818, 828, 754, 444, 841, 797, 254, 305, 627, 352, 654, 96, 232, 188, 595, 495, 298, 960, 88, 823, 26, 49, 381, 462, 571, 659, 671, 195, 732, 764, 226, 993, 28, 816, 267, 71, 22, 271, 243, 0, 833, 869, 916, 196, 871, 655, 2, 937, 920, 565, 936, 889, 876, 641, 505, 512, 621, 672, 6, 556, 107, 831, 116, 247, 965, 794, 289, 121, 737, 861, 719, 225, 15, 723, 977, 984, 386, 810, 891, 431, 560, 550, 68, 16, 389, 604, 18, 27, 268, 786, 322, 898, 648, 785, 589, 427, 674, 186, 942, 605, 4, 703, 497, 157, 463, 24, 623, 983, 530, 583, 471, 328, 281, 308, 670, 174, 206, 32, 205, 643, 128, 184, 9, 61, 3, 280, 484, 486, 442, 928, 311, 770, 228, 896, 614, 307, 536, 745, 109, 38, 767, 787, 642, 801, 207, 446, 438, 817, 515, 932, 839, 673, 736, 793, 443, 175, 923, 955, 514, 895, 467, 291, 908, 716, 488, 335, 690, 534, 423, 266, 914, 640, 904, 729, 570, 519, 189, 630, 591, 541, 892, 209, 331, 761, 337, 193, 722, 477, 314, 950, 606, 102, 325, 763, 596, 547, 360, 905, 1, 58, 171, 476, 59, 65, 211, 702, 832, 982, 502, 270, 516, 903, 613, 607, 948, 253, 440, 472, 963, 986, 150, 244, 665, 170, 296, 748, 779, 398, 340, 39, 399, 60, 46, 943, 182, 695, 97, 792, 343, 843, 935, 744, 326, 441, 237, 711, 521, 975, 974, 146, 809, 397, 304, 374, 115, 808, 549, 126, 246, 295, 74, 23, 751, 469, 616, 445, 688, 213, 222, 499, 54, 893, 532, 682, 413, 133, 877, 637, 372, 726, 693, 136, 465, 821, 256, 668, 408, 67, 258, 580, 185, 387, 98, 241, 403, 500, 470, 546, 661, 424, 561, 341, 620, 814, 177, 705, 586, 147, 347, 330, 854, 25, 262, 700, 318, 552, 555, 961, 813, 21, 860, 667, 540, 991, 394, 290, 452, 125, 273, 575, 553, 694, 461, 954, 113, 163, 43, 740, 707, 375, 582, 881, 537, 657, 964, 931, 103, 106, 272, 260, 581, 925, 159, 848, 371, 261, 56, 646, 144, 564, 857, 201, 194, 525, 364, 55, 119, 883, 197, 130, 924, 872, 533, 357, 829, 698, 899, 359, 349, 83, 783, 757, 715, 165, 447, 390, 400, 645, 437, 459, 852, 313, 127, 161, 850, 112, 752, 339, 846, 406, 192, 376, 319, 720, 405, 878, 618, 609, 104, 66, 524, 263, 210, 430, 557, 152, 482, 506, 976, 855, 959, 800, 598, 885, 837, 921, 886, 451, 20, 52, 212, 778, 842, 678, 419, 730, 590, 494, 967, 37, 940, 985, 141, 684, 987, 567, 154, 865, 466, 251, 701, 361, 825, 573, 766, 847, 617, 603, 628, 551, 473, 383, 971, 493, 741, 802, 577, 510, 717, 538, 812, 584, 559, 429, 183, 368, 718, 569, 53, 706, 689, 806, 953, 949, 478, 160, 998, 851, 675, 749, 734, 117, 890, 663, 739, 110, 131, 464, 407, 492, 528, 746, 64, 35, 479, 725, 105, 264, 836, 909, 73, 250, 178, 301, 758, 303, 202, 680, 350, 45, 474, 285, 508, 710, 48, 75, 282, 644, 392, 760, 384, 248, 531, 972, 342, 738, 585, 129, 323, 747, 807, 388, 989, 327, 587, 543, 929, 610, 432, 755, 576, 378, 363, 777, 930, 410, 676, 395, 858, 302, 558, 933, 137, 917, 220, 811, 697, 994, 996, 42, 651, 799, 180, 336, 382, 111, 63, 874, 252, 947, 804, 348, 563, 277, 120, 602, 287, 664, 633, 692, 572, 468, 594, 681, 86, 47, 679, 999, 172, 535, 422, 284, 84, 312, 539, 612, 198, 635, 483, 346, 863, 7, 509, 224, 781, 415, 826, 791, 902, 13, 699, 460, 941, 449, 840, 259, 257, 114, 529, 662, 973, 882, 772, 629, 897, 434, 426, 421, 835, 562, 367, 768, 353, 622, 815, 458, 691, 782, 373, 504, 900, 888, 600, 653, 638, 8, 85, 412, 625, 788, 283, 169, 94, 887, 455, 370, 944, 910, 456, 669, 95, 217, 229, 780, 969, 844, 457, 80, 687, 30, 362, 652, 240, 498, 233, 356, 297]\n",
      "[134, 723, 382]\n",
      "['even', 'odd', 'even']\n"
     ]
    }
   ],
   "source": [
    "import random\n",
    "# 1) creates a list of integers from 1 to 1000 inclusive\n",
    "list_1_1000 = [number for number in range(1001)]\n",
    "print(list_1_1000)\n",
    "\n",
    "# 2) shuffles it, \n",
    "random.shuffle(list_1_1000)\n",
    "print(list_1_1000)\n",
    "\n",
    "# 3) randomly selects 10 integers from the list, and \n",
    "random_3_list = random.sample(list_1_1000, 3)\n",
    "print(random_3_list)\n",
    "\n",
    "# 4) indicates whether they are \"odd\" or \"even\" in sequence. \n",
    "# For instance, the sequence of [\"odd\", \"odd\", \"even\"] will be generated for [1, 7, 4] as the output.\n",
    "list_odd_or_even = [\"odd\" if num % 2 else \"even\" for num in random_3_list]\n",
    "print(list_odd_or_even)"
   ]
  },
  {
   "cell_type": "markdown",
   "metadata": {},
   "source": [
    "### 1.2.17 Sorting a List with sort() and sorted()\n",
    "\n",
    "<img src=\"sort-vs-sorted.png\">\n",
    "\n",
    "▪ The way to invoke the two functions is not the same: \n",
    "\n",
    "\\>>> **Syntax: List_name.sort(key, reverse=False)**\n",
    "\n",
    "\\>>> **Syntax: sorted(iteraable, key, reverse=False)**\n",
    "\n",
    "https://discuss.codecademy.com/t/what-is-the-difference-between-sort-and-sorted/349679"
   ]
  },
  {
   "cell_type": "code",
   "execution_count": 58,
   "metadata": {},
   "outputs": [
    {
     "name": "stdout",
     "output_type": "stream",
     "text": [
      "marks_list = [0.4, 0.5, 0.7, 0.6, 0.3]\n",
      "new_marks_list = [0.3, 0.4, 0.5, 0.6, 0.7]\n"
     ]
    }
   ],
   "source": [
    "marks_list = [0.4, 0.5, 0.7, 0.6, 0.3]\n",
    "\n",
    "# Sort the list ascendingly\n",
    "new_marks_list = sorted(marks_list)\n",
    "\n",
    "print(\"marks_list =\", marks_list)\n",
    "print(\"new_marks_list =\", new_marks_list)"
   ]
  },
  {
   "cell_type": "code",
   "execution_count": 59,
   "metadata": {},
   "outputs": [
    {
     "name": "stdout",
     "output_type": "stream",
     "text": [
      "new_marks_list = [70.0, 60.0]\n"
     ]
    }
   ],
   "source": [
    "# list comprehension\n",
    "new_marks_list = [m * 100 for m in marks_list if m > 0.5] \n",
    "\n",
    "print(\"new_marks_list =\", new_marks_list)"
   ]
  },
  {
   "cell_type": "code",
   "execution_count": 60,
   "metadata": {},
   "outputs": [
    {
     "name": "stdout",
     "output_type": "stream",
     "text": [
      "new_marks_list = [60.0, 70.0]\n"
     ]
    }
   ],
   "source": [
    "# Sort the list in descending order\n",
    "new_marks_list.sort(reverse = False) \n",
    "\n",
    "print(\"new_marks_list =\",  new_marks_list)"
   ]
  },
  {
   "cell_type": "markdown",
   "metadata": {},
   "source": [
    "### 1.2.18 Unpacking a List\n",
    "\n",
    "▪ In Python, elements of lists can be assigned to multiple variables. \n",
    "\n",
    "https://note.nkmk.me/en/python-tuple-list-unpack/"
   ]
  },
  {
   "cell_type": "code",
   "execution_count": 61,
   "metadata": {},
   "outputs": [
    {
     "name": "stdout",
     "output_type": "stream",
     "text": [
      "0\n",
      "1\n",
      "2\n"
     ]
    }
   ],
   "source": [
    "numbers_list = [0, 1, 2]\n",
    "\n",
    "num_1, num_2, num_3 = numbers_list\n",
    "\n",
    "print(num_1)\n",
    "print(num_2)\n",
    "print(num_3)"
   ]
  },
  {
   "cell_type": "code",
   "execution_count": 62,
   "metadata": {},
   "outputs": [
    {
     "name": "stdout",
     "output_type": "stream",
     "text": [
      "0 A\n",
      "1 B\n",
      "2 C\n"
     ]
    }
   ],
   "source": [
    "numbers_list = [[0, 'A'], [1, 'B'], [2, 'C']]\n",
    "index = 0\n",
    "\n",
    "for item in numbers_list:\n",
    "    number, letter = numbers_list[index]    \n",
    "    print(number, letter)\n",
    "    index += 1"
   ]
  },
  {
   "cell_type": "markdown",
   "metadata": {},
   "source": [
    "### 1.2.19 Comparing Two Lists\n",
    "\n",
    "▪ The == operator is used to compare two lists item by item to find out whether they have equal data items at equal positions. "
   ]
  },
  {
   "cell_type": "code",
   "execution_count": 63,
   "metadata": {},
   "outputs": [
    {
     "name": "stdout",
     "output_type": "stream",
     "text": [
      "True\n"
     ]
    }
   ],
   "source": [
    "list_1 = [1, 2, 3, 4]\n",
    "list_2 = [1, 2, 3, 4]\n",
    "\n",
    "print(list_1 == list_2)"
   ]
  },
  {
   "cell_type": "code",
   "execution_count": 64,
   "metadata": {
    "scrolled": true
   },
   "outputs": [
    {
     "name": "stdout",
     "output_type": "stream",
     "text": [
      "False\n"
     ]
    }
   ],
   "source": [
    "list_3 = [2, 3, 4, 5]\n",
    "\n",
    "print(list_2 == list_3)"
   ]
  },
  {
   "cell_type": "code",
   "execution_count": 65,
   "metadata": {},
   "outputs": [
    {
     "name": "stdout",
     "output_type": "stream",
     "text": [
      "False\n"
     ]
    }
   ],
   "source": [
    "list_4 = [4, 3, 2, 1]\n",
    "\n",
    "print(list_2 == list_4)"
   ]
  },
  {
   "cell_type": "markdown",
   "metadata": {},
   "source": [
    "## 1.3 Tuple\n",
    "\n",
    "### 1.3.1 Introduction\n",
    "\n",
    "▪ Tuple is similar to list where it has **iterable**, **ordered**, (can contain) **repetitive data**. \n",
    "\n",
    "▪ But unlike lists, tuples are enclosed within parentheses (); and tuples are **immutable**, i.e. we cannot add, delete or make assignments to items.\n",
    "\n",
    "https://www.makeuseof.com/how-to-create-and-use-tuples-in-python/"
   ]
  },
  {
   "cell_type": "markdown",
   "metadata": {},
   "source": [
    "### 1.3.2 Creating Tuples"
   ]
  },
  {
   "cell_type": "code",
   "execution_count": 66,
   "metadata": {},
   "outputs": [
    {
     "name": "stdout",
     "output_type": "stream",
     "text": [
      "(3.12345, 101.23423)\n"
     ]
    }
   ],
   "source": [
    "# Create a tuple of numbers\n",
    "coordinate_tuple = (3.12345, 101.23423)\n",
    "print(coordinate_tuple)"
   ]
  },
  {
   "cell_type": "code",
   "execution_count": 67,
   "metadata": {},
   "outputs": [
    {
     "name": "stdout",
     "output_type": "stream",
     "text": [
      "('hi', 'hello', 'bye')\n"
     ]
    }
   ],
   "source": [
    "# Create a tuple with tuple() from a tuple\n",
    "message_tuple = tuple((\"hi\", \"hello\", \"bye\"))\n",
    "print(message_tuple)"
   ]
  },
  {
   "cell_type": "code",
   "execution_count": 68,
   "metadata": {},
   "outputs": [
    {
     "name": "stdout",
     "output_type": "stream",
     "text": [
      "('hi', 'hello', 'bye')\n"
     ]
    }
   ],
   "source": [
    "# Create a tuple with tuple() from a list\n",
    "message_tuple = tuple([\"hi\", \"hello\", \"bye\"])\n",
    "print(message_tuple)"
   ]
  },
  {
   "cell_type": "markdown",
   "metadata": {},
   "source": [
    "### 1.3.3 Creating An Empty Tuple"
   ]
  },
  {
   "cell_type": "code",
   "execution_count": 69,
   "metadata": {},
   "outputs": [
    {
     "name": "stdout",
     "output_type": "stream",
     "text": [
      "()\n"
     ]
    }
   ],
   "source": [
    "# Create an empty tuple\n",
    "empty_tuple = ()\n",
    "print(empty_tuple)"
   ]
  },
  {
   "cell_type": "markdown",
   "metadata": {},
   "source": [
    "### 1.3.4 Tuple is an Ordered Collection that can Contain Duplicated Data"
   ]
  },
  {
   "cell_type": "code",
   "execution_count": 70,
   "metadata": {},
   "outputs": [
    {
     "name": "stdout",
     "output_type": "stream",
     "text": [
      "('A', 'B', 'C', 'C')\n"
     ]
    }
   ],
   "source": [
    "# Create a tuple of duplicated grades with list()\n",
    "letters_tuple = tuple(('A', 'B', 'C', 'C'))\n",
    "print(letters_tuple)"
   ]
  },
  {
   "cell_type": "markdown",
   "metadata": {},
   "source": [
    "### 1.3.5 Creating a Tuple with a Single Item"
   ]
  },
  {
   "cell_type": "code",
   "execution_count": 71,
   "metadata": {},
   "outputs": [
    {
     "name": "stdout",
     "output_type": "stream",
     "text": [
      "11\n"
     ]
    }
   ],
   "source": [
    "single_item_tuple_1 = (11)\n",
    "print(single_item_tuple_1)"
   ]
  },
  {
   "cell_type": "code",
   "execution_count": 72,
   "metadata": {},
   "outputs": [
    {
     "name": "stdout",
     "output_type": "stream",
     "text": [
      "<class 'int'>\n"
     ]
    }
   ],
   "source": [
    "print(type(single_item_tuple_1))"
   ]
  },
  {
   "cell_type": "code",
   "execution_count": 73,
   "metadata": {},
   "outputs": [
    {
     "name": "stdout",
     "output_type": "stream",
     "text": [
      "(11,)\n",
      "<class 'tuple'>\n"
     ]
    }
   ],
   "source": [
    "single_item_tuple_2 = (11,)\n",
    "print(single_item_tuple_2)\n",
    "print(type(single_item_tuple_2))"
   ]
  },
  {
   "cell_type": "markdown",
   "metadata": {},
   "source": [
    "### 1.3.6 Creating a Tuple with Mixed Data Types"
   ]
  },
  {
   "cell_type": "code",
   "execution_count": 74,
   "metadata": {},
   "outputs": [
    {
     "name": "stdout",
     "output_type": "stream",
     "text": [
      "(11, 'Eleven', True)\n"
     ]
    }
   ],
   "source": [
    "# Create a tuple with mixed data types like boolean, string, integer, etc.\n",
    "mixed_tuple = (11, 'Eleven', True)\n",
    "print(mixed_tuple)"
   ]
  },
  {
   "cell_type": "code",
   "execution_count": 75,
   "metadata": {},
   "outputs": [
    {
     "name": "stdout",
     "output_type": "stream",
     "text": [
      "('Kevin', 18, 3.85, ['BACS2003', 'BACS2063'])\n"
     ]
    }
   ],
   "source": [
    "# Create a multi-dimensional tuple that contains list(s)\n",
    "student_tuple = ('Kevin', 18, 3.85, ['BACS2003', 'BACS2063'])\n",
    "print(student_tuple)"
   ]
  },
  {
   "cell_type": "code",
   "execution_count": 76,
   "metadata": {},
   "outputs": [
    {
     "name": "stdout",
     "output_type": "stream",
     "text": [
      "(('hi', 'hello', 'bye'), ('A', 'B', 'C', 'C'))\n"
     ]
    }
   ],
   "source": [
    "# Create a multi-dimensional tuple that contains tuple(s)\n",
    "mixed_tuple = (message_tuple, letters_tuple)\n",
    "print(mixed_tuple)"
   ]
  },
  {
   "cell_type": "markdown",
   "metadata": {},
   "source": [
    "### 1.3.7 Accessing an Element with Positive Indexing"
   ]
  },
  {
   "cell_type": "code",
   "execution_count": 77,
   "metadata": {},
   "outputs": [
    {
     "name": "stdout",
     "output_type": "stream",
     "text": [
      "3.12345\n"
     ]
    }
   ],
   "source": [
    "coordinate_tuple = (3.12345, 101.23423)\n",
    "\n",
    "print(coordinate_tuple[0])"
   ]
  },
  {
   "cell_type": "code",
   "execution_count": 78,
   "metadata": {},
   "outputs": [
    {
     "name": "stdout",
     "output_type": "stream",
     "text": [
      "(('hi', 'hello', 'bye'), ('A', 'B', 'C', 'C'))\n"
     ]
    }
   ],
   "source": [
    "print(mixed_tuple)"
   ]
  },
  {
   "cell_type": "code",
   "execution_count": 79,
   "metadata": {},
   "outputs": [
    {
     "name": "stdout",
     "output_type": "stream",
     "text": [
      "('A', 'B', 'C', 'C')\n"
     ]
    }
   ],
   "source": [
    "print(mixed_tuple[1])"
   ]
  },
  {
   "cell_type": "code",
   "execution_count": 80,
   "metadata": {},
   "outputs": [
    {
     "name": "stdout",
     "output_type": "stream",
     "text": [
      "hi\n"
     ]
    }
   ],
   "source": [
    "print(mixed_tuple[0][0])"
   ]
  },
  {
   "cell_type": "markdown",
   "metadata": {},
   "source": [
    "### 1.3.8 Accessing an Element with Negative Indexing"
   ]
  },
  {
   "cell_type": "code",
   "execution_count": 81,
   "metadata": {},
   "outputs": [
    {
     "name": "stdout",
     "output_type": "stream",
     "text": [
      "C\n",
      "C\n",
      "B\n",
      "A\n"
     ]
    }
   ],
   "source": [
    "letters_tuple = tuple(('A', 'B', 'C', 'C'))\n",
    "\n",
    "print(letters_tuple[-1])\n",
    "print(letters_tuple[-2])\n",
    "print(letters_tuple[-3])\n",
    "print(letters_tuple[-4])"
   ]
  },
  {
   "cell_type": "markdown",
   "metadata": {},
   "source": [
    "### 1.3.9 Loop Through a Tuple"
   ]
  },
  {
   "cell_type": "code",
   "execution_count": 82,
   "metadata": {},
   "outputs": [
    {
     "name": "stdout",
     "output_type": "stream",
     "text": [
      "I like apple\n",
      "I like banana\n",
      "I like mango\n"
     ]
    }
   ],
   "source": [
    "for fruit_tuple_1 in ('apple','banana','mango'):\n",
    "    print(\"I like\", fruit_tuple_1)"
   ]
  },
  {
   "cell_type": "code",
   "execution_count": 83,
   "metadata": {},
   "outputs": [
    {
     "name": "stdout",
     "output_type": "stream",
     "text": [
      "I like orange\n",
      "I like papaya\n",
      "I like durian\n"
     ]
    }
   ],
   "source": [
    "fruit_tuple_2 = ('orange','papaya','durian')\n",
    "\n",
    "for index in range(len(fruit_tuple_2)):\n",
    "    print(\"I like\", fruit_tuple_2[index])"
   ]
  },
  {
   "cell_type": "markdown",
   "metadata": {},
   "source": [
    "### 1.3.10 Tuple Slicing"
   ]
  },
  {
   "cell_type": "code",
   "execution_count": 84,
   "metadata": {},
   "outputs": [
    {
     "name": "stdout",
     "output_type": "stream",
     "text": [
      "(3, 4, 5)\n",
      "(6, 7)\n",
      "(1, 2, 3, 4, 5, 6, 7)\n"
     ]
    }
   ],
   "source": [
    "numbers_tuple = (1, 2, 3, 4, 5, 6, 7)\n",
    "\n",
    "# Slice elements from index 2 to index 4\n",
    "print(numbers_tuple[2:5])\n",
    "\n",
    "# Slice elements from index 5 to end\n",
    "print(numbers_tuple[5:])\n",
    "\n",
    "# Slice elements beginning to end\n",
    "print(numbers_tuple[:])"
   ]
  },
  {
   "cell_type": "code",
   "execution_count": 85,
   "metadata": {},
   "outputs": [
    {
     "name": "stdout",
     "output_type": "stream",
     "text": [
      "[3, 4, 5]\n"
     ]
    }
   ],
   "source": [
    "# Slice elements from index 2 to index 4\n",
    "numbers_list = list(numbers_tuple[2:5])\n",
    "print(numbers_list)"
   ]
  },
  {
   "cell_type": "markdown",
   "metadata": {},
   "source": [
    "### 1.3.11 Tuple Membership Test"
   ]
  },
  {
   "cell_type": "code",
   "execution_count": 86,
   "metadata": {},
   "outputs": [
    {
     "name": "stdout",
     "output_type": "stream",
     "text": [
      "True\n",
      "False\n",
      "True\n"
     ]
    }
   ],
   "source": [
    "my_tuple = ('p', 'r', 'o', 'b', 'l', 'e', 'm')\n",
    "\n",
    "# Output: True\n",
    "print('p' in my_tuple)\n",
    "\n",
    "# Output: False\n",
    "print('a' in my_tuple)\n",
    "\n",
    "# Output: True\n",
    "print('c' not in my_tuple)"
   ]
  },
  {
   "cell_type": "markdown",
   "metadata": {},
   "source": [
    "### 1.3.12 Unpacking a Tuple"
   ]
  },
  {
   "cell_type": "code",
   "execution_count": 87,
   "metadata": {},
   "outputs": [
    {
     "name": "stdout",
     "output_type": "stream",
     "text": [
      "x = 3.12345 y = 101.23423\n"
     ]
    }
   ],
   "source": [
    "coordinate_tuple = (3.12345, 101.23423)\n",
    "x, y = coordinate_tuple\n",
    "print('x =', x, 'y =', y)"
   ]
  },
  {
   "cell_type": "markdown",
   "metadata": {},
   "source": [
    "### 1.3.13 Tuple Packing\n",
    "\n",
    "▪ A tuple can also be created without using parentheses, which is known as **tuple packing**."
   ]
  },
  {
   "cell_type": "code",
   "execution_count": 88,
   "metadata": {},
   "outputs": [
    {
     "name": "stdout",
     "output_type": "stream",
     "text": [
      "(3.12345, 101.23423)\n"
     ]
    }
   ],
   "source": [
    "new_coordinate_1 = x, y\n",
    "print(new_coordinate_1)"
   ]
  },
  {
   "cell_type": "markdown",
   "metadata": {},
   "source": [
    "### 1.3.14 - Modifying Immutable Tuple (Part 1)\n",
    "\n",
    "▪ Tuples is **immutable**. "
   ]
  },
  {
   "cell_type": "code",
   "execution_count": 89,
   "metadata": {},
   "outputs": [
    {
     "ename": "TypeError",
     "evalue": "'tuple' object does not support item assignment",
     "output_type": "error",
     "traceback": [
      "\u001b[1;31m---------------------------------------------------------------------------\u001b[0m",
      "\u001b[1;31mTypeError\u001b[0m                                 Traceback (most recent call last)",
      "Cell \u001b[1;32mIn[89], line 3\u001b[0m\n\u001b[0;32m      1\u001b[0m coordinate_tuple \u001b[38;5;241m=\u001b[39m (\u001b[38;5;241m3.12345\u001b[39m, \u001b[38;5;241m101.23423\u001b[39m)\n\u001b[1;32m----> 3\u001b[0m coordinate_tuple[\u001b[38;5;241m0\u001b[39m] \u001b[38;5;241m=\u001b[39m \u001b[38;5;241m0\u001b[39m\n",
      "\u001b[1;31mTypeError\u001b[0m: 'tuple' object does not support item assignment"
     ]
    }
   ],
   "source": [
    "coordinate_tuple = (3.12345, 101.23423)\n",
    "\n",
    "coordinate_tuple[0] = 0"
   ]
  },
  {
   "cell_type": "markdown",
   "metadata": {},
   "source": [
    "### 1.3.15 - Modifying Immutable Tuple (Part 2)\n",
    "\n",
    "▪ Convert a tuple to a list. Then modify the list. Finally, convert the list back to a tuple.\n",
    "\n",
    "https://beginnersbook.com/2018/02/python-tuple/"
   ]
  },
  {
   "cell_type": "code",
   "execution_count": 90,
   "metadata": {},
   "outputs": [
    {
     "name": "stdout",
     "output_type": "stream",
     "text": [
      "This is the original Tuple: (1, 2, 3)\n"
     ]
    }
   ],
   "source": [
    "tuple_1 = (1, 2, 3)\n",
    "print(\"This is the original Tuple:\", tuple_1)"
   ]
  },
  {
   "cell_type": "code",
   "execution_count": 91,
   "metadata": {},
   "outputs": [
    {
     "name": "stdout",
     "output_type": "stream",
     "text": [
      "This is the updated Tuple: (1, 2, 3, 4)\n"
     ]
    }
   ],
   "source": [
    "temp_list = list(tuple_1)\n",
    "temp_list.append(4)\n",
    "tuple_1 = tuple(temp_list)\n",
    "\n",
    "print(\"This is the updated Tuple:\", tuple_1)"
   ]
  },
  {
   "cell_type": "markdown",
   "metadata": {},
   "source": [
    "### 1.3.16 - Modifying Immutable Tuple (Part 3)\n",
    "\n",
    "▪ We can change the elements of nested items that are mutable, for instance, a list inside a tuple. \n",
    "\n",
    "https://www.makeuseof.com/how-to-create-and-use-tuples-in-python/"
   ]
  },
  {
   "cell_type": "code",
   "execution_count": 92,
   "metadata": {},
   "outputs": [],
   "source": [
    "tuple_2 = (1, [9, 8, 7], \"World\")"
   ]
  },
  {
   "cell_type": "code",
   "execution_count": 93,
   "metadata": {},
   "outputs": [
    {
     "ename": "TypeError",
     "evalue": "'tuple' object does not support item assignment",
     "output_type": "error",
     "traceback": [
      "\u001b[1;31m---------------------------------------------------------------------------\u001b[0m",
      "\u001b[1;31mTypeError\u001b[0m                                 Traceback (most recent call last)",
      "Cell \u001b[1;32mIn[93], line 1\u001b[0m\n\u001b[1;32m----> 1\u001b[0m tuple_2[\u001b[38;5;241m0\u001b[39m] \u001b[38;5;241m=\u001b[39m \u001b[38;5;241m0\u001b[39m\n",
      "\u001b[1;31mTypeError\u001b[0m: 'tuple' object does not support item assignment"
     ]
    }
   ],
   "source": [
    "tuple_2[0] = 0"
   ]
  },
  {
   "cell_type": "code",
   "execution_count": 94,
   "metadata": {},
   "outputs": [
    {
     "name": "stdout",
     "output_type": "stream",
     "text": [
      "(1, [9, 8, 99], 'World')\n"
     ]
    }
   ],
   "source": [
    "tuple_2[1][2] = 99\n",
    "print(tuple_2)"
   ]
  },
  {
   "cell_type": "markdown",
   "metadata": {},
   "source": [
    "### 1.3.17 Comparing Two Tuples"
   ]
  },
  {
   "cell_type": "code",
   "execution_count": 95,
   "metadata": {},
   "outputs": [
    {
     "name": "stdout",
     "output_type": "stream",
     "text": [
      "True\n"
     ]
    }
   ],
   "source": [
    "tuple_1 = (1, 2, 3, 4)\n",
    "tuple_2 = (1, 2, 3, 4)\n",
    "\n",
    "print(tuple_1 == tuple_2)"
   ]
  },
  {
   "cell_type": "code",
   "execution_count": 96,
   "metadata": {},
   "outputs": [
    {
     "name": "stdout",
     "output_type": "stream",
     "text": [
      "False\n"
     ]
    }
   ],
   "source": [
    "tuple_3 = (2, 3, 4, 5)\n",
    "\n",
    "print(tuple_2 == tuple_3)"
   ]
  },
  {
   "cell_type": "code",
   "execution_count": 97,
   "metadata": {},
   "outputs": [
    {
     "name": "stdout",
     "output_type": "stream",
     "text": [
      "False\n"
     ]
    }
   ],
   "source": [
    "tuple_4 = (4, 3, 2, 1)\n",
    "\n",
    "print(tuple_2 == tuple_4)"
   ]
  },
  {
   "cell_type": "markdown",
   "metadata": {},
   "source": [
    "<span style = \"color:red\">\n",
    "    \n",
    "**Exercise \\#8: Redo Exercise \\#6 by writing python code that prints the result in the form of a list of tuples of tuple. For instance, for [1, 7, 4], the sequence to be printed as the output should be [(0, (1, \"odd\")), (1, (7, \"odd\")), (2, (4, \"even\"))] where 0, 1 and 2 are index numbers of 1, 7, and 4 respectively.**\n",
    "\n",
    "</span>"
   ]
  },
  {
   "cell_type": "code",
   "execution_count": 101,
   "metadata": {},
   "outputs": [
    {
     "name": "stdout",
     "output_type": "stream",
     "text": [
      "[0, 1, 2, 3, 4, 5, 6, 7, 8, 9, 10, 11, 12, 13, 14, 15, 16, 17, 18, 19, 20, 21, 22, 23, 24, 25, 26, 27, 28, 29, 30, 31, 32, 33, 34, 35, 36, 37, 38, 39, 40, 41, 42, 43, 44, 45, 46, 47, 48, 49, 50, 51, 52, 53, 54, 55, 56, 57, 58, 59, 60, 61, 62, 63, 64, 65, 66, 67, 68, 69, 70, 71, 72, 73, 74, 75, 76, 77, 78, 79, 80, 81, 82, 83, 84, 85, 86, 87, 88, 89, 90, 91, 92, 93, 94, 95, 96, 97, 98, 99, 100, 101, 102, 103, 104, 105, 106, 107, 108, 109, 110, 111, 112, 113, 114, 115, 116, 117, 118, 119, 120, 121, 122, 123, 124, 125, 126, 127, 128, 129, 130, 131, 132, 133, 134, 135, 136, 137, 138, 139, 140, 141, 142, 143, 144, 145, 146, 147, 148, 149, 150, 151, 152, 153, 154, 155, 156, 157, 158, 159, 160, 161, 162, 163, 164, 165, 166, 167, 168, 169, 170, 171, 172, 173, 174, 175, 176, 177, 178, 179, 180, 181, 182, 183, 184, 185, 186, 187, 188, 189, 190, 191, 192, 193, 194, 195, 196, 197, 198, 199, 200, 201, 202, 203, 204, 205, 206, 207, 208, 209, 210, 211, 212, 213, 214, 215, 216, 217, 218, 219, 220, 221, 222, 223, 224, 225, 226, 227, 228, 229, 230, 231, 232, 233, 234, 235, 236, 237, 238, 239, 240, 241, 242, 243, 244, 245, 246, 247, 248, 249, 250, 251, 252, 253, 254, 255, 256, 257, 258, 259, 260, 261, 262, 263, 264, 265, 266, 267, 268, 269, 270, 271, 272, 273, 274, 275, 276, 277, 278, 279, 280, 281, 282, 283, 284, 285, 286, 287, 288, 289, 290, 291, 292, 293, 294, 295, 296, 297, 298, 299, 300, 301, 302, 303, 304, 305, 306, 307, 308, 309, 310, 311, 312, 313, 314, 315, 316, 317, 318, 319, 320, 321, 322, 323, 324, 325, 326, 327, 328, 329, 330, 331, 332, 333, 334, 335, 336, 337, 338, 339, 340, 341, 342, 343, 344, 345, 346, 347, 348, 349, 350, 351, 352, 353, 354, 355, 356, 357, 358, 359, 360, 361, 362, 363, 364, 365, 366, 367, 368, 369, 370, 371, 372, 373, 374, 375, 376, 377, 378, 379, 380, 381, 382, 383, 384, 385, 386, 387, 388, 389, 390, 391, 392, 393, 394, 395, 396, 397, 398, 399, 400, 401, 402, 403, 404, 405, 406, 407, 408, 409, 410, 411, 412, 413, 414, 415, 416, 417, 418, 419, 420, 421, 422, 423, 424, 425, 426, 427, 428, 429, 430, 431, 432, 433, 434, 435, 436, 437, 438, 439, 440, 441, 442, 443, 444, 445, 446, 447, 448, 449, 450, 451, 452, 453, 454, 455, 456, 457, 458, 459, 460, 461, 462, 463, 464, 465, 466, 467, 468, 469, 470, 471, 472, 473, 474, 475, 476, 477, 478, 479, 480, 481, 482, 483, 484, 485, 486, 487, 488, 489, 490, 491, 492, 493, 494, 495, 496, 497, 498, 499, 500, 501, 502, 503, 504, 505, 506, 507, 508, 509, 510, 511, 512, 513, 514, 515, 516, 517, 518, 519, 520, 521, 522, 523, 524, 525, 526, 527, 528, 529, 530, 531, 532, 533, 534, 535, 536, 537, 538, 539, 540, 541, 542, 543, 544, 545, 546, 547, 548, 549, 550, 551, 552, 553, 554, 555, 556, 557, 558, 559, 560, 561, 562, 563, 564, 565, 566, 567, 568, 569, 570, 571, 572, 573, 574, 575, 576, 577, 578, 579, 580, 581, 582, 583, 584, 585, 586, 587, 588, 589, 590, 591, 592, 593, 594, 595, 596, 597, 598, 599, 600, 601, 602, 603, 604, 605, 606, 607, 608, 609, 610, 611, 612, 613, 614, 615, 616, 617, 618, 619, 620, 621, 622, 623, 624, 625, 626, 627, 628, 629, 630, 631, 632, 633, 634, 635, 636, 637, 638, 639, 640, 641, 642, 643, 644, 645, 646, 647, 648, 649, 650, 651, 652, 653, 654, 655, 656, 657, 658, 659, 660, 661, 662, 663, 664, 665, 666, 667, 668, 669, 670, 671, 672, 673, 674, 675, 676, 677, 678, 679, 680, 681, 682, 683, 684, 685, 686, 687, 688, 689, 690, 691, 692, 693, 694, 695, 696, 697, 698, 699, 700, 701, 702, 703, 704, 705, 706, 707, 708, 709, 710, 711, 712, 713, 714, 715, 716, 717, 718, 719, 720, 721, 722, 723, 724, 725, 726, 727, 728, 729, 730, 731, 732, 733, 734, 735, 736, 737, 738, 739, 740, 741, 742, 743, 744, 745, 746, 747, 748, 749, 750, 751, 752, 753, 754, 755, 756, 757, 758, 759, 760, 761, 762, 763, 764, 765, 766, 767, 768, 769, 770, 771, 772, 773, 774, 775, 776, 777, 778, 779, 780, 781, 782, 783, 784, 785, 786, 787, 788, 789, 790, 791, 792, 793, 794, 795, 796, 797, 798, 799, 800, 801, 802, 803, 804, 805, 806, 807, 808, 809, 810, 811, 812, 813, 814, 815, 816, 817, 818, 819, 820, 821, 822, 823, 824, 825, 826, 827, 828, 829, 830, 831, 832, 833, 834, 835, 836, 837, 838, 839, 840, 841, 842, 843, 844, 845, 846, 847, 848, 849, 850, 851, 852, 853, 854, 855, 856, 857, 858, 859, 860, 861, 862, 863, 864, 865, 866, 867, 868, 869, 870, 871, 872, 873, 874, 875, 876, 877, 878, 879, 880, 881, 882, 883, 884, 885, 886, 887, 888, 889, 890, 891, 892, 893, 894, 895, 896, 897, 898, 899, 900, 901, 902, 903, 904, 905, 906, 907, 908, 909, 910, 911, 912, 913, 914, 915, 916, 917, 918, 919, 920, 921, 922, 923, 924, 925, 926, 927, 928, 929, 930, 931, 932, 933, 934, 935, 936, 937, 938, 939, 940, 941, 942, 943, 944, 945, 946, 947, 948, 949, 950, 951, 952, 953, 954, 955, 956, 957, 958, 959, 960, 961, 962, 963, 964, 965, 966, 967, 968, 969, 970, 971, 972, 973, 974, 975, 976, 977, 978, 979, 980, 981, 982, 983, 984, 985, 986, 987, 988, 989, 990, 991, 992, 993, 994, 995, 996, 997, 998, 999, 1000]\n",
      "[60, 903, 970, 203, 537, 109, 451, 75, 769, 311, 548, 366, 130, 415, 555, 43, 97, 476, 122, 902, 761, 113, 156, 293, 670, 430, 315, 323, 725, 180, 731, 656, 344, 822, 270, 711, 8, 666, 735, 540, 128, 649, 3, 190, 559, 896, 493, 771, 386, 176, 882, 778, 74, 870, 413, 165, 371, 140, 615, 894, 833, 316, 608, 0, 834, 857, 671, 454, 390, 864, 732, 495, 464, 498, 303, 372, 467, 912, 572, 480, 556, 50, 447, 385, 69, 380, 866, 139, 329, 55, 508, 209, 920, 607, 268, 418, 396, 988, 745, 340, 855, 724, 333, 19, 554, 593, 16, 538, 513, 54, 567, 81, 411, 441, 280, 712, 287, 859, 754, 1000, 38, 611, 299, 952, 84, 679, 986, 162, 265, 653, 442, 915, 121, 237, 862, 516, 589, 256, 172, 42, 584, 52, 914, 434, 806, 569, 730, 734, 956, 212, 494, 88, 944, 723, 163, 942, 61, 911, 241, 201, 37, 175, 884, 676, 149, 477, 347, 10, 667, 708, 403, 786, 352, 549, 582, 284, 213, 713, 710, 655, 702, 598, 277, 930, 471, 560, 918, 164, 225, 116, 345, 601, 365, 587, 278, 826, 499, 118, 375, 85, 6, 397, 830, 637, 747, 227, 821, 100, 260, 204, 599, 501, 146, 634, 767, 916, 24, 159, 391, 221, 502, 512, 717, 425, 632, 479, 660, 357, 963, 321, 478, 762, 827, 811, 707, 797, 716, 812, 379, 141, 869, 183, 306, 583, 401, 506, 199, 976, 961, 289, 363, 332, 67, 563, 796, 483, 774, 802, 63, 614, 858, 539, 736, 840, 714, 276, 187, 983, 490, 847, 620, 831, 245, 727, 378, 361, 689, 170, 488, 144, 259, 905, 126, 302, 167, 49, 449, 768, 473, 436, 966, 229, 465, 877, 194, 652, 355, 402, 283, 654, 254, 770, 509, 267, 698, 921, 507, 641, 793, 888, 624, 530, 876, 350, 92, 205, 360, 841, 169, 792, 105, 364, 517, 962, 931, 348, 521, 82, 384, 420, 597, 627, 233, 83, 675, 996, 651, 832, 247, 301, 940, 872, 257, 235, 230, 427, 216, 909, 527, 759, 482, 161, 776, 491, 729, 18, 79, 814, 59, 842, 980, 154, 358, 899, 263, 748, 945, 339, 373, 626, 273, 224, 453, 665, 20, 45, 133, 700, 865, 226, 444, 409, 95, 77, 616, 195, 197, 628, 900, 518, 981, 844, 788, 571, 738, 868, 271, 91, 613, 542, 177, 969, 459, 166, 383, 889, 198, 433, 874, 750, 184, 648, 31, 873, 125, 210, 437, 803, 119, 588, 248, 820, 64, 781, 328, 619, 131, 693, 923, 718, 412, 472, 524, 269, 886, 331, 901, 485, 898, 255, 511, 795, 32, 14, 46, 580, 790, 300, 639, 327, 73, 342, 456, 272, 979, 846, 448, 2, 356, 919, 120, 692, 4, 246, 852, 7, 547, 843, 206, 881, 178, 764, 416, 13, 558, 977, 410, 758, 688, 695, 369, 192, 275, 746, 309, 461, 262, 395, 65, 924, 188, 934, 971, 663, 757, 715, 941, 531, 835, 657, 115, 251, 697, 56, 307, 388, 522, 520, 581, 586, 231, 219, 503, 435, 706, 685, 243, 578, 445, 223, 600, 904, 440, 452, 319, 703, 552, 974, 813, 664, 680, 393, 887, 334, 147, 104, 743, 799, 561, 150, 957, 997, 242, 135, 953, 890, 990, 808, 202, 819, 414, 594, 782, 89, 645, 58, 466, 12, 861, 114, 326, 381, 86, 867, 801, 740, 669, 134, 468, 21, 816, 766, 382, 208, 17, 643, 145, 751, 854, 992, 424, 22, 98, 9, 313, 481, 828, 526, 885, 837, 514, 642, 179, 686, 376, 763, 719, 878, 15, 296, 815, 975, 405, 612, 117, 41, 377, 217, 295, 533, 528, 33, 948, 218, 193, 954, 460, 585, 849, 374, 922, 238, 818, 475, 431, 543, 807, 809, 304, 636, 1, 741, 330, 173, 995, 936, 325, 784, 220, 910, 610, 605, 739, 312, 756, 564, 426, 359, 407, 562, 432, 592, 951, 39, 879, 370, 99, 298, 775, 824, 989, 777, 308, 991, 28, 985, 80, 404, 72, 860, 142, 439, 984, 687, 228, 124, 157, 546, 691, 250, 696, 973, 568, 603, 999, 621, 423, 705, 292, 103, 136, 174, 943, 618, 353, 823, 400, 222, 629, 925, 993, 523, 455, 570, 684, 875, 258, 609, 500, 322, 291, 908, 497, 153, 112, 264, 143, 529, 579, 825, 785, 186, 429, 487, 937, 290, 682, 249, 137, 678, 726, 891, 349, 959, 850, 320, 650, 525, 110, 701, 880, 541, 672, 938, 536, 362, 557, 78, 279, 346, 336, 76, 551, 484, 398, 848, 285, 939, 68, 108, 519, 773, 341, 532, 805, 744, 998, 800, 576, 836, 789, 640, 907, 96, 171, 630, 550, 191, 310, 469, 102, 932, 294, 90, 779, 189, 638, 631, 553, 722, 760, 987, 544, 927, 160, 406, 51, 317, 354, 458, 297, 897, 107, 853, 196, 994, 44, 658, 392, 417, 829, 446, 399, 566, 123, 950, 810, 200, 720, 244, 972, 893, 839, 644, 817, 780, 647, 947, 214, 389, 863, 617, 428, 949, 324, 288, 851, 127, 286, 36, 573, 955, 11, 845, 967, 772, 917, 274, 590, 282, 926, 728, 602, 236, 343, 787, 960, 534, 155, 791, 677, 575, 668, 683, 946, 129, 394, 138, 883, 606, 71, 182, 749, 106, 892, 474, 305, 239, 623, 704, 662, 906, 681, 755, 168, 261, 234, 93, 565, 181, 496, 40, 595, 933, 798, 804, 958, 935, 211, 70, 690, 752, 982, 419, 421, 30, 489, 26, 673, 794, 232, 101, 450, 591, 25, 871, 314, 94, 504, 23, 596, 929, 318, 838, 486, 62, 965, 753, 152, 515, 27, 368, 574, 783, 111, 913, 66, 661, 737, 646, 29, 462, 625, 699, 207, 928, 742, 733, 240, 151, 48, 721, 604, 470, 215, 765, 408, 57, 252, 387, 281, 266, 545, 422, 895, 148, 185, 34, 351, 577, 438, 253, 635, 457, 338, 622, 968, 35, 335, 463, 964, 492, 337, 443, 505, 535, 47, 87, 694, 659, 510, 158, 856, 633, 674, 978, 132, 367, 53, 709, 5]\n",
      "[19, 420, 685]\n",
      "['odd', 'even', 'odd']\n",
      "[(0, (19, 'odd')), (1, (420, 'even')), (2, (685, 'odd'))]\n"
     ]
    }
   ],
   "source": [
    "import random\n",
    "# 1) creates a list of integers from 1 to 1000 inclusive\n",
    "list_1_1000 = [number for number in range(1001)]\n",
    "print(list_1_1000)\n",
    "\n",
    "# 2) shuffles it, \n",
    "random.shuffle(list_1_1000)\n",
    "print(list_1_1000)\n",
    "\n",
    "# 3) randomly selects 10 integers from the list, and \n",
    "random_3_list = random.sample(list_1_1000, 3)\n",
    "print(random_3_list)\n",
    "\n",
    "# 4) indicates whether they are \"odd\" or \"even\" in sequence. \n",
    "# For instance, the sequence of [\"odd\", \"odd\", \"even\"] will be generated for [1, 7, 4] as the output.\n",
    "list_odd_or_even = [\"odd\" if num % 2 else \"even\" for num in random_3_list]\n",
    "print(list_odd_or_even)\n",
    "\n",
    "# 5) by writing python code that prints the result in the form of a list of tuples of tuple. \n",
    "# For instance, for [1, 7, 4], the sequence to be printed as the output should be [(0, (1, \"odd\")), (1, (7, \"odd\")), (2, (4, \"even\"))] where 0, 1 and 2 are index numbers of 1, 7, and 4 respectively.\n",
    "result = [(index, (value, parity)) for index, (value, parity) in enumerate(zip(random_3_list, list_odd_or_even))]\n",
    "print(result)"
   ]
  },
  {
   "cell_type": "markdown",
   "metadata": {},
   "source": [
    "## 1.4 Set\n",
    "\n",
    "▪ A set is an **unordered** collection data type that is **iterable**, **mutable**, but it **doesn't have duplicate** elements.\n",
    "\n",
    "### 1.4.1 Creating Sets"
   ]
  },
  {
   "cell_type": "code",
   "execution_count": null,
   "metadata": {},
   "outputs": [],
   "source": [
    "# Creating a set of numbers\n",
    "numbers_set_1 = {1, 2, 3, 4, 5, 6, 7}\n",
    "print(numbers_set_1)"
   ]
  },
  {
   "cell_type": "code",
   "execution_count": null,
   "metadata": {},
   "outputs": [],
   "source": [
    "# Creating a set from a list\n",
    "numbers_set_2 = set([3, 4, 5, 6, 2, 1]) \n",
    "print(numbers_set_2)"
   ]
  },
  {
   "cell_type": "code",
   "execution_count": null,
   "metadata": {},
   "outputs": [],
   "source": [
    "# Creating a set from a tuple\n",
    "coordinate_tuple = (3.12345, 101.23423)\n",
    "coordinate_set = set(coordinate_tuple)\n",
    "print(coordinate_set)"
   ]
  },
  {
   "cell_type": "markdown",
   "metadata": {},
   "source": [
    "### 1.4.2 Creating Empty Sets\n",
    "\n",
    "▪ In Python, both sets and dictionaries are enclosed in curly braces."
   ]
  },
  {
   "cell_type": "code",
   "execution_count": null,
   "metadata": {},
   "outputs": [],
   "source": [
    "# Create an empty dictionary\n",
    "empty_set_1 = {}\n",
    "print(empty_set_1)"
   ]
  },
  {
   "cell_type": "code",
   "execution_count": null,
   "metadata": {},
   "outputs": [],
   "source": [
    "print(type(empty_set_1))"
   ]
  },
  {
   "cell_type": "code",
   "execution_count": null,
   "metadata": {},
   "outputs": [],
   "source": [
    "# Create an empty set\n",
    "empty_set_2 = set()\n",
    "print(empty_set_2)"
   ]
  },
  {
   "cell_type": "code",
   "execution_count": null,
   "metadata": {},
   "outputs": [],
   "source": [
    "print(type(empty_set_2))"
   ]
  },
  {
   "cell_type": "markdown",
   "metadata": {},
   "source": [
    "### 1.4.3 Sets Do Not Have Duplicate Elements"
   ]
  },
  {
   "cell_type": "code",
   "execution_count": null,
   "metadata": {},
   "outputs": [],
   "source": [
    "# Create a set of duplicated numbers\n",
    "numbers_set_1 = {1, 2, 3, 4, 5, 6, 6}\n",
    "print(numbers_set_1)"
   ]
  },
  {
   "cell_type": "markdown",
   "metadata": {},
   "source": [
    "### 1.4.4 Sets are Unordered"
   ]
  },
  {
   "cell_type": "code",
   "execution_count": null,
   "metadata": {},
   "outputs": [],
   "source": [
    "letters_set_1 = {'a', 'f', 'e', 'b', 'd', 'c'}\n",
    "print(letters_set_1)"
   ]
  },
  {
   "cell_type": "code",
   "execution_count": null,
   "metadata": {},
   "outputs": [],
   "source": [
    "words_set_1 = {\"subtraction\", \"addition\", \"multiplication\", \"division\"}\n",
    "print(words_set_1)"
   ]
  },
  {
   "cell_type": "markdown",
   "metadata": {},
   "source": [
    "<span style = \"color:red\">\n",
    "    \n",
    "**Exercise \\#9: Write python code that creates a list of unique consonants in the string \"The range() function returns a sequence of numbers, starting from 0 by default, and increments by 1 (by default), and stops before a specified number.\"**\n",
    "\n",
    "</span>"
   ]
  },
  {
   "cell_type": "code",
   "execution_count": null,
   "metadata": {},
   "outputs": [],
   "source": []
  },
  {
   "cell_type": "markdown",
   "metadata": {},
   "source": [
    "### 1.4.5 Creating a Set with Mixed Data Types"
   ]
  },
  {
   "cell_type": "code",
   "execution_count": null,
   "metadata": {},
   "outputs": [],
   "source": [
    "mixed_set = {2022, 'BACS2023', True, None, 'A'}\n",
    "print(mixed_set)"
   ]
  },
  {
   "cell_type": "markdown",
   "metadata": {},
   "source": [
    "### 1.4.6 Accessing an element in set with Index\n",
    "\n",
    "▪ Since sets are unordered, indexing has no meaning. Thus, we cannot access set member through indexing or slicing."
   ]
  },
  {
   "cell_type": "code",
   "execution_count": null,
   "metadata": {},
   "outputs": [],
   "source": [
    "print(mixed_set[0])"
   ]
  },
  {
   "cell_type": "markdown",
   "metadata": {},
   "source": [
    "### 1.4.7 Modifying a Set (Part 1)\n",
    "\n",
    "▪ Sets are mutable. \n",
    "\n",
    "▪ We can add a new element to a set using **add()** or mutiple elements using **update()**.\n",
    "\n",
    "https://www.programiz.com/python-programming/set"
   ]
  },
  {
   "cell_type": "code",
   "execution_count": null,
   "metadata": {},
   "outputs": [],
   "source": [
    "numbers_set_3 = {1, 2, 3, 4, 5, 6}\n",
    "print(numbers_set_3)"
   ]
  },
  {
   "cell_type": "code",
   "execution_count": null,
   "metadata": {},
   "outputs": [],
   "source": [
    "numbers_set_3.add(2)\n",
    "print(numbers_set_3)"
   ]
  },
  {
   "cell_type": "code",
   "execution_count": null,
   "metadata": {},
   "outputs": [],
   "source": [
    "numbers_set_3.add(7)\n",
    "print(numbers_set_3)"
   ]
  },
  {
   "cell_type": "code",
   "execution_count": null,
   "metadata": {},
   "outputs": [],
   "source": [
    "numbers_set_3.update('A', 'Z')\n",
    "print(numbers_set_3)"
   ]
  },
  {
   "cell_type": "markdown",
   "metadata": {},
   "source": [
    "### 1.4.8 Modifying a Set (Part 2)\n",
    "\n",
    "▪ We remove an element from a set using **remove()** and **discard()**."
   ]
  },
  {
   "cell_type": "code",
   "execution_count": null,
   "metadata": {},
   "outputs": [],
   "source": [
    "numbers_set_3.discard(0)\n",
    "print(numbers_set_3)"
   ]
  },
  {
   "cell_type": "code",
   "execution_count": null,
   "metadata": {},
   "outputs": [],
   "source": [
    "numbers_set_3.discard(99)\n",
    "print(numbers_set_3)"
   ]
  },
  {
   "cell_type": "code",
   "execution_count": null,
   "metadata": {},
   "outputs": [],
   "source": [
    "numbers_set_3.remove(1)\n",
    "print(numbers_set_3)"
   ]
  },
  {
   "cell_type": "code",
   "execution_count": null,
   "metadata": {},
   "outputs": [],
   "source": [
    "numbers_set_3.remove(99)\n",
    "print(numbers_set_3)"
   ]
  },
  {
   "cell_type": "markdown",
   "metadata": {},
   "source": [
    "### 1.4.9 Loop Through a Set\n",
    "\n",
    "▪ Since sets are unordered, indexing has no meaning, we cannot access an element of a set using indexing or slicing. "
   ]
  },
  {
   "cell_type": "code",
   "execution_count": null,
   "metadata": {},
   "outputs": [],
   "source": [
    "letters_set_1 = {'a', 'f', 'e', 'b', 'd', 'c'}\n",
    "print(letters_set_1)"
   ]
  },
  {
   "cell_type": "code",
   "execution_count": null,
   "metadata": {},
   "outputs": [],
   "source": [
    "for letter in letters_set_1:\n",
    "    print(\"Letter\", letter)"
   ]
  },
  {
   "cell_type": "code",
   "execution_count": null,
   "metadata": {},
   "outputs": [],
   "source": [
    "for letter in set(\"Letter\"):\n",
    "    print(letter)"
   ]
  },
  {
   "cell_type": "code",
   "execution_count": null,
   "metadata": {},
   "outputs": [],
   "source": [
    "for index in range(len(letters_set_1)):\n",
    "    print(\"Letter\", letters_set_1[index])"
   ]
  },
  {
   "cell_type": "markdown",
   "metadata": {},
   "source": [
    "### 1.4.10 Set Membership Test"
   ]
  },
  {
   "cell_type": "code",
   "execution_count": null,
   "metadata": {},
   "outputs": [],
   "source": [
    "letters_set_1 = {'a', 'f', 'e', 'b', 'd', 'c'}\n",
    "\n",
    "print('a' in letters_set_1)\n",
    "print('z' in letters_set_1)"
   ]
  },
  {
   "cell_type": "markdown",
   "metadata": {},
   "source": [
    "### 1.4.11 Unpacking a Set"
   ]
  },
  {
   "cell_type": "code",
   "execution_count": null,
   "metadata": {},
   "outputs": [],
   "source": [
    "coordinate_set = {3.12345, 101.23423}\n",
    "x, y = coordinate_set\n",
    "print('x =', x, 'y =', y)"
   ]
  },
  {
   "cell_type": "markdown",
   "metadata": {},
   "source": [
    "### 1.4.12 Comparing Two Sets"
   ]
  },
  {
   "cell_type": "code",
   "execution_count": null,
   "metadata": {},
   "outputs": [],
   "source": [
    "set_1 = {1, 2, 3, 4}\n",
    "set_2 = {1, 2, 3, 4}\n",
    "\n",
    "print(set_1 == set_2)"
   ]
  },
  {
   "cell_type": "code",
   "execution_count": null,
   "metadata": {},
   "outputs": [],
   "source": [
    "set_3 = {2, 3, 4, 5}\n",
    "\n",
    "print(set_1 == set_3)"
   ]
  },
  {
   "cell_type": "code",
   "execution_count": null,
   "metadata": {},
   "outputs": [],
   "source": [
    "set_4 = {4, 3, 2, 1}\n",
    "\n",
    "print(set_1 == set_4)"
   ]
  },
  {
   "cell_type": "markdown",
   "metadata": {},
   "source": [
    "### 1.4.13 Python Set Operations\n",
    "\n",
    "▪ Sets can be used to carry out mathematical set operations like **union (|)**, **intersection (&)**, **difference (-)** and **symmetric difference (^)**. \n",
    "\n",
    "Methods                      | Descriptions\n",
    "-----------------------------| -------------------------\n",
    "difference()                 | Returns the difference of two or more sets as a new set\n",
    "intersection()               | Returns the intersection of two sets as a new set\n",
    "symmetric_difference()       | Returns the symmetric difference of two sets as a new set\n",
    "union()                      | Returns the union of sets in a new set\n",
    "\n",
    "https://www.programiz.com/python-programming/set"
   ]
  },
  {
   "cell_type": "markdown",
   "metadata": {},
   "source": [
    "### 1.4.14 Set Union\n",
    "\n",
    "▪ Union of A and B is a set of all elements from both sets.\n",
    "\n",
    "▪ Union is performed using the **|** operator. \n",
    "\n",
    "▪ The same outcome can be accomplished using the **union()** method.\n",
    "\n",
    "![set-union.webp](set-union.webp)"
   ]
  },
  {
   "cell_type": "code",
   "execution_count": null,
   "metadata": {},
   "outputs": [],
   "source": [
    "A = {1, 2, 3, 4, 5}\n",
    "B = {4, 5, 6, 7, 8}\n",
    "\n",
    "print(A | B)"
   ]
  },
  {
   "cell_type": "code",
   "execution_count": null,
   "metadata": {},
   "outputs": [],
   "source": [
    "print(B | A)"
   ]
  },
  {
   "cell_type": "code",
   "execution_count": null,
   "metadata": {},
   "outputs": [],
   "source": [
    "print(A.union(B))"
   ]
  },
  {
   "cell_type": "code",
   "execution_count": null,
   "metadata": {},
   "outputs": [],
   "source": [
    "print(B.union(A))"
   ]
  },
  {
   "cell_type": "markdown",
   "metadata": {},
   "source": [
    "### 1.4.15 Set Intersection\n",
    "\n",
    "▪ Intersection of A and B is a set of elements that are common in both the sets.\n",
    "\n",
    "▪ Intersection is performed using the **&** operator. \n",
    "\n",
    "▪ The same outcome can be accomplished using the **intersection()** method.\n",
    "\n",
    "![set-intersection.webp](set-intersection.webp)"
   ]
  },
  {
   "cell_type": "code",
   "execution_count": null,
   "metadata": {},
   "outputs": [],
   "source": [
    "A = {1, 2, 3, 4, 5}\n",
    "B = {4, 5, 6, 7, 8}\n",
    "\n",
    "print(A & B)"
   ]
  },
  {
   "cell_type": "code",
   "execution_count": null,
   "metadata": {},
   "outputs": [],
   "source": [
    "print(B & A)"
   ]
  },
  {
   "cell_type": "code",
   "execution_count": null,
   "metadata": {},
   "outputs": [],
   "source": [
    "print(A.intersection(B))"
   ]
  },
  {
   "cell_type": "code",
   "execution_count": null,
   "metadata": {},
   "outputs": [],
   "source": [
    "print(B.intersection(A))"
   ]
  },
  {
   "cell_type": "markdown",
   "metadata": {},
   "source": [
    "### 1.4.16 Set Difference\n",
    "\n",
    "▪ Difference of the set B from set A or difference of the set A from set B\n",
    "\n",
    "▪ **A - B** is a set of elements that are only in A but not in B. \n",
    "\n",
    "▪ Similarly, **B - A** is a set of elements in B but not in A.\n",
    "\n",
    "▪ Difference is performed using the **-** operator. \n",
    "\n",
    "▪ The same outcome can be accomplished using the **difference()** method.\n",
    "\n",
    "![set-difference.webp](set-difference.webp)"
   ]
  },
  {
   "cell_type": "code",
   "execution_count": null,
   "metadata": {},
   "outputs": [],
   "source": [
    "A = {1, 2, 3, 4, 5}\n",
    "B = {4, 5, 6, 7, 8}\n",
    "\n",
    "print(A - B)"
   ]
  },
  {
   "cell_type": "code",
   "execution_count": null,
   "metadata": {},
   "outputs": [],
   "source": [
    "print(B - A)"
   ]
  },
  {
   "cell_type": "code",
   "execution_count": null,
   "metadata": {},
   "outputs": [],
   "source": [
    "print(A.difference(B))"
   ]
  },
  {
   "cell_type": "code",
   "execution_count": null,
   "metadata": {},
   "outputs": [],
   "source": [
    "print(B.difference(A))"
   ]
  },
  {
   "cell_type": "markdown",
   "metadata": {},
   "source": [
    "### 1.4.17 Set Symmetric Difference\n",
    "\n",
    "▪ Symmetric Difference of A and B is a set of elements in A and B but not in both (excluding the intersection).\n",
    "\n",
    "▪ Symmetric difference is performed using the **^** operator. \n",
    "\n",
    "▪ The same outcome can be accomplished using the method **symmetric_difference()**.\n",
    "\n",
    "![set-symmetric-difference.webp](set-symmetric-difference.webp)"
   ]
  },
  {
   "cell_type": "code",
   "execution_count": null,
   "metadata": {},
   "outputs": [],
   "source": [
    "A = {1, 2, 3, 4, 5}\n",
    "B = {4, 5, 6, 7, 8}\n",
    "\n",
    "print(A ^ B)"
   ]
  },
  {
   "cell_type": "code",
   "execution_count": null,
   "metadata": {},
   "outputs": [],
   "source": [
    "print(B ^ A)"
   ]
  },
  {
   "cell_type": "code",
   "execution_count": null,
   "metadata": {},
   "outputs": [],
   "source": [
    "print(A.symmetric_difference(B))"
   ]
  },
  {
   "cell_type": "code",
   "execution_count": null,
   "metadata": {},
   "outputs": [],
   "source": [
    "print(B.symmetric_difference(A))"
   ]
  },
  {
   "cell_type": "markdown",
   "metadata": {},
   "source": [
    "### 1.4.18 Example: Set Manipulation\n",
    "\n",
    "▪ Suppose **DSA** stands for **Data Structure and Algorithm**, **AI** stands for **Artificial Intelligence** and **WEB** stands for **Web Programming or Web Development**, we can check their union, intersection, difference and etc. as follows:"
   ]
  },
  {
   "cell_type": "code",
   "execution_count": null,
   "metadata": {},
   "outputs": [],
   "source": [
    "dsa = set([\"Tom\", \"Jake\", \"John\", \"Eric\"])\n",
    "web = set([\"Tom\", \"Jake\", \"Jill\", \"Mac\"])\n",
    "ai = set([\"William\", \"Andy\"])"
   ]
  },
  {
   "cell_type": "markdown",
   "metadata": {},
   "source": [
    "#### 1.4.18.1 Union\n",
    "\n",
    "▪ Find all people who have **registered for either dsa or web**."
   ]
  },
  {
   "cell_type": "code",
   "execution_count": null,
   "metadata": {},
   "outputs": [],
   "source": [
    "print('dsa.union(web) =', dsa.union(web))\n",
    "print('dsa | web =', dsa | web)"
   ]
  },
  {
   "cell_type": "markdown",
   "metadata": {},
   "source": [
    "#### 1.4.18.2 Intersection\n",
    "\n",
    "▪ Find all people who have **registered for both dsa and web**."
   ]
  },
  {
   "cell_type": "code",
   "execution_count": null,
   "metadata": {},
   "outputs": [],
   "source": [
    "print('dsa.intersection(web) =', dsa.intersection(web))\n",
    "print('dsa & web =', dsa & web)"
   ]
  },
  {
   "cell_type": "markdown",
   "metadata": {},
   "source": [
    "▪ Find all people who have **registered for both dsa and ai**."
   ]
  },
  {
   "cell_type": "code",
   "execution_count": null,
   "metadata": {},
   "outputs": [],
   "source": [
    "print('dsa.intersection(ai) =', dsa.intersection(ai))\n",
    "print('dsa & ai =', dsa & ai)"
   ]
  },
  {
   "cell_type": "markdown",
   "metadata": {},
   "source": [
    "#### 1.4.18.3 Difference\n",
    "\n",
    "▪ Find all people who have **registered for dsa but not web**."
   ]
  },
  {
   "cell_type": "code",
   "execution_count": null,
   "metadata": {},
   "outputs": [],
   "source": [
    "print('dsa.difference(web) =', dsa.difference(web))\n",
    "print('dsa - web =', dsa - web)"
   ]
  },
  {
   "cell_type": "markdown",
   "metadata": {},
   "source": [
    "#### 1.4.18.4 Symmetric Difference\n",
    "\n",
    "▪ Find all people who have registered only for dsa or web."
   ]
  },
  {
   "cell_type": "code",
   "execution_count": null,
   "metadata": {},
   "outputs": [],
   "source": [
    "print('dsa.symmetric_difference(web) =', dsa.symmetric_difference(web))\n",
    "print('dsa ^ web =', dsa ^ web)"
   ]
  },
  {
   "cell_type": "markdown",
   "metadata": {},
   "source": [
    "### 1.4.19 Example\n",
    "\n",
    "#### 1.4.19.1 issuperset()\n",
    "\n",
    "▪ The **issuperset()** method returns True if a set has every elements of another set (passed as an argument). If not, it returns False.\n",
    "\n",
    "▪ Here, set B is a superset of set A and A is a subset of set B.\n",
    "\n",
    "<img src=\"issuperset.png\">\n",
    "\n",
    "https://www.programiz.com/python-programming/methods/set/issuperset\n",
    "\n",
    "https://www.programiz.com/python-programming/methods/set/isdisjoint"
   ]
  },
  {
   "cell_type": "code",
   "execution_count": null,
   "metadata": {},
   "outputs": [],
   "source": [
    "dsa = set([\"Tom\", \"Jake\", \"John\", \"Eric\"])\n",
    "web = set([\"Tom\", \"Jake\", \"Jill\", \"Mac\"])\n",
    "ai = set([\"William\", \"Andy\"])"
   ]
  },
  {
   "cell_type": "code",
   "execution_count": null,
   "metadata": {
    "scrolled": true
   },
   "outputs": [],
   "source": [
    "if dsa.issuperset(ai): \n",
    "    print(\"All students registered for AI also registered for DSA\")\n",
    "else:\n",
    "    print(\"Not all students registered for AI registered for DSA\")"
   ]
  },
  {
   "cell_type": "markdown",
   "metadata": {},
   "source": [
    "#### 1.4.19.2 issubset()\n",
    "\n",
    "▪ Similarly, the **issubset()** method returns True if set A is the subset of B, i.e. if all the elements of set A are present in set B. Else, it returns False."
   ]
  },
  {
   "cell_type": "code",
   "execution_count": null,
   "metadata": {},
   "outputs": [],
   "source": [
    "if ai.issubset(dsa): \n",
    "    print(\"All students registered for AI also registered for DSA\")\n",
    "else:\n",
    "    print(\"Not all students registered for AI registered for DSA\")"
   ]
  },
  {
   "cell_type": "markdown",
   "metadata": {},
   "source": [
    "#### 1.4.19.3 isdisjoint()\n",
    "\n",
    "▪ The **isdisjoint()** method returns True if two sets don't have any common items between them. Else, it returns False."
   ]
  },
  {
   "cell_type": "code",
   "execution_count": null,
   "metadata": {},
   "outputs": [],
   "source": [
    "if dsa.isdisjoint(ai):\n",
    "    print(\"No one registered for both of DSA and AI\")\n",
    "else:\n",
    "    print(\"Someones registered for both of DSA and AI\")"
   ]
  },
  {
   "cell_type": "markdown",
   "metadata": {},
   "source": [
    "### 1.4.20 Set Methods\n",
    "\n",
    "Methods                      | Descriptions\n",
    "-----------------------------| -------------------------\n",
    "add()                        | Adds an element to the set\n",
    "clear()                      | Removes all elements from the set\n",
    "copy()                       | Returns a copy of the set\n",
    "difference()                 | Returns the difference of two or more sets as a new set\n",
    "difference_update()          | Removes all elements of another set from this set\n",
    "discard()                    | Removes an element from the set if it is a member. (Do nothing if the element is not in set)\n",
    "intersection()               | Returns the intersection of two sets as a new set\n",
    "intersection_update()        | Updates the set with the intersection of itself and another\n",
    "isdisjoint()                 | Returns True if two sets have a null intersection\n",
    "issubset()                   | Returns True if another set contains this set\n",
    "issuperset()                 | Returns True if this set contains another set\n",
    "pop()                        | Removes and returns an arbitrary set element. Raises KeyError if the set is empty\n",
    "remove()                     | Removes an element from the set. If the element is not a member, raises a KeyError\n",
    "symmetric_difference()       | Returns the symmetric difference of two sets as a new set\n",
    "symmetric_difference_update()| Updates a set with the symmetric difference of itself and another\n",
    "union()                      | Returns the union of sets in a new set\n",
    "update()                     | Updates the set with the union of itself and others\n",
    "\n",
    "Methods    | Descriptions\n",
    "-----------| -------------------------\n",
    "all()      | Returns True if all elements of the set are true (or if the set is empty).\n",
    "any()      | Returns True if any element of the set is true. If the set is empty, returns False.\n",
    "enumerate()| Returns an enumerate object. It contains the index and value for all the items of the set as a pair.\n",
    "len()      | Returns the length (the number of items) in the set.\n",
    "max()      | Returns the largest item in the set.\n",
    "min()      | Returns the smallest item in the set.\n",
    "sorted()   | Returns a new sorted list from elements in the set (does not sort the set itself).\n",
    "sum()      | Returns the sum of all elements in the set."
   ]
  },
  {
   "cell_type": "markdown",
   "metadata": {},
   "source": [
    "<span style = \"color:red\">\n",
    "    \n",
    "**Exercise \\#10: Suppose courses are only offered to 4 studets, write python code that answers the following questions...**\n",
    "\n",
    "</span>"
   ]
  },
  {
   "cell_type": "code",
   "execution_count": null,
   "metadata": {},
   "outputs": [],
   "source": [
    "alex = set(['BACS1053', 'BACS2003', 'BACS2042', 'BACS2053', 'BACS2073'])\n",
    "brandon = set(['BACS1053', 'BACS2023', 'BACS2042', 'BACS2083', 'BACS2142'])\n",
    "alice = set(['BACS1143', 'BACS1283', 'BACS2042', 'BACS2053', 'BACS2223'])\n",
    "danny = set(['BACS1053', 'BACS2003', 'BACS2083', 'BACS2042', 'BACS2163'])"
   ]
  },
  {
   "cell_type": "code",
   "execution_count": null,
   "metadata": {},
   "outputs": [],
   "source": [
    "# What courses are offered in this semester?\n",
    "# Expected answer: {'BACS2083', 'BACS1053', 'BACS1283', 'BACS2142', 'BACS2042', 'BACS2003', 'BACS2223', 'BACS2073', 'BACS2163', 'BACS1143'}\n"
   ]
  },
  {
   "cell_type": "code",
   "execution_count": null,
   "metadata": {},
   "outputs": [],
   "source": [
    "# How many courses are offered in this semester?\n",
    "# Expected answer: 12\n"
   ]
  },
  {
   "cell_type": "code",
   "execution_count": null,
   "metadata": {},
   "outputs": [],
   "source": [
    "# What common courses are registered by alex and brandon?\n",
    "# Expected answer: {'BACS2042', 'BACS1053'}\n"
   ]
  },
  {
   "cell_type": "code",
   "execution_count": null,
   "metadata": {},
   "outputs": [],
   "source": [
    "# What common courses are registered by alex and brandon (without using set operator and set functions)?\n",
    "# Expected answer: {'BACS2042', 'BACS1053'}\n"
   ]
  },
  {
   "cell_type": "code",
   "execution_count": null,
   "metadata": {},
   "outputs": [],
   "source": [
    "# What is/are the compulsory course(s) that must be registered by everyone?\n",
    "# Expected answer: {'BACS2042'}\n"
   ]
  },
  {
   "cell_type": "code",
   "execution_count": null,
   "metadata": {},
   "outputs": [],
   "source": [
    "# Which course(s) is registered by alice but not registered by danny?\n",
    "# Expected answer: {'BACS2053', 'BACS1283', 'BACS2223', 'BACS1143'}\n"
   ]
  },
  {
   "cell_type": "code",
   "execution_count": null,
   "metadata": {},
   "outputs": [],
   "source": [
    "# Which common course(s) is registered by alex and danny but not registered by alice and brandon?\n",
    "# Expected answer: {'BACS2003', 'BACS1053'}\n"
   ]
  },
  {
   "cell_type": "code",
   "execution_count": null,
   "metadata": {},
   "outputs": [],
   "source": [
    "# What courses are registered by each of the 4 students if BACS2023 and BACS2053 are not offered?\n",
    "# Expected answer: \n",
    "# alex: {'BACS1053', 'BACS2042', 'BACS2003', 'BACS2073'}\n",
    "# brandon: {'BACS2083', 'BACS1053', 'BACS2142', 'BACS2042'}\n",
    "# alice: {'BACS1143', 'BACS1283', 'BACS2042', 'BACS2223'}\n",
    "# danny: {'BACS2083', 'BACS1053', 'BACS2042', 'BACS2003', 'BACS2163'}\n"
   ]
  },
  {
   "cell_type": "markdown",
   "metadata": {},
   "source": [
    "## 1.5 Dictionaries\n",
    "\n",
    "### 1.5.1 Introduction\n",
    "\n",
    "▪ Dictionaries  are a collection of **mutable**, **ordered** and **iterable** data, which can contain **heterogeneous** but **not duplicate data**.\n",
    "\n",
    "▪ As of Python version 3.7, dictionaries are ordered. In Python 3.6 and earlier, dictionaries are unordered.\n",
    "\n",
    "▪ A dictionary stores items in **key/value pairs**, where keys are unique identifiers that are associated with each value.\n",
    "\n",
    "![dictionary.png](dictionary.png)\n",
    "\n",
    "https://www.programiz.com/python-programming/dictionary"
   ]
  },
  {
   "cell_type": "markdown",
   "metadata": {},
   "source": [
    "### 1.5.2 Creating Dictionaries\n",
    "\n",
    "▪ Every item in a dictionary has a key and its corresponding value (key: value)."
   ]
  },
  {
   "cell_type": "code",
   "execution_count": null,
   "metadata": {},
   "outputs": [],
   "source": [
    "id_name = {2210821: \"John\", 2210847: \"Michelle\", 2210905: \"Alice\"}\n",
    "print(id_name)"
   ]
  },
  {
   "cell_type": "code",
   "execution_count": null,
   "metadata": {},
   "outputs": [],
   "source": [
    "state_capital = {\"Johor\": \"Johor Bahru\", \"Selangor\": \"Shah Alam\", \"Sabah\": \"Kota Kinabalu\"}\n",
    "print(state_capital)"
   ]
  },
  {
   "cell_type": "code",
   "execution_count": null,
   "metadata": {},
   "outputs": [],
   "source": [
    "word_frequency = {\"Hello\" : 7, \"hi\" : 10, \"there\" : 45, \"at\" : 23, \"this\" : 77}\n",
    "print(word_frequency)"
   ]
  },
  {
   "cell_type": "markdown",
   "metadata": {},
   "source": [
    "### 1.5.3 Dictionaries Do Not Have Duplicate Data"
   ]
  },
  {
   "cell_type": "code",
   "execution_count": null,
   "metadata": {},
   "outputs": [],
   "source": [
    "id_name = {2210821: \"John\", 2210847: \"Michelle\", 2210905: \"Alice\", 2210821: \"John\"}\n",
    "print(id_name)"
   ]
  },
  {
   "cell_type": "markdown",
   "metadata": {},
   "source": [
    "### 1.5.4 Dictionaries are Ordered Collection"
   ]
  },
  {
   "cell_type": "code",
   "execution_count": null,
   "metadata": {},
   "outputs": [],
   "source": [
    "number_digit = {2: \"Two\", 1: \"One\", 4: \"Four\", 3: \"Three\"}\n",
    "print(number_digit)"
   ]
  },
  {
   "cell_type": "markdown",
   "metadata": {},
   "source": [
    "### 1.5.5 Creating Dictionaries with dict()"
   ]
  },
  {
   "cell_type": "code",
   "execution_count": null,
   "metadata": {},
   "outputs": [],
   "source": [
    "state_capital = dict(Johor = \"Johor Bahru\", Selangor = \"Shah Alam\", Sabah = \"Kota Kinabalu\")\n",
    "print(state_capital)"
   ]
  },
  {
   "cell_type": "markdown",
   "metadata": {},
   "source": [
    "### 1.5.6 Creating an Empty Dictionary"
   ]
  },
  {
   "cell_type": "code",
   "execution_count": null,
   "metadata": {},
   "outputs": [],
   "source": [
    "dictionary_1 = {}\n",
    "\n",
    "print(dictionary_1)"
   ]
  },
  {
   "cell_type": "code",
   "execution_count": null,
   "metadata": {},
   "outputs": [],
   "source": [
    "print(type(dictionary_1))"
   ]
  },
  {
   "cell_type": "code",
   "execution_count": null,
   "metadata": {},
   "outputs": [],
   "source": [
    "dictionary_1 = dict()\n",
    "print(dictionary_1)"
   ]
  },
  {
   "cell_type": "markdown",
   "metadata": {},
   "source": [
    "### 1.5.7 Creating a Dictionary with Mixed Data Types"
   ]
  },
  {
   "cell_type": "code",
   "execution_count": null,
   "metadata": {},
   "outputs": [],
   "source": [
    "student_info = {'name': 'John', 'year': 2, 'courses': ['BACS2003', 'BACS2023', 'BACS2040']}\n",
    "\n",
    "print(student_info)"
   ]
  },
  {
   "cell_type": "markdown",
   "metadata": {},
   "source": [
    "### 1.5.8 Creating a Dictionary from a List Using fromkeys()"
   ]
  },
  {
   "cell_type": "code",
   "execution_count": null,
   "metadata": {},
   "outputs": [],
   "source": [
    "word_list = [\"Hello\", \"hi\", \"there\", \"at\", \"this\"]\n",
    "\n",
    "word_frequency = dict.fromkeys(word_list, 0)\n",
    "print(word_frequency)"
   ]
  },
  {
   "cell_type": "markdown",
   "metadata": {},
   "source": [
    "### 1.5.9 Creating a Dictionary from Two Lists Using zip()"
   ]
  },
  {
   "cell_type": "code",
   "execution_count": null,
   "metadata": {},
   "outputs": [],
   "source": [
    "word_list = [\"Hello\", \"hi\", \"there\", \"at\", \"this\"]\n",
    "frequency_list = [7, 10, 45, 23, 77]\n",
    "\n",
    "word_frequency = dict(zip(word_list, frequency_list))\n",
    "print(word_frequency)"
   ]
  },
  {
   "cell_type": "markdown",
   "metadata": {},
   "source": [
    "### 1.5.10 Creating a Dictionary from a List of Tuples"
   ]
  },
  {
   "cell_type": "code",
   "execution_count": null,
   "metadata": {},
   "outputs": [],
   "source": [
    "# Creating a list of binary tuples\n",
    "word_frequency_tuple = [(\"Hello\", 7), (\"hi\", 10), (\"there\", 45), (\"at\", 23), (\"this\", 77)]\n",
    "\n",
    "# Creating and initializing a dict using a list of binary tuple\n",
    "word_frequency_dict = dict(word_frequency_tuple)\n",
    "print(word_frequency_dict)"
   ]
  },
  {
   "cell_type": "code",
   "execution_count": null,
   "metadata": {},
   "outputs": [],
   "source": [
    "student_info = dict([('name', ['Tomy', 'Hillfigure']), ('age', '19'), ('level', 'BSc'), ('programme', 'ST'), ('year', 2),\n",
    "                 ('registration_id', '16WAD5678'), ('tel', '0191111000')])\n",
    "print(student_info)"
   ]
  },
  {
   "cell_type": "markdown",
   "metadata": {},
   "source": [
    "### 1.5.11 Accessing an Element of Dictionary"
   ]
  },
  {
   "cell_type": "code",
   "execution_count": null,
   "metadata": {},
   "outputs": [],
   "source": [
    "print('Name:', student_info[0])"
   ]
  },
  {
   "cell_type": "code",
   "execution_count": null,
   "metadata": {},
   "outputs": [],
   "source": [
    "# Retrieving individual value associated with the key 'name'\n",
    "print('Name:', student_info['name'])"
   ]
  },
  {
   "cell_type": "code",
   "execution_count": null,
   "metadata": {},
   "outputs": [],
   "source": [
    "if student_info['level'] == 'BSc':\n",
    "    print('Programme R' + student_info['programme'] + str(student_info['year']))"
   ]
  },
  {
   "cell_type": "markdown",
   "metadata": {},
   "source": [
    "### 1.5.12 Accessing an Element of Dictionary with get()\n",
    "\n",
    "▪ The **get()** method returns the value of the item with the specified key."
   ]
  },
  {
   "cell_type": "code",
   "execution_count": null,
   "metadata": {},
   "outputs": [],
   "source": [
    "print('Registration ID:', student_info.get('registration_id'))"
   ]
  },
  {
   "cell_type": "code",
   "execution_count": null,
   "metadata": {},
   "outputs": [],
   "source": [
    "print('Gender:', student_info.get('gender'))"
   ]
  },
  {
   "cell_type": "code",
   "execution_count": null,
   "metadata": {},
   "outputs": [],
   "source": [
    "print('Gender:', student_info['gender'])"
   ]
  },
  {
   "cell_type": "code",
   "execution_count": null,
   "metadata": {},
   "outputs": [],
   "source": [
    "print('Gender:', student_info.get('gender', 'This item doesn\\'t exist'))"
   ]
  },
  {
   "cell_type": "markdown",
   "metadata": {},
   "source": [
    "### 1.5.13 Accessing All Keys and Values Separately Using keys() and values()\n",
    "\n",
    "▪ The **keys()** method returns a list that contains only the keys that are inside the dictionary.\n",
    "\n",
    "▪ The **values()** method returns a list that contains only the values that are inside the dictionary."
   ]
  },
  {
   "cell_type": "code",
   "execution_count": null,
   "metadata": {},
   "outputs": [],
   "source": [
    "print(student_info.keys())"
   ]
  },
  {
   "cell_type": "code",
   "execution_count": null,
   "metadata": {},
   "outputs": [],
   "source": [
    "print(student_info.values())"
   ]
  },
  {
   "cell_type": "markdown",
   "metadata": {},
   "source": [
    "### 1.5.14 Accessing All Key-Value Pairs Using items()\n",
    "\n",
    "▪ The **items()** method returns a list of tuples that contains the key-value pairs that are inside the dictionary."
   ]
  },
  {
   "cell_type": "code",
   "execution_count": null,
   "metadata": {},
   "outputs": [],
   "source": [
    "# Retrieve a list of key-value pairs as tuples\n",
    "print(student_info.items())"
   ]
  },
  {
   "cell_type": "markdown",
   "metadata": {},
   "source": [
    "### 1.5.15 Loop Through a Dictionary"
   ]
  },
  {
   "cell_type": "code",
   "execution_count": null,
   "metadata": {},
   "outputs": [],
   "source": [
    "# Iterate through all keys in a dictionary\n",
    "for value in student_info:\n",
    "    print(value)"
   ]
  },
  {
   "cell_type": "code",
   "execution_count": null,
   "metadata": {},
   "outputs": [],
   "source": [
    "# Iterate through all values in a dictionary via values()\n",
    "for value in student_info.values():\n",
    "    print(value)"
   ]
  },
  {
   "cell_type": "code",
   "execution_count": null,
   "metadata": {},
   "outputs": [],
   "source": [
    "# Iterate through all keys and values in a dictionary via items\n",
    "for key, value in student_info.items():\n",
    "    print(key, \":\", value)"
   ]
  },
  {
   "cell_type": "code",
   "execution_count": null,
   "metadata": {},
   "outputs": [],
   "source": [
    "# Iterate through all keys and values in a dictionary via items\n",
    "for x, y in student_info.items():\n",
    "    print(x, \":\", y)"
   ]
  },
  {
   "cell_type": "markdown",
   "metadata": {},
   "source": [
    "### 1.5.16 Dictionary Membership Test"
   ]
  },
  {
   "cell_type": "code",
   "execution_count": null,
   "metadata": {},
   "outputs": [],
   "source": [
    "print('name' in student_info)\n",
    "print('gender' in student_info)"
   ]
  },
  {
   "cell_type": "markdown",
   "metadata": {},
   "source": [
    "### 1.5.17 Modifying Dictionaries: Updating One Item\n",
    "\n",
    "▪ A dictionary's keys are immutable but their corresponding values are mutable."
   ]
  },
  {
   "cell_type": "code",
   "execution_count": null,
   "metadata": {},
   "outputs": [],
   "source": [
    "word_frequency_1 = {\"Hello\" : 7, \"hi\" : 10, \"there\" : 45, \"at\" : 23, \"this\" : 77}\n",
    "print(word_frequency_1[\"hi\"])"
   ]
  },
  {
   "cell_type": "code",
   "execution_count": null,
   "metadata": {},
   "outputs": [],
   "source": [
    "word_frequency_1[\"hi\"] = 20\n",
    "print(word_frequency_1[\"hi\"])"
   ]
  },
  {
   "cell_type": "markdown",
   "metadata": {},
   "source": [
    "### 1.5.18 Modifying Dictionaries: Updating More than One Item\n",
    "\n",
    "▪ The **update()** method can be used to update more than one value inside a dictionary at the same time."
   ]
  },
  {
   "cell_type": "code",
   "execution_count": null,
   "metadata": {},
   "outputs": [],
   "source": [
    "word_frequency_1 = {\"Hello\" : 7, \"hi\" : 10, \"there\" : 45, \"at\" : 23, \"this\" : 77}\n",
    "\n",
    "word_frequency_1.update(there = 100, at = 200, bye = 55)\n",
    "print(word_frequency_1)"
   ]
  },
  {
   "cell_type": "code",
   "execution_count": null,
   "metadata": {},
   "outputs": [],
   "source": [
    "word_frequency_2 = {\"house\" : 15, \"town\" : 22}\n",
    "word_frequency_2.update(word_frequency_1)\n",
    "\n",
    "print(word_frequency_2)"
   ]
  },
  {
   "cell_type": "markdown",
   "metadata": {},
   "source": [
    "### 1.5.19 Removing Elements from Dictionary with pop()\n",
    "\n",
    "▪ The **pop()** method removes an item with the provided key and returns the value.\n",
    "\n",
    "https://www.programiz.com/python-programming/dictionary"
   ]
  },
  {
   "cell_type": "code",
   "execution_count": null,
   "metadata": {},
   "outputs": [],
   "source": [
    "squares_1 = {1: 1, 2: 4, 3: 9, 4: 16, 5: 25}\n",
    "\n",
    "# Use pop() to remove a particular item and returns its value\n",
    "print(squares_1.pop(4))"
   ]
  },
  {
   "cell_type": "code",
   "execution_count": null,
   "metadata": {},
   "outputs": [],
   "source": [
    "print(squares_1)"
   ]
  },
  {
   "cell_type": "code",
   "execution_count": null,
   "metadata": {},
   "outputs": [],
   "source": [
    "word_frequency_1 = {\"Hello\" : 7, \"hi\" : 10, \"there\" : 45, \"at\" : 23, \"this\" : 77}\n",
    "print(word_frequency_1.pop(\"there\"))"
   ]
  },
  {
   "cell_type": "code",
   "execution_count": null,
   "metadata": {},
   "outputs": [],
   "source": [
    "print(word_frequency_1)"
   ]
  },
  {
   "cell_type": "markdown",
   "metadata": {},
   "source": [
    "### 1.5.20 Removing Elements from Dictionary with popitem()\n",
    "\n",
    "▪ The **popitem()** method can be used to remove and return the last (key, value) item pair from the dictionary."
   ]
  },
  {
   "cell_type": "code",
   "execution_count": null,
   "metadata": {},
   "outputs": [],
   "source": [
    "# Use popitem() to remove the last item, return (key,value)\n",
    "print(squares_1.popitem())"
   ]
  },
  {
   "cell_type": "code",
   "execution_count": null,
   "metadata": {},
   "outputs": [],
   "source": [
    "print(squares_1)"
   ]
  },
  {
   "cell_type": "code",
   "execution_count": null,
   "metadata": {},
   "outputs": [],
   "source": [
    "print(word_frequency_1.popitem())"
   ]
  },
  {
   "cell_type": "code",
   "execution_count": null,
   "metadata": {},
   "outputs": [],
   "source": [
    "print(word_frequency_1)"
   ]
  },
  {
   "cell_type": "markdown",
   "metadata": {},
   "source": [
    "### 1.5.21 Removing Elements from Dictionary with clear()"
   ]
  },
  {
   "cell_type": "code",
   "execution_count": null,
   "metadata": {},
   "outputs": [],
   "source": [
    "# Remove all items with clear()\n",
    "squares_1.clear()"
   ]
  },
  {
   "cell_type": "code",
   "execution_count": null,
   "metadata": {},
   "outputs": [],
   "source": [
    "print(squares_1)"
   ]
  },
  {
   "cell_type": "markdown",
   "metadata": {},
   "source": [
    "### 1.5.22 Removing Elements from Dictionary with del Keyword"
   ]
  },
  {
   "cell_type": "code",
   "execution_count": null,
   "metadata": {},
   "outputs": [],
   "source": [
    "# Delete the dictionary itself with the del keyword\n",
    "del squares_1"
   ]
  },
  {
   "cell_type": "code",
   "execution_count": null,
   "metadata": {},
   "outputs": [],
   "source": [
    "print(squares_1)"
   ]
  },
  {
   "cell_type": "markdown",
   "metadata": {},
   "source": [
    "<span style = \"color:red\">\n",
    "    \n",
    "**Exercise \\#11: With the use of the text stored in a variable named string given in following code cell, write python code that makes use of list comprehension to create a dictionary where a key represents a unique word and its value represents its frequency. (Remark: The block of text can be split into words using split().)**\n",
    "\n",
    "</span>"
   ]
  },
  {
   "cell_type": "code",
   "execution_count": null,
   "metadata": {},
   "outputs": [],
   "source": [
    "string = \"machine learning is a branch of artificial intelligence and computer science which focuses on the use of data and algorithms to imitate the way that humans learn gradually improving its accuracy ibm has a rich history with machine learning one of its own arthur samuel is credited for coining the term machine learning with his research around the game of checkers robert nealey the self proclaimed checkers master played the game on an ibm computer and he lost to the computer compared to what can be done today this feat seems trivial but it is considered a major milestone in the field of artificial intelligence over the last couple of decades the technological advances in storage and processing power have enabled some innovative products based on machine learning such as netflix recommendation engine and self driving cars machine learning is an important component of the growing field of data science through the use of statistical methods algorithms are trained to make classifications or predictions and to uncover key insights in data mining projects these insights subsequently drive decision making within applications and businesses ideally impacting key growth metrics as big data continues to expand and grow the market demand for data scientists will increase they will be required to help identify the most relevant business questions and the data to answer them machine learning algorithms are typically created using frameworks that accelerate solution development such as tensorflow and pytorch\""
   ]
  },
  {
   "cell_type": "code",
   "execution_count": null,
   "metadata": {},
   "outputs": [],
   "source": []
  }
 ],
 "metadata": {
  "kernelspec": {
   "display_name": "Python 3 (ipykernel)",
   "language": "python",
   "name": "python3"
  },
  "language_info": {
   "codemirror_mode": {
    "name": "ipython",
    "version": 3
   },
   "file_extension": ".py",
   "mimetype": "text/x-python",
   "name": "python",
   "nbconvert_exporter": "python",
   "pygments_lexer": "ipython3",
   "version": "3.11.5"
  }
 },
 "nbformat": 4,
 "nbformat_minor": 4
}
